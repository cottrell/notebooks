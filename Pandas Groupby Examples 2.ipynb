{
 "metadata": {
  "name": "",
  "signature": "sha256:08671b423d7424c453902637e7c83b25e439a63b0925818424d7cbf2ecb41454"
 },
 "nbformat": 3,
 "nbformat_minor": 0,
 "worksheets": [
  {
   "cells": [
    {
     "cell_type": "markdown",
     "metadata": {},
     "source": [
      "# Pandas groupby hack for timings\n",
      "\n",
      "* <a href='#tests'>tests</a>\n",
      "* <a href='#plots'>plots</a>"
     ]
    },
    {
     "cell_type": "code",
     "collapsed": false,
     "input": [
      "import pandas\n",
      "import itertools\n",
      "import string\n",
      "import random\n",
      "import timeit\n",
      "import numpy"
     ],
     "language": "python",
     "metadata": {},
     "outputs": [],
     "prompt_number": 149
    },
    {
     "cell_type": "markdown",
     "metadata": {},
     "source": [
      "## setup"
     ]
    },
    {
     "cell_type": "code",
     "collapsed": false,
     "input": [
      "%%time\n",
      "\n",
      "def expand_grid(data_dict):\n",
      "    rows = itertools.product(*data_dict.values())\n",
      "    return pandas.DataFrame.from_records(rows, columns=data_dict.keys())\n",
      "\n",
      "def randstring(size=6, chars=string.ascii_uppercase + string.digits):\n",
      "    return ''.join(random.choice(chars) for _ in range(size))\n",
      "\n",
      "m = 20\n",
      "n = 2\n",
      "min_word = 3\n",
      "max_word = 10\n",
      "\n",
      "d = dict()\n",
      "for k in string.ascii_lowercase[:m]:\n",
      "    d[k] = [randstring(size=random.randint(min_word, max_word)) for x in range(n)]\n",
      "\n",
      "df = expand_grid(d)\n",
      "df['value'] = randn(df.shape[0])\n",
      "df = df.set_index(list(df.columns[:-1]))['value']"
     ],
     "language": "python",
     "metadata": {},
     "outputs": [
      {
       "output_type": "stream",
       "stream": "stdout",
       "text": [
        "CPU times: user 3.89 s, sys: 1.05 s, total: 4.94 s\n",
        "Wall time: 4.96 s\n"
       ]
      }
     ],
     "prompt_number": 150
    },
    {
     "cell_type": "code",
     "collapsed": false,
     "input": [
      "print(df.shape)\n",
      "df.head().T"
     ],
     "language": "python",
     "metadata": {},
     "outputs": [
      {
       "output_type": "stream",
       "stream": "stdout",
       "text": [
        "(1048576,)\n"
       ]
      },
      {
       "metadata": {},
       "output_type": "pyout",
       "prompt_number": 153,
       "text": [
        "s      p      a    o           q           c      j    t           b          e          n     k      d        m       i    r         f    g        h          l         \n",
        "EBX5H  PFLBP  6M7  A06UKK1DAM  TNT22BD2TK  6K1VD  X0K  WTYNLS4GU1  JBEMEEM52  LSZF1J58D  PPG8  01WGQ  YHF3BNK  APFCER  IKW  LLO93QBA  27U  8480JMA  VJVNNPE30  4BJ6K0X       0.445268\n",
        "                                                                                                                                                               FER8UQH8OE    2.540510\n",
        "                                                                                                                                                    6PQ7MH3A   4BJ6K0X      -0.189624\n",
        "                                                                                                                                                               FER8UQH8OE    0.438501\n",
        "                                                                                                                                           TIZ      VJVNNPE30  4BJ6K0X       0.309202\n",
        "Name: value, dtype: float64"
       ]
      }
     ],
     "prompt_number": 153
    },
    {
     "cell_type": "code",
     "collapsed": false,
     "input": [
      "picklefile = '/tmp/data.pickle'\n",
      "df.to_pickle(picklefile)\n"
     ],
     "language": "python",
     "metadata": {},
     "outputs": [],
     "prompt_number": 56
    },
    {
     "cell_type": "markdown",
     "metadata": {},
     "source": [
      "<a id='tests'></a>\n",
      "## tests\n",
      "---"
     ]
    },
    {
     "cell_type": "code",
     "collapsed": false,
     "input": [
      "setup_strings = {\n",
      "'nlevel join to string then groupby':\n",
      "\"\"\"\n",
      "df.index = df.index.to_series().apply(lambda x: ''.join(x[:%(i)s]))\n",
      "\n",
      "def fun():\n",
      "    m = df.groupby(level=0).mean()\n",
      "    return(m)\n",
      "\"\"\",\n",
      "\n",
      "'usual nlevel groupby':\n",
      "\"\"\"\n",
      "cols = df.index.names[:%(i)s]\n",
      "def fun():\n",
      "    m = df.groupby(level=cols).mean()\n",
      "    return(m)\n",
      "\"\"\",\n",
      "\n",
      "'dict hash groupby':\n",
      "\"\"\"\n",
      "# some crazy inefficient hack just to see\n",
      "temp = df.index.to_series().apply(lambda x: ''.join(x[:%(i)s]))\n",
      "i_to_labels = dict(enumerate(temp.unique()))\n",
      "labels_to_i = {v: k for k, v in i_to_labels.items()}\n",
      "df.index = temp\n",
      "iii = df.index.to_series().apply(lambda x: labels_to_i[x]).values\n",
      "df.index = iii\n",
      "\n",
      "def fun():\n",
      "    m = df.groupby(level=0).mean()\n",
      "    return(m)\n",
      "\"\"\"\n",
      "}\n",
      "\n",
      "\n",
      "base_string = \"\"\"\n",
      "import pandas\n",
      "df = pandas.read_pickle('%s')\n",
      "\"\"\" % picklefile"
     ],
     "language": "python",
     "metadata": {},
     "outputs": [],
     "prompt_number": 124
    },
    {
     "cell_type": "code",
     "collapsed": false,
     "input": [
      "%%time\n",
      "\n",
      "nvec = list(range(1, m))\n",
      "T = dict()\n",
      "for j, (k, v) in enumerate(setup_strings.items()):\n",
      "    t = list()\n",
      "    for i in nvec:\n",
      "        s = base_string + v % {'i': i}\n",
      "        stmt = \"fun()\"\n",
      "        t.append(timeit.timeit(stmt, s, number=3))\n",
      "        print('(%d, %d)' % (i, j), end=' ')\n",
      "    T[k] = t"
     ],
     "language": "python",
     "metadata": {},
     "outputs": [
      {
       "output_type": "stream",
       "stream": "stdout",
       "text": [
        "(1, 0) (2, 0)"
       ]
      },
      {
       "output_type": "stream",
       "stream": "stdout",
       "text": [
        " (3, 0)"
       ]
      },
      {
       "output_type": "stream",
       "stream": "stdout",
       "text": [
        " (4, 0)"
       ]
      },
      {
       "output_type": "stream",
       "stream": "stdout",
       "text": [
        " (5, 0)"
       ]
      },
      {
       "output_type": "stream",
       "stream": "stdout",
       "text": [
        " (6, 0)"
       ]
      },
      {
       "output_type": "stream",
       "stream": "stdout",
       "text": [
        " (7, 0)"
       ]
      },
      {
       "output_type": "stream",
       "stream": "stdout",
       "text": [
        " (8, 0)"
       ]
      },
      {
       "output_type": "stream",
       "stream": "stdout",
       "text": [
        " (9, 0)"
       ]
      },
      {
       "output_type": "stream",
       "stream": "stdout",
       "text": [
        " (10, 0)"
       ]
      },
      {
       "output_type": "stream",
       "stream": "stdout",
       "text": [
        " (11, 0)"
       ]
      },
      {
       "output_type": "stream",
       "stream": "stdout",
       "text": [
        " (12, 0)"
       ]
      },
      {
       "output_type": "stream",
       "stream": "stdout",
       "text": [
        " (13, 0)"
       ]
      },
      {
       "output_type": "stream",
       "stream": "stdout",
       "text": [
        " (14, 0)"
       ]
      },
      {
       "output_type": "stream",
       "stream": "stdout",
       "text": [
        " (15, 0)"
       ]
      },
      {
       "output_type": "stream",
       "stream": "stdout",
       "text": [
        " (16, 0)"
       ]
      },
      {
       "output_type": "stream",
       "stream": "stdout",
       "text": [
        " (17, 0)"
       ]
      },
      {
       "output_type": "stream",
       "stream": "stdout",
       "text": [
        " (18, 0)"
       ]
      },
      {
       "output_type": "stream",
       "stream": "stdout",
       "text": [
        " (19, 0)"
       ]
      },
      {
       "output_type": "stream",
       "stream": "stdout",
       "text": [
        " (1, 1)"
       ]
      },
      {
       "output_type": "stream",
       "stream": "stdout",
       "text": [
        " (2, 1)"
       ]
      },
      {
       "output_type": "stream",
       "stream": "stdout",
       "text": [
        " (3, 1)"
       ]
      },
      {
       "output_type": "stream",
       "stream": "stdout",
       "text": [
        " (4, 1)"
       ]
      },
      {
       "output_type": "stream",
       "stream": "stdout",
       "text": [
        " (5, 1)"
       ]
      },
      {
       "output_type": "stream",
       "stream": "stdout",
       "text": [
        " (6, 1)"
       ]
      },
      {
       "output_type": "stream",
       "stream": "stdout",
       "text": [
        " (7, 1)"
       ]
      },
      {
       "output_type": "stream",
       "stream": "stdout",
       "text": [
        " (8, 1)"
       ]
      },
      {
       "output_type": "stream",
       "stream": "stdout",
       "text": [
        " (9, 1)"
       ]
      },
      {
       "output_type": "stream",
       "stream": "stdout",
       "text": [
        " (10, 1)"
       ]
      },
      {
       "output_type": "stream",
       "stream": "stdout",
       "text": [
        " (11, 1)"
       ]
      },
      {
       "output_type": "stream",
       "stream": "stdout",
       "text": [
        " (12, 1)"
       ]
      },
      {
       "output_type": "stream",
       "stream": "stdout",
       "text": [
        " (13, 1)"
       ]
      },
      {
       "output_type": "stream",
       "stream": "stdout",
       "text": [
        " (14, 1)"
       ]
      },
      {
       "output_type": "stream",
       "stream": "stdout",
       "text": [
        " (15, 1)"
       ]
      },
      {
       "output_type": "stream",
       "stream": "stdout",
       "text": [
        " (16, 1)"
       ]
      },
      {
       "output_type": "stream",
       "stream": "stdout",
       "text": [
        " (17, 1)"
       ]
      },
      {
       "output_type": "stream",
       "stream": "stdout",
       "text": [
        " (18, 1)"
       ]
      },
      {
       "output_type": "stream",
       "stream": "stdout",
       "text": [
        " (19, 1)"
       ]
      },
      {
       "output_type": "stream",
       "stream": "stdout",
       "text": [
        " (1, 2)"
       ]
      },
      {
       "output_type": "stream",
       "stream": "stdout",
       "text": [
        " (2, 2)"
       ]
      },
      {
       "output_type": "stream",
       "stream": "stdout",
       "text": [
        " (3, 2)"
       ]
      },
      {
       "output_type": "stream",
       "stream": "stdout",
       "text": [
        " (4, 2)"
       ]
      },
      {
       "output_type": "stream",
       "stream": "stdout",
       "text": [
        " (5, 2)"
       ]
      },
      {
       "output_type": "stream",
       "stream": "stdout",
       "text": [
        " (6, 2)"
       ]
      },
      {
       "output_type": "stream",
       "stream": "stdout",
       "text": [
        " (7, 2)"
       ]
      },
      {
       "output_type": "stream",
       "stream": "stdout",
       "text": [
        " (8, 2)"
       ]
      },
      {
       "output_type": "stream",
       "stream": "stdout",
       "text": [
        " (9, 2)"
       ]
      },
      {
       "output_type": "stream",
       "stream": "stdout",
       "text": [
        " (10, 2)"
       ]
      },
      {
       "output_type": "stream",
       "stream": "stdout",
       "text": [
        " (11, 2)"
       ]
      },
      {
       "output_type": "stream",
       "stream": "stdout",
       "text": [
        " (12, 2)"
       ]
      },
      {
       "output_type": "stream",
       "stream": "stdout",
       "text": [
        " (13, 2)"
       ]
      },
      {
       "output_type": "stream",
       "stream": "stdout",
       "text": [
        " (14, 2)"
       ]
      },
      {
       "output_type": "stream",
       "stream": "stdout",
       "text": [
        " (15, 2)"
       ]
      },
      {
       "output_type": "stream",
       "stream": "stdout",
       "text": [
        " (16, 2)"
       ]
      },
      {
       "output_type": "stream",
       "stream": "stdout",
       "text": [
        " (17, 2)"
       ]
      },
      {
       "output_type": "stream",
       "stream": "stdout",
       "text": [
        " (18, 2)"
       ]
      },
      {
       "output_type": "stream",
       "stream": "stdout",
       "text": [
        " (19, 2)"
       ]
      },
      {
       "output_type": "stream",
       "stream": "stdout",
       "text": [
        " CPU times: user 2min 26s, sys: 30.3 s, total: 2min 56s\n",
        "Wall time: 2min 57s\n"
       ]
      }
     ],
     "prompt_number": 125
    },
    {
     "cell_type": "markdown",
     "metadata": {},
     "source": [
      "<a id='plots'></a>\n",
      "## plots\n",
      "---"
     ]
    },
    {
     "cell_type": "code",
     "collapsed": false,
     "input": [
      "%pylab inline\n",
      "\n",
      "dd = pandas.DataFrame(T)\n",
      "\n",
      "figure(figsize=(12, 8))\n",
      "kwargs = dict(alpha=0.5, linewidth=3, style='o-')\n",
      "ax = subplot(211)\n",
      "p = dd.plot(ax=ax, **kwargs)\n",
      "ylabel('time (seconds)')\n",
      "ax = subplot(212)\n",
      "p = dd.plot(ax=ax, logy=True, **kwargs)\n",
      "xlabel('nlevels in groupby')\n",
      "ylabel('time (seconds)')\n",
      "None"
     ],
     "language": "python",
     "metadata": {},
     "outputs": [
      {
       "output_type": "stream",
       "stream": "stdout",
       "text": [
        "Populating the interactive namespace from numpy and matplotlib\n"
       ]
      },
      {
       "metadata": {},
       "output_type": "display_data",
       "png": "[encoded data removed]",
       "text": [
        "<matplotlib.figure.Figure at 0x1691a9390>"
       ]
      }
     ],
     "prompt_number": 181
    },
    {
     "cell_type": "code",
     "collapsed": false,
     "input": [
      "res = dict()\n",
      "\n",
      "for k, v in setup_strings.items():\n",
      "    vv = v % {'i': 6}\n",
      "    exec(base_string + vv)\n",
      "    res[k] = fun()\n",
      "    print(k, res[k].shape)"
     ],
     "language": "python",
     "metadata": {},
     "outputs": [
      {
       "output_type": "stream",
       "stream": "stdout",
       "text": [
        "usual nlevel groupby (64,)\n",
        "dict hash groupby"
       ]
      },
      {
       "output_type": "stream",
       "stream": "stdout",
       "text": [
        " (64,)\n",
        "nlevel join to string then groupby"
       ]
      },
      {
       "output_type": "stream",
       "stream": "stdout",
       "text": [
        " (64,)\n"
       ]
      }
     ],
     "prompt_number": 127
    },
    {
     "cell_type": "code",
     "collapsed": false,
     "input": [
      "# a weak check of the groupby methods\n",
      "for k in res:\n",
      "    res[k].sort()\n",
      "    res[k].index = arange(res[k].shape[0])\n",
      "\n",
      "out = pandas.DataFrame(res)\n",
      "(out.T.max() - out.T.min()).abs().max()"
     ],
     "language": "python",
     "metadata": {},
     "outputs": [
      {
       "metadata": {},
       "output_type": "pyout",
       "prompt_number": 143,
       "text": [
        "0.0"
       ]
      }
     ],
     "prompt_number": 143
    },
    {
     "cell_type": "code",
     "collapsed": false,
     "input": [
      "plot(res[K[0]].values, res[K[1]].values, '.')\n",
      "plot(res[K[0]].values, res[K[2]].values, '.')\n",
      "grid()"
     ],
     "language": "python",
     "metadata": {},
     "outputs": [
      {
       "metadata": {},
       "output_type": "display_data",
       "png": "[encoded data removed]",
       "text": [
        "<matplotlib.figure.Figure at 0x150cb6c18>"
       ]
      }
     ],
     "prompt_number": 145
    },
    {
     "cell_type": "code",
     "collapsed": false,
     "input": [],
     "language": "python",
     "metadata": {},
     "outputs": []
    }
   ],
   "metadata": {}
  }
 ]
}