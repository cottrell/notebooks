{
 "metadata": {
  "name": "",
  "signature": "sha256:894cdec02523d15df5e915c883a4a332c27e90c6f783ff1fa8b23049b1a05f43"
 },
 "nbformat": 3,
 "nbformat_minor": 0,
 "worksheets": [
  {
   "cells": [
    {
     "cell_type": "markdown",
     "metadata": {},
     "source": [
      "# Pandas groupby hack for timings\n",
      "\n",
      "* <a href='#tests'>tests</a>\n",
      "* <a href='#plots'>plots</a>"
     ]
    },
    {
     "cell_type": "code",
     "collapsed": false,
     "input": [
      "import pandas\n",
      "import itertools\n",
      "import string\n",
      "import random\n",
      "import timeit\n",
      "import numpy"
     ],
     "language": "python",
     "metadata": {},
     "outputs": [],
     "prompt_number": 12
    },
    {
     "cell_type": "markdown",
     "metadata": {},
     "source": [
      "## setup"
     ]
    },
    {
     "cell_type": "code",
     "collapsed": false,
     "input": [
      "%%time\n",
      "\n",
      "def expand_grid(data_dict):\n",
      "    rows = itertools.product(*data_dict.values())\n",
      "    return pandas.DataFrame.from_records(rows, columns=data_dict.keys())\n",
      "\n",
      "def randstring(size=6, chars=string.ascii_uppercase + string.digits):\n",
      "    return ''.join(random.choice(chars) for _ in range(size))\n",
      "\n",
      "m = 20\n",
      "n = 2\n",
      "min_word = 3\n",
      "max_word = 10\n",
      "\n",
      "d = dict()\n",
      "for k in string.ascii_lowercase[:m]:\n",
      "    d[k] = [randstring(size=random.randint(min_word, max_word)) for x in range(n)]\n",
      "\n",
      "df = expand_grid(d)\n",
      "df['value'] = randn(df.shape[0])\n",
      "df = df.set_index(list(df.columns[:-1]))['value']"
     ],
     "language": "python",
     "metadata": {},
     "outputs": [
      {
       "output_type": "stream",
       "stream": "stdout",
       "text": [
        "CPU times: user 3.9 s, sys: 1.03 s, total: 4.93 s\n",
        "Wall time: 4.95 s\n"
       ]
      }
     ],
     "prompt_number": 13
    },
    {
     "cell_type": "code",
     "collapsed": false,
     "input": [
      "print(df.shape)\n",
      "df.head().T"
     ],
     "language": "python",
     "metadata": {},
     "outputs": [
      {
       "output_type": "stream",
       "stream": "stdout",
       "text": [
        "(1048576,)\n"
       ]
      },
      {
       "metadata": {},
       "output_type": "pyout",
       "prompt_number": 14,
       "text": [
        "g      o      d       q           a       i    c           r           s       h       n      b          m          l     p          f           e        k       j           t      \n",
        "MBQW7  AMZK8  FEJ5CD  6HXAG70NX9  BFERHI  MFN  AY0677DCUC  7DV2FJ7F5L  WVIYWZ  O83F9S  MYG7Y  0S83TAC53  3ZVM4ZKWB  GKFM  P5XNBWZD1  9TUNVY9NGH  FBW073R  KX12Z9  YUE2JPYE51  I2D1       0.155200\n",
        "                                                                                                                                                                              K088DCS   -0.372402\n",
        "                                                                                                                                                                  68AC9FI     I2D1       0.034287\n",
        "                                                                                                                                                                              K088DCS    0.681974\n",
        "                                                                                                                                                          ZEC79G  YUE2JPYE51  I2D1       0.155303\n",
        "Name: value, dtype: float64"
       ]
      }
     ],
     "prompt_number": 14
    },
    {
     "cell_type": "code",
     "collapsed": false,
     "input": [
      "picklefile = '/tmp/data.pickle'\n",
      "df.to_pickle(picklefile)\n"
     ],
     "language": "python",
     "metadata": {},
     "outputs": [],
     "prompt_number": 15
    },
    {
     "cell_type": "markdown",
     "metadata": {},
     "source": [
      "<a id='tests'></a>\n",
      "## tests\n",
      "---"
     ]
    },
    {
     "cell_type": "code",
     "collapsed": false,
     "input": [
      "setup_strings = {\n",
      "'nlevel join to string then groupby':\n",
      "\"\"\"\n",
      "df.index = df.index.to_series().apply(lambda x: ''.join(x[:%(i)s]))\n",
      "\n",
      "def fun():\n",
      "    m = df.groupby(level=0).mean()\n",
      "    return(m)\n",
      "\"\"\",\n",
      "\n",
      "'usual nlevel groupby':\n",
      "\"\"\"\n",
      "cols = df.index.names[:%(i)s]\n",
      "def fun():\n",
      "    m = df.groupby(level=cols).mean()\n",
      "    return(m)\n",
      "\"\"\",\n",
      "\n",
      "'dict hash groupby':\n",
      "\"\"\"\n",
      "# some crazy inefficient hack just to see\n",
      "temp = df.index.to_series().apply(lambda x: ''.join(x[:%(i)s]))\n",
      "i_to_labels = dict(enumerate(temp.unique()))\n",
      "labels_to_i = {v: k for k, v in i_to_labels.items()}\n",
      "df.index = temp\n",
      "iii = df.index.to_series().apply(lambda x: labels_to_i[x]).values\n",
      "df.index = iii\n",
      "\n",
      "def fun():\n",
      "    m = df.groupby(level=0).mean()\n",
      "    return(m)\n",
      "\"\"\"\n",
      "}\n",
      "\n",
      "\n",
      "base_string = \"\"\"\n",
      "import pandas\n",
      "df = pandas.read_pickle('%s')\n",
      "\"\"\" % picklefile"
     ],
     "language": "python",
     "metadata": {},
     "outputs": [],
     "prompt_number": 16
    },
    {
     "cell_type": "code",
     "collapsed": false,
     "input": [
      "%%time\n",
      "\n",
      "nvec = list(range(1, m))\n",
      "T = dict()\n",
      "for j, (k, v) in enumerate(setup_strings.items()):\n",
      "    t = list()\n",
      "    for i in nvec:\n",
      "        s = base_string + v % {'i': i}\n",
      "        stmt = \"fun()\"\n",
      "        t.append(timeit.timeit(stmt, s, number=3))\n",
      "        print('(%d, %d)' % (i, j), end=' ')\n",
      "    T[k] = t"
     ],
     "language": "python",
     "metadata": {},
     "outputs": [
      {
       "output_type": "stream",
       "stream": "stdout",
       "text": [
        "(1, 0) (2, 0)"
       ]
      },
      {
       "output_type": "stream",
       "stream": "stdout",
       "text": [
        " (3, 0)"
       ]
      },
      {
       "output_type": "stream",
       "stream": "stdout",
       "text": [
        " (4, 0)"
       ]
      },
      {
       "output_type": "stream",
       "stream": "stdout",
       "text": [
        " (5, 0)"
       ]
      },
      {
       "output_type": "stream",
       "stream": "stdout",
       "text": [
        " (6, 0)"
       ]
      },
      {
       "output_type": "stream",
       "stream": "stdout",
       "text": [
        " (7, 0)"
       ]
      },
      {
       "output_type": "stream",
       "stream": "stdout",
       "text": [
        " (8, 0)"
       ]
      },
      {
       "output_type": "stream",
       "stream": "stdout",
       "text": [
        " (9, 0)"
       ]
      },
      {
       "output_type": "stream",
       "stream": "stdout",
       "text": [
        " (10, 0)"
       ]
      },
      {
       "output_type": "stream",
       "stream": "stdout",
       "text": [
        " (11, 0)"
       ]
      },
      {
       "output_type": "stream",
       "stream": "stdout",
       "text": [
        " (12, 0)"
       ]
      },
      {
       "output_type": "stream",
       "stream": "stdout",
       "text": [
        " (13, 0)"
       ]
      },
      {
       "output_type": "stream",
       "stream": "stdout",
       "text": [
        " (14, 0)"
       ]
      },
      {
       "output_type": "stream",
       "stream": "stdout",
       "text": [
        " (15, 0)"
       ]
      },
      {
       "output_type": "stream",
       "stream": "stdout",
       "text": [
        " (16, 0)"
       ]
      },
      {
       "output_type": "stream",
       "stream": "stdout",
       "text": [
        " (17, 0)"
       ]
      },
      {
       "output_type": "stream",
       "stream": "stdout",
       "text": [
        " (18, 0)"
       ]
      },
      {
       "output_type": "stream",
       "stream": "stdout",
       "text": [
        " (19, 0)"
       ]
      },
      {
       "output_type": "stream",
       "stream": "stdout",
       "text": [
        " (1, 1)"
       ]
      },
      {
       "output_type": "stream",
       "stream": "stdout",
       "text": [
        " (2, 1)"
       ]
      },
      {
       "output_type": "stream",
       "stream": "stdout",
       "text": [
        " (3, 1)"
       ]
      },
      {
       "output_type": "stream",
       "stream": "stdout",
       "text": [
        " (4, 1)"
       ]
      },
      {
       "output_type": "stream",
       "stream": "stdout",
       "text": [
        " (5, 1)"
       ]
      },
      {
       "output_type": "stream",
       "stream": "stdout",
       "text": [
        " (6, 1)"
       ]
      },
      {
       "output_type": "stream",
       "stream": "stdout",
       "text": [
        " (7, 1)"
       ]
      },
      {
       "output_type": "stream",
       "stream": "stdout",
       "text": [
        " (8, 1)"
       ]
      },
      {
       "output_type": "stream",
       "stream": "stdout",
       "text": [
        " (9, 1)"
       ]
      },
      {
       "output_type": "stream",
       "stream": "stdout",
       "text": [
        " (10, 1)"
       ]
      },
      {
       "output_type": "stream",
       "stream": "stdout",
       "text": [
        " (11, 1)"
       ]
      },
      {
       "output_type": "stream",
       "stream": "stdout",
       "text": [
        " (12, 1)"
       ]
      },
      {
       "output_type": "stream",
       "stream": "stdout",
       "text": [
        " (13, 1)"
       ]
      },
      {
       "output_type": "stream",
       "stream": "stdout",
       "text": [
        " (14, 1)"
       ]
      },
      {
       "output_type": "stream",
       "stream": "stdout",
       "text": [
        " (15, 1)"
       ]
      },
      {
       "output_type": "stream",
       "stream": "stdout",
       "text": [
        " (16, 1)"
       ]
      },
      {
       "output_type": "stream",
       "stream": "stdout",
       "text": [
        " (17, 1)"
       ]
      },
      {
       "output_type": "stream",
       "stream": "stdout",
       "text": [
        " (18, 1)"
       ]
      },
      {
       "output_type": "stream",
       "stream": "stdout",
       "text": [
        " (19, 1)"
       ]
      },
      {
       "output_type": "stream",
       "stream": "stdout",
       "text": [
        " (1, 2)"
       ]
      },
      {
       "output_type": "stream",
       "stream": "stdout",
       "text": [
        " (2, 2)"
       ]
      },
      {
       "output_type": "stream",
       "stream": "stdout",
       "text": [
        " (3, 2)"
       ]
      },
      {
       "output_type": "stream",
       "stream": "stdout",
       "text": [
        " (4, 2)"
       ]
      },
      {
       "output_type": "stream",
       "stream": "stdout",
       "text": [
        " (5, 2)"
       ]
      },
      {
       "output_type": "stream",
       "stream": "stdout",
       "text": [
        " (6, 2)"
       ]
      },
      {
       "output_type": "stream",
       "stream": "stdout",
       "text": [
        " (7, 2)"
       ]
      },
      {
       "output_type": "stream",
       "stream": "stdout",
       "text": [
        " (8, 2)"
       ]
      },
      {
       "output_type": "stream",
       "stream": "stdout",
       "text": [
        " (9, 2)"
       ]
      },
      {
       "output_type": "stream",
       "stream": "stdout",
       "text": [
        " (10, 2)"
       ]
      },
      {
       "output_type": "stream",
       "stream": "stdout",
       "text": [
        " (11, 2)"
       ]
      },
      {
       "output_type": "stream",
       "stream": "stdout",
       "text": [
        " (12, 2)"
       ]
      },
      {
       "output_type": "stream",
       "stream": "stdout",
       "text": [
        " (13, 2)"
       ]
      },
      {
       "output_type": "stream",
       "stream": "stdout",
       "text": [
        " (14, 2)"
       ]
      },
      {
       "output_type": "stream",
       "stream": "stdout",
       "text": [
        " (15, 2)"
       ]
      },
      {
       "output_type": "stream",
       "stream": "stdout",
       "text": [
        " (16, 2)"
       ]
      },
      {
       "output_type": "stream",
       "stream": "stdout",
       "text": [
        " (17, 2)"
       ]
      },
      {
       "output_type": "stream",
       "stream": "stdout",
       "text": [
        " (18, 2)"
       ]
      },
      {
       "output_type": "stream",
       "stream": "stdout",
       "text": [
        " (19, 2)"
       ]
      },
      {
       "output_type": "stream",
       "stream": "stdout",
       "text": [
        " CPU times: user 2min 31s, sys: 29.2 s, total: 3min\n",
        "Wall time: 3min 2s\n"
       ]
      }
     ],
     "prompt_number": 17
    },
    {
     "cell_type": "markdown",
     "metadata": {},
     "source": [
      "<a id='plots'></a>\n",
      "## plots"
     ]
    },
    {
     "cell_type": "code",
     "collapsed": false,
     "input": [
      "%pylab inline\n",
      "\n",
      "dd = pandas.DataFrame(T)\n",
      "\n",
      "figure(figsize=(12, 8))\n",
      "kwargs = dict(alpha=0.5, linewidth=3, style='o-')\n",
      "ax = subplot(211)\n",
      "p = dd.plot(ax=ax, **kwargs)\n",
      "ylabel('time (seconds)')\n",
      "ax = subplot(212)\n",
      "p = dd.plot(ax=ax, logy=True, **kwargs)\n",
      "xlabel('nlevels in groupby')\n",
      "ylabel('time (seconds)')\n",
      "None"
     ],
     "language": "python",
     "metadata": {},
     "outputs": [
      {
       "output_type": "stream",
       "stream": "stdout",
       "text": [
        "Populating the interactive namespace from numpy and matplotlib\n"
       ]
      },
      {
       "metadata": {},
       "output_type": "display_data",
       "png": "[encoded data removed]",
       "text": [
        "<matplotlib.figure.Figure at 0x126aea780>"
       ]
      }
     ],
     "prompt_number": 22
    },
    {
     "cell_type": "code",
     "collapsed": false,
     "input": [
      "res = dict()\n",
      "\n",
      "for k, v in setup_strings.items():\n",
      "    vv = v % {'i': 6}\n",
      "    exec(base_string + vv)\n",
      "    res[k] = fun()\n",
      "    print(k, res[k].shape)"
     ],
     "language": "python",
     "metadata": {},
     "outputs": [
      {
       "output_type": "stream",
       "stream": "stdout",
       "text": [
        "dict hash groupby (64,)\n",
        "usual nlevel groupby"
       ]
      },
      {
       "output_type": "stream",
       "stream": "stdout",
       "text": [
        " (64,)\n",
        "nlevel join to string then groupby"
       ]
      },
      {
       "output_type": "stream",
       "stream": "stdout",
       "text": [
        " (64,)\n"
       ]
      }
     ],
     "prompt_number": 23
    },
    {
     "cell_type": "code",
     "collapsed": false,
     "input": [
      "# a weak check of the groupby methods\n",
      "for k in res:\n",
      "    res[k].sort()\n",
      "    res[k].index = arange(res[k].shape[0])\n",
      "\n",
      "out = pandas.DataFrame(res)\n",
      "(out.T.max() - out.T.min()).abs().max()"
     ],
     "language": "python",
     "metadata": {},
     "outputs": [
      {
       "metadata": {},
       "output_type": "pyout",
       "prompt_number": 24,
       "text": [
        "0.0"
       ]
      }
     ],
     "prompt_number": 24
    },
    {
     "cell_type": "code",
     "collapsed": false,
     "input": [
      "K = list(res.keys())\n",
      "plot(res[K[0]].values, res[K[1]].values, '.')\n",
      "plot(res[K[0]].values, res[K[2]].values, '.')\n",
      "grid()"
     ],
     "language": "python",
     "metadata": {},
     "outputs": [
      {
       "metadata": {},
       "output_type": "display_data",
       "png": "[encoded data removed]",
       "text": [
        "<matplotlib.figure.Figure at 0x13d2b4748>"
       ]
      }
     ],
     "prompt_number": 25
    },
    {
     "cell_type": "code",
     "collapsed": false,
     "input": [],
     "language": "python",
     "metadata": {},
     "outputs": [],
     "prompt_number": 21
    }
   ],
   "metadata": {}
  }
 ]
}