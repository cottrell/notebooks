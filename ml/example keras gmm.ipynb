{
 "cells": [
  {
   "cell_type": "markdown",
   "metadata": {},
   "source": [
    "See here: https://github.com/fchollet/keras/issues/1061"
   ]
  },
  {
   "cell_type": "code",
   "execution_count": 32,
   "metadata": {
    "collapsed": false
   },
   "outputs": [
    {
     "name": "stdout",
     "output_type": "stream",
     "text": [
      "(135, 6) (135, 1) (15, 6) (15, 1)\n"
     ]
    }
   ],
   "source": [
    "# %load gmm.py\n",
    "\"\"\"\n",
    "See here: https://github.com/fchollet/keras/issues/1061\n",
    "\"\"\"\n",
    "from keras.models import Sequential\n",
    "from keras.layers.core import Dense, Dropout, Activation, Layer\n",
    "from keras.optimizers import SGD\n",
    "\n",
    "### load data\n",
    "from imp import reload\n",
    "import site; site.addsitedir('..')\n",
    "import mylib.data as md\n",
    "reload(md)\n",
    "\n",
    "df, dfd = md.iris()\n",
    "\n",
    "y_cols = ['petal length (cm)']\n",
    "x_cols = [x for x in dfd.columns if x not in y_cols]\n",
    "\n",
    "from sklearn.cross_validation import train_test_split\n",
    "\n",
    "X_train, X_test, y_train, y_test = train_test_split(dfd[x_cols].values,\n",
    "        dfd[y_cols].values, test_size=0.1)\n",
    "\n",
    "input_dim = X_train.shape[1]\n",
    "\n",
    "print(X_train.shape, y_train.shape, X_test.shape, y_test.shape)\n",
    "\n",
    "from keras.models import Sequential\n",
    "from keras.layers.core import Dense, Dropout, Activation, Layer\n",
    "from keras.optimizers import SGD\n",
    "from theano import tensor as T\n",
    "import theano\n",
    "\n",
    "class GMMActivation(Layer):\n",
    "    \"\"\"\n",
    "    GMM-like activation function.\n",
    "    Assumes that input has (D+2)*M dimensions, where D is the dimensionality of the\n",
    "    target data. The first M*D features are treated as means, the next M features as\n",
    "    standard devs and the last M features as mixture components of the GMM.\n",
    "    \"\"\"\n",
    "    def __init__(self, M, D, **kwargs):\n",
    "        super(GMMActivation, self).__init__(**kwargs)\n",
    "        self.M = M\n",
    "        self.D = D\n",
    "\n",
    "    def get_output(self, train=False):\n",
    "      X = self.get_input(train)\n",
    "      # D = T.shape(X)[1]/self.M - 2\n",
    "      # leave mu values as they are since they're unconstrained\n",
    "      # scale sigmas with exp, s.t. all values are non-negative\n",
    "      X = T.set_subtensor(X[:,D*self.M:(D+1)*self.M], T.exp(X[:,D*self.M:(D+1)*self.M]))\n",
    "      # scale alphas with softmax, s.t. that all values are between [0,1] and sum up to 1\n",
    "      X = T.set_subtensor(X[:,(D+1)*self.M:(D+2)*self.M], T.nnet.softmax(X[:,(D+1)*self.M:(D+2)*self.M]))\n",
    "      return X\n",
    "\n",
    "    def get_config(self):\n",
    "        config = {\"name\": self.__class__.__name__,\n",
    "                  \"M\": self.M}\n",
    "        base_config = super(GMMActivation, self).get_config()\n",
    "        return dict(list(base_config.items()) + list(config.items()))\n",
    "\n",
    "def gmm_loss_factory(M, D):\n",
    "    def gmm_loss(y_true, y_pred):\n",
    "      \"\"\"\n",
    "      GMM loss function.\n",
    "      Assumes that y_pred has (D+2)*M dimensions and y_true has D dimensions. The first\n",
    "      M*D features are treated as means, the next M features as standard devs and the last\n",
    "      M features as mixture components of the GMM.\n",
    "      \"\"\"\n",
    "      def loss(m, M, D, y_true, y_pred):\n",
    "        mu = y_pred[:,D*m:(m+1)*D]\n",
    "        sigma = y_pred[:,D*M+m]\n",
    "        alpha = y_pred[:,(D+1)*M+m]\n",
    "        return (alpha/sigma) * T.exp(-T.sum(T.sqr(mu-y_true),-1)/(2*sigma**2))\n",
    "\n",
    "      # D = T.shape(y_true)[1]\n",
    "      # M = T.shape(y_pred)[1]/(D+2)\n",
    "      seq = T.arange(M)\n",
    "      result, _ = theano.scan(fn=loss, outputs_info=None,\n",
    "        sequences=seq, non_sequences=[M, D, y_true, y_pred])\n",
    "      return -T.log(result.sum(0))\n",
    "    return gmm_loss\n",
    "\n",
    "M = 3\n",
    "D = y_train.shape[1]\n",
    "gmm_loss = gmm_loss_factory(M, D)\n",
    "model_gmm = Sequential()\n",
    "model_gmm.add(Dense(input_dim=input_dim, output_dim=(input_dim + 2) * M))\n",
    "model_gmm.add(GMMActivation(M, D))\n",
    "\n",
    "sgd = SGD(lr=0.0025, decay=1e-6, momentum=0.5, nesterov=True)\n",
    "\n",
    "# model_gmm.compile(loss=gmm_loss, optimizer='adam')\n",
    "model_gmm.compile(loss=gmm_loss, optimizer=sgd)"
   ]
  },
  {
   "cell_type": "code",
   "execution_count": 33,
   "metadata": {
    "collapsed": false
   },
   "outputs": [
    {
     "data": {
      "text/plain": [
       "((135, 6), (135, 1))"
      ]
     },
     "execution_count": 33,
     "metadata": {},
     "output_type": "execute_result"
    }
   ],
   "source": [
    "X_train.shape, y_train.shape"
   ]
  },
  {
   "cell_type": "code",
   "execution_count": 36,
   "metadata": {
    "collapsed": false
   },
   "outputs": [
    {
     "name": "stdout",
     "output_type": "stream",
     "text": [
      "Train on 135 samples, validate on 15 samples\n",
      "Epoch 1/100\n",
      "135/135 [==============================] - 0s - loss: 1.9835 - acc: 0.3037 - val_loss: 1.4745 - val_acc: 0.4000\n",
      "Epoch 2/100\n",
      "135/135 [==============================] - 0s - loss: 1.7667 - acc: 0.4148 - val_loss: 1.4519 - val_acc: 0.4000\n",
      "Epoch 3/100\n",
      "135/135 [==============================] - 0s - loss: 1.7011 - acc: 0.4593 - val_loss: 2.0939 - val_acc: 0.6000\n",
      "Epoch 4/100\n",
      "135/135 [==============================] - 0s - loss: 1.9374 - acc: 0.8444 - val_loss: 2.0297 - val_acc: 0.8667\n",
      "Epoch 5/100\n",
      "135/135 [==============================] - 0s - loss: 1.9580 - acc: 0.9407 - val_loss: 1.9354 - val_acc: 1.0000\n",
      "Epoch 6/100\n",
      "135/135 [==============================] - 0s - loss: 1.8643 - acc: 0.9926 - val_loss: 1.8438 - val_acc: 1.0000\n",
      "Epoch 7/100\n",
      "135/135 [==============================] - 0s - loss: 1.7716 - acc: 1.0000 - val_loss: 1.7509 - val_acc: 1.0000\n",
      "Epoch 8/100\n",
      "135/135 [==============================] - 0s - loss: 1.6768 - acc: 1.0000 - val_loss: 1.6533 - val_acc: 1.0000\n",
      "Epoch 9/100\n",
      "135/135 [==============================] - 0s - loss: 1.5767 - acc: 1.0000 - val_loss: 1.5530 - val_acc: 1.0000\n",
      "Epoch 10/100\n",
      "135/135 [==============================] - 0s - loss: 1.4771 - acc: 1.0000 - val_loss: 1.4485 - val_acc: 1.0000\n",
      "Epoch 11/100\n",
      "135/135 [==============================] - 0s - loss: 1.3700 - acc: 1.0000 - val_loss: 1.3497 - val_acc: 1.0000\n",
      "Epoch 12/100\n",
      "135/135 [==============================] - 0s - loss: 1.2723 - acc: 1.0000 - val_loss: 1.2639 - val_acc: 1.0000\n",
      "Epoch 13/100\n",
      "135/135 [==============================] - 0s - loss: 1.1928 - acc: 1.0000 - val_loss: 1.2087 - val_acc: 1.0000\n",
      "Epoch 14/100\n",
      "135/135 [==============================] - 0s - loss: 1.1371 - acc: 1.0000 - val_loss: 1.1572 - val_acc: 1.0000\n",
      "Epoch 15/100\n",
      "135/135 [==============================] - 0s - loss: 1.0985 - acc: 1.0000 - val_loss: 1.1300 - val_acc: 1.0000\n",
      "Epoch 16/100\n",
      "135/135 [==============================] - 0s - loss: 1.0732 - acc: 1.0000 - val_loss: 1.1110 - val_acc: 1.0000\n",
      "Epoch 17/100\n",
      "135/135 [==============================] - 0s - loss: 1.0542 - acc: 1.0000 - val_loss: 1.0940 - val_acc: 1.0000\n",
      "Epoch 18/100\n",
      "135/135 [==============================] - 0s - loss: 1.0378 - acc: 1.0000 - val_loss: 1.0775 - val_acc: 1.0000\n",
      "Epoch 19/100\n",
      "135/135 [==============================] - 0s - loss: 1.0224 - acc: 1.0000 - val_loss: 1.0629 - val_acc: 1.0000\n",
      "Epoch 20/100\n",
      "135/135 [==============================] - 0s - loss: 1.0093 - acc: 1.0000 - val_loss: 1.0473 - val_acc: 1.0000\n",
      "Epoch 21/100\n",
      "135/135 [==============================] - 0s - loss: 0.9937 - acc: 1.0000 - val_loss: 1.0351 - val_acc: 1.0000\n",
      "Epoch 22/100\n",
      "135/135 [==============================] - 0s - loss: 0.9785 - acc: 1.0000 - val_loss: 1.0182 - val_acc: 1.0000\n",
      "Epoch 23/100\n",
      "135/135 [==============================] - 0s - loss: 0.9648 - acc: 1.0000 - val_loss: 1.0066 - val_acc: 1.0000\n",
      "Epoch 24/100\n",
      "135/135 [==============================] - 0s - loss: 0.9490 - acc: 1.0000 - val_loss: 0.9873 - val_acc: 1.0000\n",
      "Epoch 25/100\n",
      "135/135 [==============================] - 0s - loss: 0.9324 - acc: 1.0000 - val_loss: 0.9706 - val_acc: 1.0000\n",
      "Epoch 26/100\n",
      "135/135 [==============================] - 0s - loss: 0.9150 - acc: 1.0000 - val_loss: 0.9548 - val_acc: 1.0000\n",
      "Epoch 27/100\n",
      "135/135 [==============================] - 0s - loss: 0.9012 - acc: 1.0000 - val_loss: 0.9383 - val_acc: 1.0000\n",
      "Epoch 28/100\n",
      "135/135 [==============================] - 0s - loss: 0.8863 - acc: 1.0000 - val_loss: 0.9224 - val_acc: 1.0000\n",
      "Epoch 29/100\n",
      "135/135 [==============================] - 0s - loss: 0.8662 - acc: 1.0000 - val_loss: 0.9054 - val_acc: 1.0000\n",
      "Epoch 30/100\n",
      "135/135 [==============================] - 0s - loss: 0.8504 - acc: 1.0000 - val_loss: 0.8844 - val_acc: 1.0000\n",
      "Epoch 31/100\n",
      "135/135 [==============================] - 0s - loss: 0.8306 - acc: 1.0000 - val_loss: 0.8651 - val_acc: 1.0000\n",
      "Epoch 32/100\n",
      "135/135 [==============================] - 0s - loss: 0.8122 - acc: 1.0000 - val_loss: 0.8486 - val_acc: 1.0000\n",
      "Epoch 33/100\n",
      "135/135 [==============================] - 0s - loss: 0.7962 - acc: 1.0000 - val_loss: 0.8287 - val_acc: 1.0000\n",
      "Epoch 34/100\n",
      "135/135 [==============================] - 0s - loss: 0.7787 - acc: 1.0000 - val_loss: 0.8073 - val_acc: 1.0000\n",
      "Epoch 35/100\n",
      "135/135 [==============================] - 0s - loss: 0.7616 - acc: 1.0000 - val_loss: 0.7884 - val_acc: 1.0000\n",
      "Epoch 36/100\n",
      "135/135 [==============================] - 0s - loss: 0.7326 - acc: 1.0000 - val_loss: 0.7724 - val_acc: 1.0000\n",
      "Epoch 37/100\n",
      "135/135 [==============================] - 0s - loss: 0.7142 - acc: 1.0000 - val_loss: 0.7440 - val_acc: 1.0000\n",
      "Epoch 38/100\n",
      "135/135 [==============================] - 0s - loss: 0.6898 - acc: 1.0000 - val_loss: 0.7209 - val_acc: 1.0000\n",
      "Epoch 39/100\n",
      "135/135 [==============================] - 0s - loss: 0.6664 - acc: 1.0000 - val_loss: 0.6961 - val_acc: 1.0000\n",
      "Epoch 40/100\n",
      "135/135 [==============================] - 0s - loss: 0.6443 - acc: 1.0000 - val_loss: 0.6740 - val_acc: 1.0000\n",
      "Epoch 41/100\n",
      "135/135 [==============================] - 0s - loss: 0.6223 - acc: 1.0000 - val_loss: 0.6453 - val_acc: 1.0000\n",
      "Epoch 42/100\n",
      "135/135 [==============================] - 0s - loss: 0.5891 - acc: 1.0000 - val_loss: 0.6202 - val_acc: 1.0000\n",
      "Epoch 43/100\n",
      "135/135 [==============================] - 0s - loss: 0.5632 - acc: 1.0000 - val_loss: 0.5876 - val_acc: 1.0000\n",
      "Epoch 44/100\n",
      "135/135 [==============================] - 0s - loss: 0.5356 - acc: 1.0000 - val_loss: 0.5583 - val_acc: 1.0000\n",
      "Epoch 45/100\n",
      "135/135 [==============================] - 0s - loss: 0.5049 - acc: 1.0000 - val_loss: 0.5270 - val_acc: 1.0000\n",
      "Epoch 46/100\n",
      "135/135 [==============================] - 0s - loss: 0.4769 - acc: 1.0000 - val_loss: 0.4980 - val_acc: 1.0000\n",
      "Epoch 47/100\n",
      "135/135 [==============================] - 0s - loss: 0.4455 - acc: 1.0000 - val_loss: 0.4603 - val_acc: 1.0000\n",
      "Epoch 48/100\n",
      "135/135 [==============================] - 0s - loss: 0.4028 - acc: 1.0000 - val_loss: 0.4293 - val_acc: 1.0000\n",
      "Epoch 49/100\n",
      "135/135 [==============================] - 0s - loss: 0.3670 - acc: 1.0000 - val_loss: 0.3839 - val_acc: 1.0000\n",
      "Epoch 50/100\n",
      "135/135 [==============================] - 0s - loss: 0.3259 - acc: 1.0000 - val_loss: 0.3335 - val_acc: 1.0000\n",
      "Epoch 51/100\n",
      "135/135 [==============================] - 0s - loss: 0.2823 - acc: 1.0000 - val_loss: 0.2827 - val_acc: 1.0000\n",
      "Epoch 52/100\n",
      "135/135 [==============================] - 0s - loss: 0.2364 - acc: 1.0000 - val_loss: 0.2369 - val_acc: 1.0000\n",
      "Epoch 53/100\n",
      "135/135 [==============================] - 0s - loss: 0.1884 - acc: 1.0000 - val_loss: 0.1798 - val_acc: 1.0000\n",
      "Epoch 54/100\n",
      "135/135 [==============================] - 0s - loss: 0.1305 - acc: 1.0000 - val_loss: 0.1133 - val_acc: 1.0000\n",
      "Epoch 55/100\n",
      "135/135 [==============================] - 0s - loss: 0.0807 - acc: 1.0000 - val_loss: 0.0475 - val_acc: 1.0000\n",
      "Epoch 56/100\n",
      "135/135 [==============================] - 0s - loss: 0.0149 - acc: 1.0000 - val_loss: -0.0178 - val_acc: 1.0000\n",
      "Epoch 57/100\n",
      "135/135 [==============================] - 0s - loss: -0.0426 - acc: 1.0000 - val_loss: -0.0926 - val_acc: 1.0000\n",
      "Epoch 58/100\n",
      "135/135 [==============================] - 0s - loss: -0.0931 - acc: 1.0000 - val_loss: -0.1829 - val_acc: 1.0000\n",
      "Epoch 59/100\n",
      "135/135 [==============================] - 0s - loss: -0.1720 - acc: 1.0000 - val_loss: -0.2705 - val_acc: 1.0000\n",
      "Epoch 60/100\n",
      "135/135 [==============================] - 0s - loss: -0.2457 - acc: 1.0000 - val_loss: -0.1558 - val_acc: 1.0000\n",
      "Epoch 61/100\n",
      "135/135 [==============================] - 0s - loss: -0.2528 - acc: 1.0000 - val_loss: -0.4380 - val_acc: 1.0000\n",
      "Epoch 62/100\n",
      "135/135 [==============================] - 0s - loss: -0.3809 - acc: 1.0000 - val_loss: -0.4895 - val_acc: 1.0000\n",
      "Epoch 63/100\n",
      "135/135 [==============================] - 0s - loss: -0.4288 - acc: 1.0000 - val_loss: -0.6160 - val_acc: 1.0000\n",
      "Epoch 64/100\n",
      "135/135 [==============================] - 0s - loss: -0.4730 - acc: 1.0000 - val_loss: -0.6625 - val_acc: 1.0000\n",
      "Epoch 65/100\n",
      "135/135 [==============================] - 0s - loss: -0.5214 - acc: 1.0000 - val_loss: 0.1176 - val_acc: 0.9333\n",
      "Epoch 66/100\n",
      "135/135 [==============================] - 0s - loss: -0.1818 - acc: 1.0000 - val_loss: -0.6560 - val_acc: 1.0000\n",
      "Epoch 67/100\n",
      "135/135 [==============================] - 0s - loss: -0.5646 - acc: 1.0000 - val_loss: -0.7109 - val_acc: 1.0000\n",
      "Epoch 68/100\n",
      "135/135 [==============================] - 0s - loss: -0.5762 - acc: 1.0000 - val_loss: -0.6828 - val_acc: 1.0000\n",
      "Epoch 69/100\n",
      "135/135 [==============================] - 0s - loss: -0.5654 - acc: 1.0000 - val_loss: -0.6212 - val_acc: 1.0000\n",
      "Epoch 70/100\n",
      "135/135 [==============================] - 0s - loss: -0.5428 - acc: 1.0000 - val_loss: -0.3827 - val_acc: 1.0000\n",
      "Epoch 71/100\n",
      "135/135 [==============================] - 0s - loss: -0.5680 - acc: 1.0000 - val_loss: -0.8917 - val_acc: 1.0000\n",
      "Epoch 72/100\n",
      "135/135 [==============================] - 0s - loss: -0.6247 - acc: 1.0000 - val_loss: -0.5764 - val_acc: 1.0000\n",
      "Epoch 73/100\n",
      "135/135 [==============================] - 0s - loss: -0.4794 - acc: 1.0000 - val_loss: -0.7808 - val_acc: 1.0000\n",
      "Epoch 74/100\n",
      "135/135 [==============================] - 0s - loss: -0.5942 - acc: 1.0000 - val_loss: -0.0362 - val_acc: 1.0000\n",
      "Epoch 75/100\n",
      "135/135 [==============================] - 0s - loss: -0.4945 - acc: 1.0000 - val_loss: -0.8440 - val_acc: 1.0000\n",
      "Epoch 76/100\n",
      "135/135 [==============================] - 0s - loss: -0.5995 - acc: 1.0000 - val_loss: -0.6655 - val_acc: 1.0000\n",
      "Epoch 77/100\n",
      "135/135 [==============================] - 0s - loss: -0.5794 - acc: 1.0000 - val_loss: -0.6529 - val_acc: 1.0000\n",
      "Epoch 78/100\n",
      "135/135 [==============================] - 0s - loss: -0.5180 - acc: 1.0000 - val_loss: -0.7475 - val_acc: 1.0000\n",
      "Epoch 79/100\n",
      "135/135 [==============================] - 0s - loss: -0.6012 - acc: 1.0000 - val_loss: -0.8965 - val_acc: 1.0000\n",
      "Epoch 80/100\n",
      "135/135 [==============================] - 0s - loss: -0.6230 - acc: 1.0000 - val_loss: -0.0704 - val_acc: 0.9333\n",
      "Epoch 81/100\n",
      "135/135 [==============================] - 0s - loss: -0.4382 - acc: 1.0000 - val_loss: -0.8298 - val_acc: 1.0000\n",
      "Epoch 82/100\n",
      "135/135 [==============================] - 0s - loss: -0.5177 - acc: 1.0000 - val_loss: -0.8806 - val_acc: 1.0000\n",
      "Epoch 83/100\n",
      "135/135 [==============================] - 0s - loss: -0.6202 - acc: 1.0000 - val_loss: -0.9314 - val_acc: 1.0000\n",
      "Epoch 84/100\n",
      "135/135 [==============================] - 0s - loss: -0.6692 - acc: 1.0000 - val_loss: -0.9430 - val_acc: 1.0000\n",
      "Epoch 85/100\n",
      "135/135 [==============================] - 0s - loss: -0.6112 - acc: 1.0000 - val_loss: -0.6383 - val_acc: 1.0000\n",
      "Epoch 86/100\n",
      "135/135 [==============================] - 0s - loss: -0.4826 - acc: 1.0000 - val_loss: -0.4827 - val_acc: 1.0000\n",
      "Epoch 87/100\n",
      "135/135 [==============================] - 0s - loss: -0.5294 - acc: 1.0000 - val_loss: -0.8877 - val_acc: 1.0000\n",
      "Epoch 88/100\n",
      "135/135 [==============================] - 0s - loss: -0.6809 - acc: 1.0000 - val_loss: -0.5501 - val_acc: 1.0000\n",
      "Epoch 89/100\n",
      "135/135 [==============================] - 0s - loss: -0.6233 - acc: 1.0000 - val_loss: -0.7659 - val_acc: 1.0000\n",
      "Epoch 90/100\n",
      "135/135 [==============================] - 0s - loss: -0.6091 - acc: 1.0000 - val_loss: -0.6958 - val_acc: 1.0000\n",
      "Epoch 91/100\n",
      "135/135 [==============================] - 0s - loss: -0.6216 - acc: 1.0000 - val_loss: -0.9368 - val_acc: 1.0000\n",
      "Epoch 92/100\n",
      "135/135 [==============================] - 0s - loss: -0.5483 - acc: 1.0000 - val_loss: -0.7209 - val_acc: 1.0000\n",
      "Epoch 93/100\n",
      "135/135 [==============================] - 0s - loss: -0.6461 - acc: 1.0000 - val_loss: -0.1397 - val_acc: 1.0000\n",
      "Epoch 94/100\n",
      "135/135 [==============================] - 0s - loss: -0.5311 - acc: 1.0000 - val_loss: -0.8150 - val_acc: 1.0000\n",
      "Epoch 95/100\n",
      "135/135 [==============================] - 0s - loss: -0.6077 - acc: 1.0000 - val_loss: -0.8999 - val_acc: 1.0000\n",
      "Epoch 96/100\n",
      "135/135 [==============================] - 0s - loss: -0.5274 - acc: 1.0000 - val_loss: -0.8103 - val_acc: 1.0000\n",
      "Epoch 97/100\n",
      "135/135 [==============================] - 0s - loss: -0.6957 - acc: 1.0000 - val_loss: -0.8226 - val_acc: 1.0000\n",
      "Epoch 98/100\n",
      "135/135 [==============================] - 0s - loss: -0.6739 - acc: 1.0000 - val_loss: -0.8719 - val_acc: 1.0000\n",
      "Epoch 99/100\n",
      "135/135 [==============================] - 0s - loss: -0.6899 - acc: 1.0000 - val_loss: -0.4418 - val_acc: 1.0000\n",
      "Epoch 100/100\n",
      "135/135 [==============================] - 0s - loss: -0.3805 - acc: 1.0000 - val_loss: -0.8340 - val_acc: 1.0000\n"
     ]
    }
   ],
   "source": [
    "out = model_gmm.fit(X_train, y_train, nb_epoch=100, batch_size=30, validation_data=(X_test, y_test), show_accuracy=True)"
   ]
  },
  {
   "cell_type": "code",
   "execution_count": 38,
   "metadata": {
    "collapsed": false
   },
   "outputs": [
    {
     "data": {
      "image/png": "[encoded data removed]",
      "text/plain": [
       "<matplotlib.figure.Figure at 0x11e2f97b8>"
      ]
     },
     "metadata": {},
     "output_type": "display_data"
    }
   ],
   "source": [
    "%matplotlib inline\n",
    "h = pandas.DataFrame(out.history)\n",
    "h[['loss', 'val_loss']].plot(logy=True)\n",
    "grid()"
   ]
  },
  {
   "cell_type": "code",
   "execution_count": 40,
   "metadata": {
    "collapsed": false
   },
   "outputs": [],
   "source": [
    "p = model_gmm.predict(X_train)"
   ]
  },
  {
   "cell_type": "code",
   "execution_count": 41,
   "metadata": {
    "collapsed": false
   },
   "outputs": [
    {
     "data": {
      "text/plain": [
       "(135, 24)"
      ]
     },
     "execution_count": 41,
     "metadata": {},
     "output_type": "execute_result"
    }
   ],
   "source": [
    "p.shape"
   ]
  },
  {
   "cell_type": "code",
   "execution_count": null,
   "metadata": {
    "collapsed": true
   },
   "outputs": [],
   "source": []
  }
 ],
 "metadata": {
  "kernelspec": {
   "display_name": "Python 3",
   "language": "python",
   "name": "python3"
  },
  "language_info": {
   "codemirror_mode": {
    "name": "ipython",
    "version": 3
   },
   "file_extension": ".py",
   "mimetype": "text/x-python",
   "name": "python",
   "nbconvert_exporter": "python",
   "pygments_lexer": "ipython3",
   "version": "3.5.1"
  }
 },
 "nbformat": 4,
 "nbformat_minor": 0
}
