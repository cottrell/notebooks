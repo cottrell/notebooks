version https://git-lfs.github.com/spec/v1
oid sha256:f6acd4d20461042aa61c1eaa24b7104aaf943a9ff08b85bb97398093d7416a37
size 460238
