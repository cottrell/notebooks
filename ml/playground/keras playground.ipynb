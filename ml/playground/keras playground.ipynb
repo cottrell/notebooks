version https://git-lfs.github.com/spec/v1
oid sha256:5f415b67b8ce11795d18f5f96ae02b5f55f35a3c7634b1e283c937badc47cf6d
size 73646
