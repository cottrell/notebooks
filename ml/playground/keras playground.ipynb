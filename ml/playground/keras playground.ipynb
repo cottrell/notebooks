{
 "cells": [
  {
   "cell_type": "code",
   "execution_count": 2,
   "metadata": {},
   "outputs": [
    {
     "name": "stderr",
     "output_type": "stream",
     "text": [
      "COMET ERROR: Failed to log git metadata\n",
      "COMET ERROR: Failed to log git patch\n",
      "COMET INFO: Experiment is live on comet.ml https://www.comet.ml/cottrell/general/900e2023a68a48e9baa807df91371dcf\n",
      "\n"
     ]
    }
   ],
   "source": [
    "from comet_ml import Experiment\n",
    "experiment = Experiment(api_key=\"9V1gFeumyguS3tXr1fcTnoOAM\", project_name=\"general\", workspace=\"cottrell\")"
   ]
  },
  {
   "cell_type": "code",
   "execution_count": 3,
   "metadata": {},
   "outputs": [
    {
     "data": {
      "text/html": [
       "<style>.container { width:100% !important; }</style>"
      ],
      "text/plain": [
       "<IPython.core.display.HTML object>"
      ]
     },
     "metadata": {},
     "output_type": "display_data"
    }
   ],
   "source": [
    "from IPython.core.display import display, HTML\n",
    "display(HTML(\"<style>.container { width:100% !important; }</style>\"))"
   ]
  },
  {
   "cell_type": "code",
   "execution_count": 4,
   "metadata": {},
   "outputs": [
    {
     "name": "stdout",
     "output_type": "stream",
     "text": [
      "GeForce RTX 2070\n"
     ]
    },
    {
     "name": "stderr",
     "output_type": "stream",
     "text": [
      "Using TensorFlow backend.\n"
     ]
    }
   ],
   "source": [
    "# https://stackoverflow.com/questions/44544766/how-do-i-check-if-keras-is-using-gpu-version-of-tensorflow\n",
    "# confirm TensorFlow sees the GPU\n",
    "from tensorflow.python.client import device_lib\n",
    "assert 'GPU' in str(device_lib.list_local_devices())\n",
    "\n",
    "# confirm Keras sees the GPU\n",
    "from keras import backend\n",
    "assert len(backend.tensorflow_backend._get_available_gpus()) > 0\n",
    "\n",
    "# confirm PyTorch sees the GPU\n",
    "from torch import cuda\n",
    "assert cuda.is_available()\n",
    "assert cuda.device_count() > 0\n",
    "print(cuda.get_device_name(cuda.current_device()))"
   ]
  },
  {
   "cell_type": "code",
   "execution_count": 5,
   "metadata": {},
   "outputs": [
    {
     "name": "stdout",
     "output_type": "stream",
     "text": [
      "cuda_only=False True\n",
      "cuda_only=True True\n"
     ]
    }
   ],
   "source": [
    "# for some reason this breaks something when it runs first!?\n",
    "import tensorflow as tf\n",
    "print(\"cuda_only=False\", tf.test.is_gpu_available(cuda_only=False, min_cuda_compute_capability=None))\n",
    "print(\"cuda_only=True\", tf.test.is_gpu_available(cuda_only=True, min_cuda_compute_capability=None))"
   ]
  },
  {
   "cell_type": "code",
   "execution_count": 6,
   "metadata": {},
   "outputs": [
    {
     "name": "stdout",
     "output_type": "stream",
     "text": [
      "(1779, 8) (445, 8)\n"
     ]
    }
   ],
   "source": [
    "%matplotlib inline\n",
    "from pandas_datareader import data as pdr\n",
    "import datetime\n",
    "import fix_yahoo_finance as yf\n",
    "from ratelimit import limits, sleep_and_retry\n",
    "import sklearn.preprocessing as skp\n",
    "from joblib import Memory\n",
    "import os\n",
    "import time\n",
    "from pylab import *\n",
    "_mydir = '.'\n",
    "\n",
    "cachedir = os.path.join(_mydir, 'joblib_cache')\n",
    "memory = Memory(cachedir, verbose=1)\n",
    "\n",
    "yf.pdr_override()\n",
    "_period_seconds = 1\n",
    "@memory.cache\n",
    "@sleep_and_retry\n",
    "@limits(calls=1, period=_period_seconds)\n",
    "def _get_data_yahoo(names, start, end):\n",
    "    return pdr.get_data_yahoo(names, start=start, end=end)\n",
    "\n",
    "def get_data_yahoo(names, start, end):\n",
    "    df = _get_data_yahoo(names, start, end)\n",
    "    if len(names) > 1:\n",
    "        df = df.stack()\n",
    "        df.index.names = ['date', 'name']\n",
    "    else:\n",
    "        df['name'] = names[0]\n",
    "    df = df.reset_index()\n",
    "    df.columns = [x.lower().replace(' ', '_') for x in df.columns]\n",
    "    return df\n",
    "\n",
    "\n",
    "names = ['soxx', 'spy', 'aapl', 'noc', 'gs']\n",
    "start = datetime.date(2010, 1, 1)\n",
    "end = datetime.date(2018, 11, 1)\n",
    "\n",
    "data = get_data_yahoo(names, start, end)\n",
    "data = data.sort_values(by='date')\n",
    "data.shape\n",
    "\n",
    "dates = data.date.unique()\n",
    "dates.sort()\n",
    "test_frac = 0.2\n",
    "date_test = dates[int(len(dates) * (1 - test_frac))]\n",
    "def split_data_by_date(data, date):\n",
    "    i = data.date < date\n",
    "    data_train = data[i]\n",
    "    data_test = data[~i]\n",
    "    print(data_train.shape, data_test.shape)\n",
    "    return data_train, data_test\n",
    "\n",
    "# one now for now\n",
    "name = 'NOC'\n",
    "data_train, data_test = split_data_by_date(data[data.name == name], date_test)\n",
    "\n",
    "# do NO transformations for now, will be weird\n",
    "xcols = ['adj_close', 'close', 'high', 'low', 'open', 'volume']\n",
    "ycols = ['adj_close'] # shifted obviosly\n",
    "pcols = ['adj_close', 'close', 'high', 'low', 'open']\n",
    "output_dim = len(ycols)\n",
    "\n",
    "def lagger(df, periods=[1]):\n",
    "    d = list()\n",
    "    for x in periods:\n",
    "        temp = df.shift(periods=x)\n",
    "        temp.columns = ['{}_lag{}'.format(k, x) for k in temp.columns] \n",
    "        d.append(temp)\n",
    "    return pd.concat(d, axis=1)\n",
    "\n",
    "d = lagger(data[xcols], periods=[1, 2, 3, 5, 10])\n",
    "\n",
    "def getxy(data):\n",
    "    assert data.name.nunique() == 1, 'you need to change the code if you do this'\n",
    "    # watch out for overflow etc, TODO norm\n",
    "    data = data.copy()\n",
    "    data[pcols] = np.log(data[pcols]).diff()\n",
    "    data = data.iloc[1:]\n",
    "    \n",
    "    t = skp.QuantileTransformer(output_distribution='normal')\n",
    "#     t = skp.MinMaxScaler()\n",
    "    \n",
    "    t.fit(data[pcols])\n",
    "    data[pcols] = t.transform(data[pcols])\n",
    "    \n",
    "    lags = [1, 2, 3, 5, 10]\n",
    "    X = lagger(data[xcols], lags)\n",
    "    X = pd.concat([data[xcols], X], axis=1)\n",
    "    xcols_with_lags = list(X.columns)\n",
    "\n",
    "    predict_steps = 1\n",
    "    # numpy arrays after this step\n",
    "    y = data.shift(periods=-predict_steps)[ycols].values\n",
    "    X = X.values\n",
    "    \n",
    "    X = X[max(lags):-predict_steps]\n",
    "    y = y[max(lags):-predict_steps]\n",
    "    \n",
    "    # add some lag features\n",
    "    assert not np.any(np.isnan(X))\n",
    "    assert not np.any(np.isnan(y))\n",
    "    return X, y, xcols_with_lags\n",
    "\n",
    "X_train, y_train, xcols_enriched = getxy(data_train)\n",
    "X_test, y_test, _ = getxy(data_test)\n",
    "X_train.shape, y_train.shape\n",
    "\n",
    "input_dim = X_train.shape[1]"
   ]
  },
  {
   "cell_type": "code",
   "execution_count": 7,
   "metadata": {},
   "outputs": [
    {
     "data": {
      "image/png": "[encoded data removed]",
      "text/plain": [
       "<Figure size 432x288 with 1 Axes>"
      ]
     },
     "metadata": {
      "needs_background": "light"
     },
     "output_type": "display_data"
    },
    {
     "data": {
      "image/png": "[encoded data removed]",
      "text/plain": [
       "<Figure size 432x288 with 1 Axes>"
      ]
     },
     "metadata": {
      "needs_background": "light"
     },
     "output_type": "display_data"
    }
   ],
   "source": [
    "_ = np.log(data.adj_close).diff().dropna().hist(bins=100, alpha=0.5)\n",
    "\n",
    "figure()\n",
    "_ = hist(y_train, bins=100, alpha=0.5)\n",
    "_ = hist(y_test, bins=100, alpha=0.5)\n"
   ]
  },
  {
   "cell_type": "code",
   "execution_count": 8,
   "metadata": {},
   "outputs": [],
   "source": [
    "import tensorflow.keras as keras\n",
    "from tensorflow.keras import Sequential\n",
    "from tensorflow.layers import Dense, Dropout\n",
    "import tensorflow.keras.optimizers as optimizers\n",
    "import tensorflow.layers as layers\n",
    "import tensorflow as tf\n",
    "\n",
    "# does not work?\n",
    "# https://stackoverflow.com/questions/47877475/keras-tensorboard-plot-train-and-validation-scalars-in-a-same-figure\n",
    "\n",
    "tboard = keras.callbacks.TensorBoard(log_dir=\"runs/keras-{}\".format(time.time()))"
   ]
  },
  {
   "cell_type": "code",
   "execution_count": 9,
   "metadata": {},
   "outputs": [
    {
     "name": "stdout",
     "output_type": "stream",
     "text": [
      "loading keras_playground.hdf5\n"
     ]
    }
   ],
   "source": [
    "# for example https://machinelearningmastery.com/regression-tutorial-keras-deep-learning-library-python/\n",
    "\n",
    "def create_model():\n",
    "    # create model\n",
    "    model = Sequential()\n",
    "    model.add(Dense(32, input_dim=input_dim, kernel_initializer='normal', activation='relu')),\n",
    "    model.add(Dense(32, kernel_initializer='normal', activation='relu')),\n",
    "    model.add(Dense(output_dim, kernel_initializer='normal', activation='linear'))\n",
    "    opt = optimizers.Adam(lr=0.0001, beta_1=0.9, beta_2=0.999, epsilon=None, decay=0.0, amsgrad=False)\n",
    "    model.compile(loss='mean_squared_error', optimizer=opt)\n",
    "    return model\n",
    "\n",
    "model_filename = 'keras_playground.hdf5'\n",
    "if os.path.exists(model_filename):\n",
    "    print('loading {}'.format(model_filename))\n",
    "    model = keras.models.load_model(model_filename)\n",
    "else:\n",
    "    model = create_model()    "
   ]
  },
  {
   "cell_type": "code",
   "execution_count": 10,
   "metadata": {},
   "outputs": [
    {
     "name": "stdout",
     "output_type": "stream",
     "text": [
      "Epoch 1/10\n",
      " 2603/10000 [======>.......................] - ETA: 11s - loss: 29.7977"
     ]
    },
    {
     "ename": "KeyboardInterrupt",
     "evalue": "",
     "output_type": "error",
     "traceback": [
      "\u001b[0;31m---------------------------------------------------------------------------\u001b[0m",
      "\u001b[0;31mKeyboardInterrupt\u001b[0m                         Traceback (most recent call last)",
      "\u001b[0;32m<ipython-input-10-7a91f6989270>\u001b[0m in \u001b[0;36m<module>\u001b[0;34m\u001b[0m\n\u001b[1;32m      3\u001b[0m \u001b[0;31m# sample_weight=None, initial_epoch=0, steps_per_epoch=None, validation_steps=None,\u001b[0m\u001b[0;34m\u001b[0m\u001b[0;34m\u001b[0m\u001b[0;34m\u001b[0m\u001b[0m\n\u001b[1;32m      4\u001b[0m \u001b[0;31m# max_queue_size=10, workers=1, use_multiprocessing=False, **kwargs)\u001b[0m\u001b[0;34m\u001b[0m\u001b[0;34m\u001b[0m\u001b[0;34m\u001b[0m\u001b[0m\n\u001b[0;32m----> 5\u001b[0;31m \u001b[0mmodel\u001b[0m\u001b[0;34m.\u001b[0m\u001b[0mfit\u001b[0m\u001b[0;34m(\u001b[0m\u001b[0mX_train\u001b[0m\u001b[0;34m,\u001b[0m \u001b[0my_train\u001b[0m\u001b[0;34m.\u001b[0m\u001b[0msqueeze\u001b[0m\u001b[0;34m(\u001b[0m\u001b[0;34m)\u001b[0m\u001b[0;34m,\u001b[0m \u001b[0mepochs\u001b[0m\u001b[0;34m=\u001b[0m\u001b[0;36m10\u001b[0m\u001b[0;34m,\u001b[0m \u001b[0msteps_per_epoch\u001b[0m\u001b[0;34m=\u001b[0m\u001b[0;36m10000\u001b[0m\u001b[0;34m,\u001b[0m \u001b[0mverbose\u001b[0m\u001b[0;34m=\u001b[0m\u001b[0;36m1\u001b[0m\u001b[0;34m,\u001b[0m \u001b[0mvalidation_steps\u001b[0m\u001b[0;34m=\u001b[0m\u001b[0;36m100\u001b[0m\u001b[0;34m,\u001b[0m \u001b[0mvalidation_data\u001b[0m\u001b[0;34m=\u001b[0m\u001b[0;34m(\u001b[0m\u001b[0mX_test\u001b[0m\u001b[0;34m,\u001b[0m \u001b[0my_test\u001b[0m\u001b[0;34m.\u001b[0m\u001b[0msqueeze\u001b[0m\u001b[0;34m(\u001b[0m\u001b[0;34m)\u001b[0m\u001b[0;34m)\u001b[0m\u001b[0;34m,\u001b[0m \u001b[0mcallbacks\u001b[0m\u001b[0;34m=\u001b[0m\u001b[0;34m[\u001b[0m\u001b[0mtboard\u001b[0m\u001b[0;34m]\u001b[0m\u001b[0;34m)\u001b[0m\u001b[0;34m\u001b[0m\u001b[0;34m\u001b[0m\u001b[0m\n\u001b[0m\u001b[1;32m      6\u001b[0m \u001b[0mmodel\u001b[0m\u001b[0;34m.\u001b[0m\u001b[0msave\u001b[0m\u001b[0;34m(\u001b[0m\u001b[0;34m'keras_playground.hdf5'\u001b[0m\u001b[0;34m)\u001b[0m\u001b[0;34m\u001b[0m\u001b[0;34m\u001b[0m\u001b[0m\n",
      "\u001b[0;32m~/anaconda3/envs/36/lib/python3.6/site-packages/comet_ml/monkey_patching.py\u001b[0m in \u001b[0;36mwrapper\u001b[0;34m(*args, **kwargs)\u001b[0m\n\u001b[1;32m    241\u001b[0m                     )\n\u001b[1;32m    242\u001b[0m \u001b[0;34m\u001b[0m\u001b[0m\n\u001b[0;32m--> 243\u001b[0;31m         \u001b[0mreturn_value\u001b[0m \u001b[0;34m=\u001b[0m \u001b[0moriginal\u001b[0m\u001b[0;34m(\u001b[0m\u001b[0;34m*\u001b[0m\u001b[0margs\u001b[0m\u001b[0;34m,\u001b[0m \u001b[0;34m**\u001b[0m\u001b[0mkwargs\u001b[0m\u001b[0;34m)\u001b[0m\u001b[0;34m\u001b[0m\u001b[0;34m\u001b[0m\u001b[0m\n\u001b[0m\u001b[1;32m    244\u001b[0m \u001b[0;34m\u001b[0m\u001b[0m\n\u001b[1;32m    245\u001b[0m         \u001b[0;31m# Call after callbacks once we have the return value\u001b[0m\u001b[0;34m\u001b[0m\u001b[0;34m\u001b[0m\u001b[0;34m\u001b[0m\u001b[0m\n",
      "\u001b[0;32m~/anaconda3/envs/36/lib/python3.6/site-packages/tensorflow/python/keras/engine/training.py\u001b[0m in \u001b[0;36mfit\u001b[0;34m(self, x, y, batch_size, epochs, verbose, callbacks, validation_split, validation_data, shuffle, class_weight, sample_weight, initial_epoch, steps_per_epoch, validation_steps, max_queue_size, workers, use_multiprocessing, **kwargs)\u001b[0m\n\u001b[1;32m   1637\u001b[0m           \u001b[0minitial_epoch\u001b[0m\u001b[0;34m=\u001b[0m\u001b[0minitial_epoch\u001b[0m\u001b[0;34m,\u001b[0m\u001b[0;34m\u001b[0m\u001b[0;34m\u001b[0m\u001b[0m\n\u001b[1;32m   1638\u001b[0m           \u001b[0msteps_per_epoch\u001b[0m\u001b[0;34m=\u001b[0m\u001b[0msteps_per_epoch\u001b[0m\u001b[0;34m,\u001b[0m\u001b[0;34m\u001b[0m\u001b[0;34m\u001b[0m\u001b[0m\n\u001b[0;32m-> 1639\u001b[0;31m           validation_steps=validation_steps)\n\u001b[0m\u001b[1;32m   1640\u001b[0m \u001b[0;34m\u001b[0m\u001b[0m\n\u001b[1;32m   1641\u001b[0m   def evaluate(self,\n",
      "\u001b[0;32m~/anaconda3/envs/36/lib/python3.6/site-packages/tensorflow/python/keras/engine/training_arrays.py\u001b[0m in \u001b[0;36mfit_loop\u001b[0;34m(model, inputs, targets, sample_weights, batch_size, epochs, verbose, callbacks, val_inputs, val_targets, val_sample_weights, shuffle, initial_epoch, steps_per_epoch, validation_steps)\u001b[0m\n\u001b[1;32m    168\u001b[0m           \u001b[0mbatch_logs\u001b[0m\u001b[0;34m[\u001b[0m\u001b[0ml\u001b[0m\u001b[0;34m]\u001b[0m \u001b[0;34m=\u001b[0m \u001b[0mo\u001b[0m\u001b[0;34m\u001b[0m\u001b[0;34m\u001b[0m\u001b[0m\n\u001b[1;32m    169\u001b[0m \u001b[0;34m\u001b[0m\u001b[0m\n\u001b[0;32m--> 170\u001b[0;31m         \u001b[0mcallbacks\u001b[0m\u001b[0;34m.\u001b[0m\u001b[0mon_batch_end\u001b[0m\u001b[0;34m(\u001b[0m\u001b[0mstep_index\u001b[0m\u001b[0;34m,\u001b[0m \u001b[0mbatch_logs\u001b[0m\u001b[0;34m)\u001b[0m\u001b[0;34m\u001b[0m\u001b[0;34m\u001b[0m\u001b[0m\n\u001b[0m\u001b[1;32m    171\u001b[0m         \u001b[0;32mif\u001b[0m \u001b[0mcallbacks\u001b[0m\u001b[0;34m.\u001b[0m\u001b[0mmodel\u001b[0m\u001b[0;34m.\u001b[0m\u001b[0mstop_training\u001b[0m\u001b[0;34m:\u001b[0m\u001b[0;34m\u001b[0m\u001b[0;34m\u001b[0m\u001b[0m\n\u001b[1;32m    172\u001b[0m           \u001b[0;32mbreak\u001b[0m\u001b[0;34m\u001b[0m\u001b[0;34m\u001b[0m\u001b[0m\n",
      "\u001b[0;32m~/anaconda3/envs/36/lib/python3.6/site-packages/tensorflow/python/keras/callbacks.py\u001b[0m in \u001b[0;36mon_batch_end\u001b[0;34m(self, batch, logs)\u001b[0m\n\u001b[1;32m    247\u001b[0m     \u001b[0mt_before_callbacks\u001b[0m \u001b[0;34m=\u001b[0m \u001b[0mtime\u001b[0m\u001b[0;34m.\u001b[0m\u001b[0mtime\u001b[0m\u001b[0;34m(\u001b[0m\u001b[0;34m)\u001b[0m\u001b[0;34m\u001b[0m\u001b[0;34m\u001b[0m\u001b[0m\n\u001b[1;32m    248\u001b[0m     \u001b[0;32mfor\u001b[0m \u001b[0mcallback\u001b[0m \u001b[0;32min\u001b[0m \u001b[0mself\u001b[0m\u001b[0;34m.\u001b[0m\u001b[0mcallbacks\u001b[0m\u001b[0;34m:\u001b[0m\u001b[0;34m\u001b[0m\u001b[0;34m\u001b[0m\u001b[0m\n\u001b[0;32m--> 249\u001b[0;31m       \u001b[0mcallback\u001b[0m\u001b[0;34m.\u001b[0m\u001b[0mon_batch_end\u001b[0m\u001b[0;34m(\u001b[0m\u001b[0mbatch\u001b[0m\u001b[0;34m,\u001b[0m \u001b[0mlogs\u001b[0m\u001b[0;34m)\u001b[0m\u001b[0;34m\u001b[0m\u001b[0;34m\u001b[0m\u001b[0m\n\u001b[0m\u001b[1;32m    250\u001b[0m     \u001b[0mself\u001b[0m\u001b[0;34m.\u001b[0m\u001b[0m_delta_ts_batch_end\u001b[0m\u001b[0;34m.\u001b[0m\u001b[0mappend\u001b[0m\u001b[0;34m(\u001b[0m\u001b[0mtime\u001b[0m\u001b[0;34m.\u001b[0m\u001b[0mtime\u001b[0m\u001b[0;34m(\u001b[0m\u001b[0;34m)\u001b[0m \u001b[0;34m-\u001b[0m \u001b[0mt_before_callbacks\u001b[0m\u001b[0;34m)\u001b[0m\u001b[0;34m\u001b[0m\u001b[0;34m\u001b[0m\u001b[0m\n\u001b[1;32m    251\u001b[0m     \u001b[0mdelta_t_median\u001b[0m \u001b[0;34m=\u001b[0m \u001b[0mnp\u001b[0m\u001b[0;34m.\u001b[0m\u001b[0mmedian\u001b[0m\u001b[0;34m(\u001b[0m\u001b[0mself\u001b[0m\u001b[0;34m.\u001b[0m\u001b[0m_delta_ts_batch_end\u001b[0m\u001b[0;34m)\u001b[0m\u001b[0;34m\u001b[0m\u001b[0;34m\u001b[0m\u001b[0m\n",
      "\u001b[0;32m~/anaconda3/envs/36/lib/python3.6/site-packages/comet_ml/frameworks.py\u001b[0m in \u001b[0;36mon_batch_end\u001b[0;34m(self, batch, logs)\u001b[0m\n\u001b[1;32m     94\u001b[0m         \u001b[0mLogs\u001b[0m \u001b[0mtraining\u001b[0m \u001b[0mmetrics\u001b[0m\u001b[0;34m.\u001b[0m\u001b[0;34m\u001b[0m\u001b[0;34m\u001b[0m\u001b[0m\n\u001b[1;32m     95\u001b[0m         \"\"\"\n\u001b[0;32m---> 96\u001b[0;31m         \u001b[0mLOGGER\u001b[0m\u001b[0;34m.\u001b[0m\u001b[0mdebug\u001b[0m\u001b[0;34m(\u001b[0m\u001b[0;34m\"On batch end %s %s\"\u001b[0m\u001b[0;34m,\u001b[0m \u001b[0mbatch\u001b[0m\u001b[0;34m,\u001b[0m \u001b[0mlogs\u001b[0m\u001b[0;34m)\u001b[0m\u001b[0;34m\u001b[0m\u001b[0;34m\u001b[0m\u001b[0m\n\u001b[0m\u001b[1;32m     97\u001b[0m \u001b[0;34m\u001b[0m\u001b[0m\n\u001b[1;32m     98\u001b[0m         \u001b[0mself\u001b[0m\u001b[0;34m.\u001b[0m\u001b[0mour_step\u001b[0m \u001b[0;34m+=\u001b[0m \u001b[0;36m1\u001b[0m\u001b[0;34m\u001b[0m\u001b[0;34m\u001b[0m\u001b[0m\n",
      "\u001b[0;32m~/anaconda3/envs/36/lib/python3.6/logging/__init__.py\u001b[0m in \u001b[0;36mdebug\u001b[0;34m(self, msg, *args, **kwargs)\u001b[0m\n\u001b[1;32m   1294\u001b[0m         \"\"\"\n\u001b[1;32m   1295\u001b[0m         \u001b[0;32mif\u001b[0m \u001b[0mself\u001b[0m\u001b[0;34m.\u001b[0m\u001b[0misEnabledFor\u001b[0m\u001b[0;34m(\u001b[0m\u001b[0mDEBUG\u001b[0m\u001b[0;34m)\u001b[0m\u001b[0;34m:\u001b[0m\u001b[0;34m\u001b[0m\u001b[0;34m\u001b[0m\u001b[0m\n\u001b[0;32m-> 1296\u001b[0;31m             \u001b[0mself\u001b[0m\u001b[0;34m.\u001b[0m\u001b[0m_log\u001b[0m\u001b[0;34m(\u001b[0m\u001b[0mDEBUG\u001b[0m\u001b[0;34m,\u001b[0m \u001b[0mmsg\u001b[0m\u001b[0;34m,\u001b[0m \u001b[0margs\u001b[0m\u001b[0;34m,\u001b[0m \u001b[0;34m**\u001b[0m\u001b[0mkwargs\u001b[0m\u001b[0;34m)\u001b[0m\u001b[0;34m\u001b[0m\u001b[0;34m\u001b[0m\u001b[0m\n\u001b[0m\u001b[1;32m   1297\u001b[0m \u001b[0;34m\u001b[0m\u001b[0m\n\u001b[1;32m   1298\u001b[0m     \u001b[0;32mdef\u001b[0m \u001b[0minfo\u001b[0m\u001b[0;34m(\u001b[0m\u001b[0mself\u001b[0m\u001b[0;34m,\u001b[0m \u001b[0mmsg\u001b[0m\u001b[0;34m,\u001b[0m \u001b[0;34m*\u001b[0m\u001b[0margs\u001b[0m\u001b[0;34m,\u001b[0m \u001b[0;34m**\u001b[0m\u001b[0mkwargs\u001b[0m\u001b[0;34m)\u001b[0m\u001b[0;34m:\u001b[0m\u001b[0;34m\u001b[0m\u001b[0;34m\u001b[0m\u001b[0m\n",
      "\u001b[0;32m~/anaconda3/envs/36/lib/python3.6/logging/__init__.py\u001b[0m in \u001b[0;36m_log\u001b[0;34m(self, level, msg, args, exc_info, extra, stack_info)\u001b[0m\n\u001b[1;32m   1442\u001b[0m         record = self.makeRecord(self.name, level, fn, lno, msg, args,\n\u001b[1;32m   1443\u001b[0m                                  exc_info, func, extra, sinfo)\n\u001b[0;32m-> 1444\u001b[0;31m         \u001b[0mself\u001b[0m\u001b[0;34m.\u001b[0m\u001b[0mhandle\u001b[0m\u001b[0;34m(\u001b[0m\u001b[0mrecord\u001b[0m\u001b[0;34m)\u001b[0m\u001b[0;34m\u001b[0m\u001b[0;34m\u001b[0m\u001b[0m\n\u001b[0m\u001b[1;32m   1445\u001b[0m \u001b[0;34m\u001b[0m\u001b[0m\n\u001b[1;32m   1446\u001b[0m     \u001b[0;32mdef\u001b[0m \u001b[0mhandle\u001b[0m\u001b[0;34m(\u001b[0m\u001b[0mself\u001b[0m\u001b[0;34m,\u001b[0m \u001b[0mrecord\u001b[0m\u001b[0;34m)\u001b[0m\u001b[0;34m:\u001b[0m\u001b[0;34m\u001b[0m\u001b[0;34m\u001b[0m\u001b[0m\n",
      "\u001b[0;32m~/anaconda3/envs/36/lib/python3.6/logging/__init__.py\u001b[0m in \u001b[0;36mhandle\u001b[0;34m(self, record)\u001b[0m\n\u001b[1;32m   1452\u001b[0m         \"\"\"\n\u001b[1;32m   1453\u001b[0m         \u001b[0;32mif\u001b[0m \u001b[0;34m(\u001b[0m\u001b[0;32mnot\u001b[0m \u001b[0mself\u001b[0m\u001b[0;34m.\u001b[0m\u001b[0mdisabled\u001b[0m\u001b[0;34m)\u001b[0m \u001b[0;32mand\u001b[0m \u001b[0mself\u001b[0m\u001b[0;34m.\u001b[0m\u001b[0mfilter\u001b[0m\u001b[0;34m(\u001b[0m\u001b[0mrecord\u001b[0m\u001b[0;34m)\u001b[0m\u001b[0;34m:\u001b[0m\u001b[0;34m\u001b[0m\u001b[0;34m\u001b[0m\u001b[0m\n\u001b[0;32m-> 1454\u001b[0;31m             \u001b[0mself\u001b[0m\u001b[0;34m.\u001b[0m\u001b[0mcallHandlers\u001b[0m\u001b[0;34m(\u001b[0m\u001b[0mrecord\u001b[0m\u001b[0;34m)\u001b[0m\u001b[0;34m\u001b[0m\u001b[0;34m\u001b[0m\u001b[0m\n\u001b[0m\u001b[1;32m   1455\u001b[0m \u001b[0;34m\u001b[0m\u001b[0m\n\u001b[1;32m   1456\u001b[0m     \u001b[0;32mdef\u001b[0m \u001b[0maddHandler\u001b[0m\u001b[0;34m(\u001b[0m\u001b[0mself\u001b[0m\u001b[0;34m,\u001b[0m \u001b[0mhdlr\u001b[0m\u001b[0;34m)\u001b[0m\u001b[0;34m:\u001b[0m\u001b[0;34m\u001b[0m\u001b[0;34m\u001b[0m\u001b[0m\n",
      "\u001b[0;32m~/anaconda3/envs/36/lib/python3.6/logging/__init__.py\u001b[0m in \u001b[0;36mcallHandlers\u001b[0;34m(self, record)\u001b[0m\n\u001b[1;32m   1498\u001b[0m         \u001b[0;32mreturn\u001b[0m \u001b[0mrv\u001b[0m\u001b[0;34m\u001b[0m\u001b[0;34m\u001b[0m\u001b[0m\n\u001b[1;32m   1499\u001b[0m \u001b[0;34m\u001b[0m\u001b[0m\n\u001b[0;32m-> 1500\u001b[0;31m     \u001b[0;32mdef\u001b[0m \u001b[0mcallHandlers\u001b[0m\u001b[0;34m(\u001b[0m\u001b[0mself\u001b[0m\u001b[0;34m,\u001b[0m \u001b[0mrecord\u001b[0m\u001b[0;34m)\u001b[0m\u001b[0;34m:\u001b[0m\u001b[0;34m\u001b[0m\u001b[0;34m\u001b[0m\u001b[0m\n\u001b[0m\u001b[1;32m   1501\u001b[0m         \"\"\"\n\u001b[1;32m   1502\u001b[0m         \u001b[0mPass\u001b[0m \u001b[0ma\u001b[0m \u001b[0mrecord\u001b[0m \u001b[0mto\u001b[0m \u001b[0mall\u001b[0m \u001b[0mrelevant\u001b[0m \u001b[0mhandlers\u001b[0m\u001b[0;34m.\u001b[0m\u001b[0;34m\u001b[0m\u001b[0;34m\u001b[0m\u001b[0m\n",
      "\u001b[0;31mKeyboardInterrupt\u001b[0m: "
     ]
    }
   ],
   "source": [
    "# fit(x=None, y=None, batch_size=None, epochs=1, verbose=1, callbacks=None,\n",
    "# validation_split=0.0, validation_data=None, shuffle=True, class_weight=None,\n",
    "# sample_weight=None, initial_epoch=0, steps_per_epoch=None, validation_steps=None,\n",
    "# max_queue_size=10, workers=1, use_multiprocessing=False, **kwargs)\n",
    "model.fit(X_train, y_train.squeeze(), epochs=10, steps_per_epoch=10000, verbose=1, validation_steps=100, validation_data=(X_test, y_test.squeeze()), callbacks=[tboard])\n",
    "model.save('keras_playground.hdf5')"
   ]
  },
  {
   "cell_type": "code",
   "execution_count": 75,
   "metadata": {},
   "outputs": [
    {
     "data": {
      "text/html": [
       "<div>\n",
       "<style scoped>\n",
       "    .dataframe tbody tr th:only-of-type {\n",
       "        vertical-align: middle;\n",
       "    }\n",
       "\n",
       "    .dataframe tbody tr th {\n",
       "        vertical-align: top;\n",
       "    }\n",
       "\n",
       "    .dataframe thead th {\n",
       "        text-align: right;\n",
       "    }\n",
       "</style>\n",
       "<table border=\"1\" class=\"dataframe\">\n",
       "  <thead>\n",
       "    <tr style=\"text-align: right;\">\n",
       "      <th></th>\n",
       "      <th>adj_close</th>\n",
       "      <th>adj_close_pred</th>\n",
       "      <th>adj_close</th>\n",
       "      <th>close</th>\n",
       "      <th>high</th>\n",
       "      <th>low</th>\n",
       "      <th>open</th>\n",
       "      <th>volume</th>\n",
       "      <th>adj_close_lag1</th>\n",
       "      <th>close_lag1</th>\n",
       "      <th>high_lag1</th>\n",
       "      <th>low_lag1</th>\n",
       "      <th>open_lag1</th>\n",
       "      <th>volume_lag1</th>\n",
       "      <th>adj_close_lag2</th>\n",
       "      <th>close_lag2</th>\n",
       "      <th>high_lag2</th>\n",
       "      <th>low_lag2</th>\n",
       "      <th>open_lag2</th>\n",
       "      <th>volume_lag2</th>\n",
       "      <th>adj_close_lag3</th>\n",
       "      <th>close_lag3</th>\n",
       "      <th>high_lag3</th>\n",
       "      <th>low_lag3</th>\n",
       "      <th>open_lag3</th>\n",
       "      <th>volume_lag3</th>\n",
       "      <th>adj_close_lag5</th>\n",
       "      <th>close_lag5</th>\n",
       "      <th>high_lag5</th>\n",
       "      <th>low_lag5</th>\n",
       "      <th>open_lag5</th>\n",
       "      <th>volume_lag5</th>\n",
       "      <th>adj_close_lag10</th>\n",
       "      <th>close_lag10</th>\n",
       "      <th>high_lag10</th>\n",
       "      <th>low_lag10</th>\n",
       "      <th>open_lag10</th>\n",
       "      <th>volume_lag10</th>\n",
       "      <th>val_label</th>\n",
       "    </tr>\n",
       "  </thead>\n",
       "  <tbody>\n",
       "    <tr>\n",
       "      <th>0</th>\n",
       "      <td>-2.158387</td>\n",
       "      <td>0.089558</td>\n",
       "      <td>-1.115688</td>\n",
       "      <td>-1.110184</td>\n",
       "      <td>-1.501286</td>\n",
       "      <td>-1.162003</td>\n",
       "      <td>-0.403306</td>\n",
       "      <td>1858600.0</td>\n",
       "      <td>0.438993</td>\n",
       "      <td>0.443501</td>\n",
       "      <td>0.697016</td>\n",
       "      <td>-0.048755</td>\n",
       "      <td>-0.791402</td>\n",
       "      <td>2460200.0</td>\n",
       "      <td>-1.145025</td>\n",
       "      <td>-1.139084</td>\n",
       "      <td>-1.207459</td>\n",
       "      <td>-0.899651</td>\n",
       "      <td>-0.399716</td>\n",
       "      <td>1846800.0</td>\n",
       "      <td>-0.110076</td>\n",
       "      <td>-0.094655</td>\n",
       "      <td>0.456539</td>\n",
       "      <td>1.299334</td>\n",
       "      <td>1.943431</td>\n",
       "      <td>2044300.0</td>\n",
       "      <td>-0.011539</td>\n",
       "      <td>0.001248</td>\n",
       "      <td>-0.836808</td>\n",
       "      <td>-0.833300</td>\n",
       "      <td>-0.881274</td>\n",
       "      <td>1650500.0</td>\n",
       "      <td>0.045859</td>\n",
       "      <td>0.056931</td>\n",
       "      <td>1.023212</td>\n",
       "      <td>0.945495</td>\n",
       "      <td>0.891710</td>\n",
       "      <td>1859800.0</td>\n",
       "      <td>train</td>\n",
       "    </tr>\n",
       "    <tr>\n",
       "      <th>1</th>\n",
       "      <td>-1.644668</td>\n",
       "      <td>-0.227520</td>\n",
       "      <td>-2.158387</td>\n",
       "      <td>-2.148430</td>\n",
       "      <td>-0.849376</td>\n",
       "      <td>-1.539864</td>\n",
       "      <td>-0.542008</td>\n",
       "      <td>2682100.0</td>\n",
       "      <td>-1.115688</td>\n",
       "      <td>-1.110184</td>\n",
       "      <td>-1.501286</td>\n",
       "      <td>-1.162003</td>\n",
       "      <td>-0.403306</td>\n",
       "      <td>1858600.0</td>\n",
       "      <td>0.438993</td>\n",
       "      <td>0.443501</td>\n",
       "      <td>0.697016</td>\n",
       "      <td>-0.048755</td>\n",
       "      <td>-0.791402</td>\n",
       "      <td>2460200.0</td>\n",
       "      <td>-1.145025</td>\n",
       "      <td>-1.139084</td>\n",
       "      <td>-1.207459</td>\n",
       "      <td>-0.899651</td>\n",
       "      <td>-0.399716</td>\n",
       "      <td>1846800.0</td>\n",
       "      <td>2.099151</td>\n",
       "      <td>2.099153</td>\n",
       "      <td>2.416606</td>\n",
       "      <td>1.505465</td>\n",
       "      <td>0.747261</td>\n",
       "      <td>2729700.0</td>\n",
       "      <td>0.270839</td>\n",
       "      <td>0.280904</td>\n",
       "      <td>-0.569801</td>\n",
       "      <td>-0.363865</td>\n",
       "      <td>0.057806</td>\n",
       "      <td>2204900.0</td>\n",
       "      <td>train</td>\n",
       "    </tr>\n",
       "    <tr>\n",
       "      <th>2</th>\n",
       "      <td>0.007131</td>\n",
       "      <td>0.603474</td>\n",
       "      <td>-1.644668</td>\n",
       "      <td>-1.634824</td>\n",
       "      <td>-2.096839</td>\n",
       "      <td>-1.692433</td>\n",
       "      <td>-1.908056</td>\n",
       "      <td>2182900.0</td>\n",
       "      <td>-2.158387</td>\n",
       "      <td>-2.148430</td>\n",
       "      <td>-0.849376</td>\n",
       "      <td>-1.539864</td>\n",
       "      <td>-0.542008</td>\n",
       "      <td>2682100.0</td>\n",
       "      <td>-1.115688</td>\n",
       "      <td>-1.110184</td>\n",
       "      <td>-1.501286</td>\n",
       "      <td>-1.162003</td>\n",
       "      <td>-0.403306</td>\n",
       "      <td>1858600.0</td>\n",
       "      <td>0.438993</td>\n",
       "      <td>0.443501</td>\n",
       "      <td>0.697016</td>\n",
       "      <td>-0.048755</td>\n",
       "      <td>-0.791402</td>\n",
       "      <td>2460200.0</td>\n",
       "      <td>-0.110076</td>\n",
       "      <td>-0.094655</td>\n",
       "      <td>0.456539</td>\n",
       "      <td>1.299334</td>\n",
       "      <td>1.943431</td>\n",
       "      <td>2044300.0</td>\n",
       "      <td>0.909523</td>\n",
       "      <td>0.910836</td>\n",
       "      <td>1.264431</td>\n",
       "      <td>0.132508</td>\n",
       "      <td>0.087949</td>\n",
       "      <td>4750900.0</td>\n",
       "      <td>train</td>\n",
       "    </tr>\n",
       "    <tr>\n",
       "      <th>3</th>\n",
       "      <td>0.477806</td>\n",
       "      <td>0.033649</td>\n",
       "      <td>0.007131</td>\n",
       "      <td>0.022871</td>\n",
       "      <td>-1.229464</td>\n",
       "      <td>-0.488081</td>\n",
       "      <td>-0.922248</td>\n",
       "      <td>2499100.0</td>\n",
       "      <td>-1.644668</td>\n",
       "      <td>-1.634824</td>\n",
       "      <td>-2.096839</td>\n",
       "      <td>-1.692433</td>\n",
       "      <td>-1.908056</td>\n",
       "      <td>2182900.0</td>\n",
       "      <td>-2.158387</td>\n",
       "      <td>-2.148430</td>\n",
       "      <td>-0.849376</td>\n",
       "      <td>-1.539864</td>\n",
       "      <td>-0.542008</td>\n",
       "      <td>2682100.0</td>\n",
       "      <td>-1.115688</td>\n",
       "      <td>-1.110184</td>\n",
       "      <td>-1.501286</td>\n",
       "      <td>-1.162003</td>\n",
       "      <td>-0.403306</td>\n",
       "      <td>1858600.0</td>\n",
       "      <td>-1.145025</td>\n",
       "      <td>-1.139084</td>\n",
       "      <td>-1.207459</td>\n",
       "      <td>-0.899651</td>\n",
       "      <td>-0.399716</td>\n",
       "      <td>1846800.0</td>\n",
       "      <td>-0.671730</td>\n",
       "      <td>-0.660816</td>\n",
       "      <td>0.221082</td>\n",
       "      <td>0.689228</td>\n",
       "      <td>0.673016</td>\n",
       "      <td>1723700.0</td>\n",
       "      <td>train</td>\n",
       "    </tr>\n",
       "    <tr>\n",
       "      <th>4</th>\n",
       "      <td>1.121142</td>\n",
       "      <td>-0.157085</td>\n",
       "      <td>0.477806</td>\n",
       "      <td>0.483039</td>\n",
       "      <td>0.351969</td>\n",
       "      <td>-0.280904</td>\n",
       "      <td>-1.054619</td>\n",
       "      <td>2079300.0</td>\n",
       "      <td>0.007131</td>\n",
       "      <td>0.022871</td>\n",
       "      <td>-1.229464</td>\n",
       "      <td>-0.488081</td>\n",
       "      <td>-0.922248</td>\n",
       "      <td>2499100.0</td>\n",
       "      <td>-1.644668</td>\n",
       "      <td>-1.634824</td>\n",
       "      <td>-2.096839</td>\n",
       "      <td>-1.692433</td>\n",
       "      <td>-1.908056</td>\n",
       "      <td>2182900.0</td>\n",
       "      <td>-2.158387</td>\n",
       "      <td>-2.148430</td>\n",
       "      <td>-0.849376</td>\n",
       "      <td>-1.539864</td>\n",
       "      <td>-0.542008</td>\n",
       "      <td>2682100.0</td>\n",
       "      <td>0.438993</td>\n",
       "      <td>0.443501</td>\n",
       "      <td>0.697016</td>\n",
       "      <td>-0.048755</td>\n",
       "      <td>-0.791402</td>\n",
       "      <td>2460200.0</td>\n",
       "      <td>-0.011206</td>\n",
       "      <td>0.001973</td>\n",
       "      <td>-0.411538</td>\n",
       "      <td>-0.047729</td>\n",
       "      <td>0.543806</td>\n",
       "      <td>1523000.0</td>\n",
       "      <td>train</td>\n",
       "    </tr>\n",
       "  </tbody>\n",
       "</table>\n",
       "</div>"
      ],
      "text/plain": [
       "   adj_close  adj_close_pred  adj_close     close      high       low      open     volume  adj_close_lag1  close_lag1  high_lag1  low_lag1  open_lag1  volume_lag1  adj_close_lag2  close_lag2  high_lag2  low_lag2  open_lag2  volume_lag2  adj_close_lag3  close_lag3  high_lag3  low_lag3  open_lag3  \\\n",
       "0  -2.158387        0.089558  -1.115688 -1.110184 -1.501286 -1.162003 -0.403306  1858600.0        0.438993    0.443501   0.697016 -0.048755  -0.791402    2460200.0       -1.145025   -1.139084  -1.207459 -0.899651  -0.399716    1846800.0       -0.110076   -0.094655   0.456539  1.299334   1.943431   \n",
       "1  -1.644668       -0.227520  -2.158387 -2.148430 -0.849376 -1.539864 -0.542008  2682100.0       -1.115688   -1.110184  -1.501286 -1.162003  -0.403306    1858600.0        0.438993    0.443501   0.697016 -0.048755  -0.791402    2460200.0       -1.145025   -1.139084  -1.207459 -0.899651  -0.399716   \n",
       "2   0.007131        0.603474  -1.644668 -1.634824 -2.096839 -1.692433 -1.908056  2182900.0       -2.158387   -2.148430  -0.849376 -1.539864  -0.542008    2682100.0       -1.115688   -1.110184  -1.501286 -1.162003  -0.403306    1858600.0        0.438993    0.443501   0.697016 -0.048755  -0.791402   \n",
       "3   0.477806        0.033649   0.007131  0.022871 -1.229464 -0.488081 -0.922248  2499100.0       -1.644668   -1.634824  -2.096839 -1.692433  -1.908056    2182900.0       -2.158387   -2.148430  -0.849376 -1.539864  -0.542008    2682100.0       -1.115688   -1.110184  -1.501286 -1.162003  -0.403306   \n",
       "4   1.121142       -0.157085   0.477806  0.483039  0.351969 -0.280904 -1.054619  2079300.0        0.007131    0.022871  -1.229464 -0.488081  -0.922248    2499100.0       -1.644668   -1.634824  -2.096839 -1.692433  -1.908056    2182900.0       -2.158387   -2.148430  -0.849376 -1.539864  -0.542008   \n",
       "\n",
       "   volume_lag3  adj_close_lag5  close_lag5  high_lag5  low_lag5  open_lag5  volume_lag5  adj_close_lag10  close_lag10  high_lag10  low_lag10  open_lag10  volume_lag10 val_label  \n",
       "0    2044300.0       -0.011539    0.001248  -0.836808 -0.833300  -0.881274    1650500.0         0.045859     0.056931    1.023212   0.945495    0.891710     1859800.0     train  \n",
       "1    1846800.0        2.099151    2.099153   2.416606  1.505465   0.747261    2729700.0         0.270839     0.280904   -0.569801  -0.363865    0.057806     2204900.0     train  \n",
       "2    2460200.0       -0.110076   -0.094655   0.456539  1.299334   1.943431    2044300.0         0.909523     0.910836    1.264431   0.132508    0.087949     4750900.0     train  \n",
       "3    1858600.0       -1.145025   -1.139084  -1.207459 -0.899651  -0.399716    1846800.0        -0.671730    -0.660816    0.221082   0.689228    0.673016     1723700.0     train  \n",
       "4    2682100.0        0.438993    0.443501   0.697016 -0.048755  -0.791402    2460200.0        -0.011206     0.001973   -0.411538  -0.047729    0.543806     1523000.0     train  "
      ]
     },
     "execution_count": 75,
     "metadata": {},
     "output_type": "execute_result"
    }
   ],
   "source": [
    "y_train_p = model.predict(X_train).squeeze()\n",
    "y_test_p = model.predict(X_test).squeeze()\n",
    "\n",
    "# ugh put it back together for seaborn\n",
    "def putbacktogetheragain(X, y, yp, label, xcols=xcols_enriched, ycols=ycols):\n",
    "    X = pd.DataFrame(X, columns=xcols)\n",
    "    y = pd.DataFrame(y, columns=ycols)\n",
    "    yp = pd.DataFrame(yp, columns=['{}_pred'.format(x) for x in ycols])\n",
    "    df = pd.concat([y, yp, X], axis=1)\n",
    "    df['val_label'] = label\n",
    "    return df\n",
    "\n",
    "df = putbacktogetheragain(X_train, y_train.squeeze(), y_train_p, 'train')\n",
    "df.head()"
   ]
  },
  {
   "cell_type": "code",
   "execution_count": 135,
   "metadata": {},
   "outputs": [
    {
     "data": {
      "text/plain": [
       "(5, 5)"
      ]
     },
     "execution_count": 135,
     "metadata": {},
     "output_type": "execute_result"
    }
   ],
   "source": [
    "(np.random.randn(5,1)[:,:,np.newaxis] + np.eye(5)[:,np.newaxis,:]).squeeze().shape"
   ]
  },
  {
   "cell_type": "code",
   "execution_count": 130,
   "metadata": {},
   "outputs": [
    {
     "data": {
      "text/plain": [
       "(5, 1, 5)"
      ]
     },
     "execution_count": 130,
     "metadata": {},
     "output_type": "execute_result"
    }
   ],
   "source": [
    "np.eye(5)[:,np.newaxis,:].shape"
   ]
  },
  {
   "cell_type": "code",
   "execution_count": 129,
   "metadata": {},
   "outputs": [
    {
     "data": {
      "text/plain": [
       "(5, 2)"
      ]
     },
     "execution_count": 129,
     "metadata": {},
     "output_type": "execute_result"
    }
   ],
   "source": [
    "np.random.randn(5,2).shape"
   ]
  },
  {
   "cell_type": "code",
   "execution_count": 138,
   "metadata": {},
   "outputs": [
    {
     "data": {
      "text/plain": [
       "array(0.20459993)"
      ]
     },
     "execution_count": 138,
     "metadata": {},
     "output_type": "execute_result"
    }
   ],
   "source": [
    "def approx_fprime(f, epsilon=1e-6):\n",
    "    def fp(x, epsilon=epsilon):\n",
    "        dx = np.eye(x.shape[0]) * epsilon\n",
    "#         dx = dx[:,np.newaxis,:]\n",
    "#         x = x[:,:,np.newaxis]\n",
    "        f1 = f(x + dx)\n",
    "        f0 = f(x)\n",
    "        fp = (f1 - f0) / dx\n",
    "        return fp.squeeze()\n",
    "    return fp\n",
    "\n",
    "\n",
    "\n",
    "fp = approx_fprime(model.predict)\n",
    "fp(np.zeros((1, X_train.shape[1])))"
   ]
  },
  {
   "cell_type": "code",
   "execution_count": 77,
   "metadata": {},
   "outputs": [],
   "source": [
    "# # apparently is hard: https://github.com/tensorflow/tensorflow/issues/675\n",
    "# def Jacobian(X, y):\n",
    "#     J = tf.map_fn(lambda m: tf.gradients(y[:,m:m+1], X)[0], tf.range(tf.shape(y)[-1]), tf.float32)\n",
    "#     J = tf.transpose(tf.squeeze(J), perm = [1,0])\n",
    "#     return J"
   ]
  },
  {
   "cell_type": "code",
   "execution_count": 78,
   "metadata": {},
   "outputs": [
    {
     "data": {
      "text/plain": [
       "(array([-5.19933758]), array([5.19933758]))"
      ]
     },
     "execution_count": 78,
     "metadata": {},
     "output_type": "execute_result"
    },
    {
     "data": {
      "image/png": "[encoded data removed]",
      "text/plain": [
       "<Figure size 432x288 with 1 Axes>"
      ]
     },
     "metadata": {
      "needs_background": "light"
     },
     "output_type": "display_data"
    }
   ],
   "source": [
    "\n",
    "plot(y_train.squeeze(), y_train_p, 'bo', alpha=0.5)\n",
    "plot(y_test.squeeze(), y_test_p, 'ro', alpha=0.5)\n",
    "xlim(min(y_test), max(y_test))\n",
    "ylim(min(y_test), max(y_test))\n",
    "\n",
    "# figure()\n",
    "# j = 0\n",
    "# itr = \n",
    "# plot(X_train[:,j], y_train.squeeze(), 'b', alpha=0.5)\n",
    "# plot(X_test[:,j], y_test.squeeze(), 'r', alpha=0.5)"
   ]
  },
  {
   "cell_type": "code",
   "execution_count": 39,
   "metadata": {},
   "outputs": [
    {
     "ename": "NameError",
     "evalue": "name 'df' is not defined",
     "output_type": "error",
     "traceback": [
      "\u001b[0;31m---------------------------------------------------------------------------\u001b[0m",
      "\u001b[0;31mNameError\u001b[0m                                 Traceback (most recent call last)",
      "\u001b[0;32m<ipython-input-39-633337079cd0>\u001b[0m in \u001b[0;36m<module>\u001b[0;34m\u001b[0m\n\u001b[0;32m----> 1\u001b[0;31m \u001b[0mdf\u001b[0m\u001b[0;34m.\u001b[0m\u001b[0mshape\u001b[0m\u001b[0;34m\u001b[0m\u001b[0;34m\u001b[0m\u001b[0m\n\u001b[0m",
      "\u001b[0;31mNameError\u001b[0m: name 'df' is not defined"
     ]
    }
   ],
   "source": [
    "df.shaped"
   ]
  },
  {
   "cell_type": "code",
   "execution_count": null,
   "metadata": {},
   "outputs": [],
   "source": []
  }
 ],
 "metadata": {
  "kernelspec": {
   "display_name": "Python 3",
   "language": "python",
   "name": "python3"
  },
  "language_info": {
   "codemirror_mode": {
    "name": "ipython",
    "version": 3
   },
   "file_extension": ".py",
   "mimetype": "text/x-python",
   "name": "python",
   "nbconvert_exporter": "python",
   "pygments_lexer": "ipython3",
   "version": "3.6.7"
  }
 },
 "nbformat": 4,
 "nbformat_minor": 2
}
