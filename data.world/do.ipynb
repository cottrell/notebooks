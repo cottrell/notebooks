{
 "cells": [
  {
   "cell_type": "markdown",
   "metadata": {},
   "source": [
    "### Match and questionnaire data from speed dating experiment run by Columbia professors Ray Fisman and Sheena Iyengar\n",
    "\n",
    "https://data.world/annavmontoya/speed-dating-experiment\n",
    "\n",
    "Data collection is doubtful."
   ]
  },
  {
   "cell_type": "code",
   "execution_count": 105,
   "metadata": {},
   "outputs": [
    {
     "name": "stdout",
     "output_type": "stream",
     "text": [
      "mapping field_cd\n",
      "mapping date\n",
      "mapping career_c\n",
      "mapping go_out\n",
      "mapping race\n",
      "mapping samerace\n",
      "mapping gender\n",
      "mapping condtn\n",
      "mapping goal\n",
      "pid 1 552\n",
      "dec_o 0 1\n",
      "match 0 1\n"
     ]
    }
   ],
   "source": [
    "# reload(clean)\n",
    "import clean\n",
    "df, d = clean.prep()"
   ]
  },
  {
   "cell_type": "code",
   "execution_count": 106,
   "metadata": {},
   "outputs": [
    {
     "data": {
      "text/plain": [
       "((8368, 53), (4184, 101))"
      ]
     },
     "execution_count": 106,
     "metadata": {},
     "output_type": "execute_result"
    }
   ],
   "source": [
    "d.shape, df.shape"
   ]
  },
  {
   "cell_type": "code",
   "execution_count": 68,
   "metadata": {
    "collapsed": true
   },
   "outputs": [],
   "source": [
    "import seaborn"
   ]
  },
  {
   "cell_type": "code",
   "execution_count": 151,
   "metadata": {},
   "outputs": [],
   "source": [
    "# cols = [x for x in d.columns if not x.endswith('_o')]\n",
    "dd = d.groupby(['iid']).first()"
   ]
  },
  {
   "cell_type": "code",
   "execution_count": 152,
   "metadata": {
    "collapsed": true
   },
   "outputs": [],
   "source": [
    "cols = ['imprace', 'race', 'gender']\n",
    "ds = dd[cols]"
   ]
  },
  {
   "cell_type": "code",
   "execution_count": 153,
   "metadata": {},
   "outputs": [
    {
     "data": {
      "text/html": [
       "<div>\n",
       "<table border=\"1\" class=\"dataframe\">\n",
       "  <thead>\n",
       "    <tr>\n",
       "      <th></th>\n",
       "      <th colspan=\"3\" halign=\"left\">imprace</th>\n",
       "    </tr>\n",
       "    <tr>\n",
       "      <th>gender</th>\n",
       "      <th>Female</th>\n",
       "      <th>Male</th>\n",
       "      <th>All</th>\n",
       "    </tr>\n",
       "    <tr>\n",
       "      <th>race</th>\n",
       "      <th></th>\n",
       "      <th></th>\n",
       "      <th></th>\n",
       "    </tr>\n",
       "  </thead>\n",
       "  <tbody>\n",
       "    <tr>\n",
       "      <th>Asian/Pacific Islander/Asian-American</th>\n",
       "      <td>71.0</td>\n",
       "      <td>65.0</td>\n",
       "      <td>136.0</td>\n",
       "    </tr>\n",
       "    <tr>\n",
       "      <th>Black/African American</th>\n",
       "      <td>16.0</td>\n",
       "      <td>10.0</td>\n",
       "      <td>26.0</td>\n",
       "    </tr>\n",
       "    <tr>\n",
       "      <th>European/Caucasian-American</th>\n",
       "      <td>141.0</td>\n",
       "      <td>162.0</td>\n",
       "      <td>303.0</td>\n",
       "    </tr>\n",
       "    <tr>\n",
       "      <th>Latino/Hispanic American</th>\n",
       "      <td>25.0</td>\n",
       "      <td>17.0</td>\n",
       "      <td>42.0</td>\n",
       "    </tr>\n",
       "    <tr>\n",
       "      <th>Other</th>\n",
       "      <td>16.0</td>\n",
       "      <td>21.0</td>\n",
       "      <td>37.0</td>\n",
       "    </tr>\n",
       "    <tr>\n",
       "      <th>All</th>\n",
       "      <td>269.0</td>\n",
       "      <td>275.0</td>\n",
       "      <td>544.0</td>\n",
       "    </tr>\n",
       "  </tbody>\n",
       "</table>\n",
       "</div>"
      ],
      "text/plain": [
       "                                      imprace              \n",
       "gender                                 Female   Male    All\n",
       "race                                                       \n",
       "Asian/Pacific Islander/Asian-American    71.0   65.0  136.0\n",
       "Black/African American                   16.0   10.0   26.0\n",
       "European/Caucasian-American             141.0  162.0  303.0\n",
       "Latino/Hispanic American                 25.0   17.0   42.0\n",
       "Other                                    16.0   21.0   37.0\n",
       "All                                     269.0  275.0  544.0"
      ]
     },
     "execution_count": 153,
     "metadata": {},
     "output_type": "execute_result"
    }
   ],
   "source": [
    "dd.pivot_table(values=['imprace'], index=['race'], columns=['gender'], aggfunc='count', margins=True)"
   ]
  },
  {
   "cell_type": "code",
   "execution_count": 155,
   "metadata": {},
   "outputs": [
    {
     "data": {
      "text/html": [
       "<div>\n",
       "<table border=\"1\" class=\"dataframe\">\n",
       "  <thead>\n",
       "    <tr>\n",
       "      <th></th>\n",
       "      <th></th>\n",
       "      <th colspan=\"12\" halign=\"left\">pid</th>\n",
       "    </tr>\n",
       "    <tr>\n",
       "      <th></th>\n",
       "      <th>imprace</th>\n",
       "      <th>0.0</th>\n",
       "      <th>1.0</th>\n",
       "      <th>2.0</th>\n",
       "      <th>3.0</th>\n",
       "      <th>4.0</th>\n",
       "      <th>5.0</th>\n",
       "      <th>6.0</th>\n",
       "      <th>7.0</th>\n",
       "      <th>8.0</th>\n",
       "      <th>9.0</th>\n",
       "      <th>10.0</th>\n",
       "      <th>All</th>\n",
       "    </tr>\n",
       "    <tr>\n",
       "      <th>gender</th>\n",
       "      <th>race</th>\n",
       "      <th></th>\n",
       "      <th></th>\n",
       "      <th></th>\n",
       "      <th></th>\n",
       "      <th></th>\n",
       "      <th></th>\n",
       "      <th></th>\n",
       "      <th></th>\n",
       "      <th></th>\n",
       "      <th></th>\n",
       "      <th></th>\n",
       "      <th></th>\n",
       "    </tr>\n",
       "  </thead>\n",
       "  <tbody>\n",
       "    <tr>\n",
       "      <th rowspan=\"5\" valign=\"top\">Female</th>\n",
       "      <th>Asian/Pacific Islander/Asian-American</th>\n",
       "      <td>0.0</td>\n",
       "      <td>24.0</td>\n",
       "      <td>10.0</td>\n",
       "      <td>10.0</td>\n",
       "      <td>3.0</td>\n",
       "      <td>5.0</td>\n",
       "      <td>5.0</td>\n",
       "      <td>3.0</td>\n",
       "      <td>5.0</td>\n",
       "      <td>4.0</td>\n",
       "      <td>2.0</td>\n",
       "      <td>71.0</td>\n",
       "    </tr>\n",
       "    <tr>\n",
       "      <th>Black/African American</th>\n",
       "      <td>0.0</td>\n",
       "      <td>5.0</td>\n",
       "      <td>3.0</td>\n",
       "      <td>0.0</td>\n",
       "      <td>1.0</td>\n",
       "      <td>1.0</td>\n",
       "      <td>0.0</td>\n",
       "      <td>4.0</td>\n",
       "      <td>1.0</td>\n",
       "      <td>1.0</td>\n",
       "      <td>0.0</td>\n",
       "      <td>16.0</td>\n",
       "    </tr>\n",
       "    <tr>\n",
       "      <th>European/Caucasian-American</th>\n",
       "      <td>1.0</td>\n",
       "      <td>34.0</td>\n",
       "      <td>16.0</td>\n",
       "      <td>14.0</td>\n",
       "      <td>12.0</td>\n",
       "      <td>11.0</td>\n",
       "      <td>5.0</td>\n",
       "      <td>5.0</td>\n",
       "      <td>19.0</td>\n",
       "      <td>12.0</td>\n",
       "      <td>12.0</td>\n",
       "      <td>141.0</td>\n",
       "    </tr>\n",
       "    <tr>\n",
       "      <th>Latino/Hispanic American</th>\n",
       "      <td>0.0</td>\n",
       "      <td>12.0</td>\n",
       "      <td>2.0</td>\n",
       "      <td>4.0</td>\n",
       "      <td>0.0</td>\n",
       "      <td>4.0</td>\n",
       "      <td>1.0</td>\n",
       "      <td>0.0</td>\n",
       "      <td>1.0</td>\n",
       "      <td>1.0</td>\n",
       "      <td>0.0</td>\n",
       "      <td>25.0</td>\n",
       "    </tr>\n",
       "    <tr>\n",
       "      <th>Other</th>\n",
       "      <td>0.0</td>\n",
       "      <td>4.0</td>\n",
       "      <td>3.0</td>\n",
       "      <td>2.0</td>\n",
       "      <td>0.0</td>\n",
       "      <td>3.0</td>\n",
       "      <td>3.0</td>\n",
       "      <td>0.0</td>\n",
       "      <td>1.0</td>\n",
       "      <td>0.0</td>\n",
       "      <td>0.0</td>\n",
       "      <td>16.0</td>\n",
       "    </tr>\n",
       "    <tr>\n",
       "      <th rowspan=\"5\" valign=\"top\">Male</th>\n",
       "      <th>Asian/Pacific Islander/Asian-American</th>\n",
       "      <td>0.0</td>\n",
       "      <td>31.0</td>\n",
       "      <td>3.0</td>\n",
       "      <td>9.0</td>\n",
       "      <td>5.0</td>\n",
       "      <td>3.0</td>\n",
       "      <td>4.0</td>\n",
       "      <td>5.0</td>\n",
       "      <td>2.0</td>\n",
       "      <td>2.0</td>\n",
       "      <td>1.0</td>\n",
       "      <td>65.0</td>\n",
       "    </tr>\n",
       "    <tr>\n",
       "      <th>Black/African American</th>\n",
       "      <td>0.0</td>\n",
       "      <td>5.0</td>\n",
       "      <td>1.0</td>\n",
       "      <td>1.0</td>\n",
       "      <td>2.0</td>\n",
       "      <td>0.0</td>\n",
       "      <td>0.0</td>\n",
       "      <td>1.0</td>\n",
       "      <td>0.0</td>\n",
       "      <td>0.0</td>\n",
       "      <td>0.0</td>\n",
       "      <td>10.0</td>\n",
       "    </tr>\n",
       "    <tr>\n",
       "      <th>European/Caucasian-American</th>\n",
       "      <td>0.0</td>\n",
       "      <td>55.0</td>\n",
       "      <td>18.0</td>\n",
       "      <td>17.0</td>\n",
       "      <td>8.0</td>\n",
       "      <td>15.0</td>\n",
       "      <td>14.0</td>\n",
       "      <td>16.0</td>\n",
       "      <td>12.0</td>\n",
       "      <td>5.0</td>\n",
       "      <td>2.0</td>\n",
       "      <td>162.0</td>\n",
       "    </tr>\n",
       "    <tr>\n",
       "      <th>Latino/Hispanic American</th>\n",
       "      <td>0.0</td>\n",
       "      <td>7.0</td>\n",
       "      <td>1.0</td>\n",
       "      <td>6.0</td>\n",
       "      <td>2.0</td>\n",
       "      <td>0.0</td>\n",
       "      <td>1.0</td>\n",
       "      <td>0.0</td>\n",
       "      <td>0.0</td>\n",
       "      <td>0.0</td>\n",
       "      <td>0.0</td>\n",
       "      <td>17.0</td>\n",
       "    </tr>\n",
       "    <tr>\n",
       "      <th>Other</th>\n",
       "      <td>0.0</td>\n",
       "      <td>12.0</td>\n",
       "      <td>3.0</td>\n",
       "      <td>2.0</td>\n",
       "      <td>0.0</td>\n",
       "      <td>1.0</td>\n",
       "      <td>1.0</td>\n",
       "      <td>1.0</td>\n",
       "      <td>1.0</td>\n",
       "      <td>0.0</td>\n",
       "      <td>0.0</td>\n",
       "      <td>21.0</td>\n",
       "    </tr>\n",
       "    <tr>\n",
       "      <th>All</th>\n",
       "      <th></th>\n",
       "      <td>1.0</td>\n",
       "      <td>189.0</td>\n",
       "      <td>60.0</td>\n",
       "      <td>65.0</td>\n",
       "      <td>33.0</td>\n",
       "      <td>43.0</td>\n",
       "      <td>34.0</td>\n",
       "      <td>35.0</td>\n",
       "      <td>42.0</td>\n",
       "      <td>25.0</td>\n",
       "      <td>17.0</td>\n",
       "      <td>544.0</td>\n",
       "    </tr>\n",
       "  </tbody>\n",
       "</table>\n",
       "</div>"
      ],
      "text/plain": [
       "                                              pid                                                                    \n",
       "imprace                                       0.0    1.0   2.0   3.0   4.0   5.0   6.0   7.0   8.0   9.0  10.0    All\n",
       "gender race                                                                                                          \n",
       "Female Asian/Pacific Islander/Asian-American  0.0   24.0  10.0  10.0   3.0   5.0   5.0   3.0   5.0   4.0   2.0   71.0\n",
       "       Black/African American                 0.0    5.0   3.0   0.0   1.0   1.0   0.0   4.0   1.0   1.0   0.0   16.0\n",
       "       European/Caucasian-American            1.0   34.0  16.0  14.0  12.0  11.0   5.0   5.0  19.0  12.0  12.0  141.0\n",
       "       Latino/Hispanic American               0.0   12.0   2.0   4.0   0.0   4.0   1.0   0.0   1.0   1.0   0.0   25.0\n",
       "       Other                                  0.0    4.0   3.0   2.0   0.0   3.0   3.0   0.0   1.0   0.0   0.0   16.0\n",
       "Male   Asian/Pacific Islander/Asian-American  0.0   31.0   3.0   9.0   5.0   3.0   4.0   5.0   2.0   2.0   1.0   65.0\n",
       "       Black/African American                 0.0    5.0   1.0   1.0   2.0   0.0   0.0   1.0   0.0   0.0   0.0   10.0\n",
       "       European/Caucasian-American            0.0   55.0  18.0  17.0   8.0  15.0  14.0  16.0  12.0   5.0   2.0  162.0\n",
       "       Latino/Hispanic American               0.0    7.0   1.0   6.0   2.0   0.0   1.0   0.0   0.0   0.0   0.0   17.0\n",
       "       Other                                  0.0   12.0   3.0   2.0   0.0   1.0   1.0   1.0   1.0   0.0   0.0   21.0\n",
       "All                                           1.0  189.0  60.0  65.0  33.0  43.0  34.0  35.0  42.0  25.0  17.0  544.0"
      ]
     },
     "execution_count": 155,
     "metadata": {},
     "output_type": "execute_result"
    }
   ],
   "source": [
    "dd.pivot_table(values=['pid'], index=['gender', 'race'], columns=['imprace'],\n",
    "               aggfunc='count', margins=True, fill_value=0)"
   ]
  },
  {
   "cell_type": "code",
   "execution_count": 145,
   "metadata": {},
   "outputs": [
    {
     "data": {
      "text/html": [
       "<div>\n",
       "<table border=\"1\" class=\"dataframe\">\n",
       "  <thead>\n",
       "    <tr>\n",
       "      <th></th>\n",
       "      <th colspan=\"3\" halign=\"left\">imprace</th>\n",
       "    </tr>\n",
       "    <tr>\n",
       "      <th>gender</th>\n",
       "      <th>Female</th>\n",
       "      <th>Male</th>\n",
       "      <th>All</th>\n",
       "    </tr>\n",
       "    <tr>\n",
       "      <th>race</th>\n",
       "      <th></th>\n",
       "      <th></th>\n",
       "      <th></th>\n",
       "    </tr>\n",
       "  </thead>\n",
       "  <tbody>\n",
       "    <tr>\n",
       "      <th>Asian/Pacific Islander/Asian-American</th>\n",
       "      <td>3.633803</td>\n",
       "      <td>3.107692</td>\n",
       "      <td>3.382353</td>\n",
       "    </tr>\n",
       "    <tr>\n",
       "      <th>Black/African American</th>\n",
       "      <td>4.062500</td>\n",
       "      <td>2.500000</td>\n",
       "      <td>3.461538</td>\n",
       "    </tr>\n",
       "    <tr>\n",
       "      <th>European/Caucasian-American</th>\n",
       "      <td>4.652482</td>\n",
       "      <td>3.740741</td>\n",
       "      <td>4.165017</td>\n",
       "    </tr>\n",
       "    <tr>\n",
       "      <th>Latino/Hispanic American</th>\n",
       "      <td>2.840000</td>\n",
       "      <td>2.411765</td>\n",
       "      <td>2.666667</td>\n",
       "    </tr>\n",
       "    <tr>\n",
       "      <th>Other</th>\n",
       "      <td>3.562500</td>\n",
       "      <td>2.380952</td>\n",
       "      <td>2.891892</td>\n",
       "    </tr>\n",
       "    <tr>\n",
       "      <th>All</th>\n",
       "      <td>4.115242</td>\n",
       "      <td>3.360000</td>\n",
       "      <td>3.733456</td>\n",
       "    </tr>\n",
       "  </tbody>\n",
       "</table>\n",
       "</div>"
      ],
      "text/plain": [
       "                                        imprace                    \n",
       "gender                                   Female      Male       All\n",
       "race                                                               \n",
       "Asian/Pacific Islander/Asian-American  3.633803  3.107692  3.382353\n",
       "Black/African American                 4.062500  2.500000  3.461538\n",
       "European/Caucasian-American            4.652482  3.740741  4.165017\n",
       "Latino/Hispanic American               2.840000  2.411765  2.666667\n",
       "Other                                  3.562500  2.380952  2.891892\n",
       "All                                    4.115242  3.360000  3.733456"
      ]
     },
     "execution_count": 145,
     "metadata": {},
     "output_type": "execute_result"
    }
   ],
   "source": [
    "dd.pivot_table(values=['imprace'], index=['race'], columns=['gender'], aggfunc='mean', margins=True, fill_value=0)"
   ]
  },
  {
   "cell_type": "code",
   "execution_count": 120,
   "metadata": {},
   "outputs": [
    {
     "data": {
      "text/plain": [
       "race                                   gender\n",
       "Black/African American                 Male       10\n",
       "                                       Female     16\n",
       "Other                                  Female     16\n",
       "Latino/Hispanic American               Male       17\n",
       "Other                                  Male       21\n",
       "Latino/Hispanic American               Female     25\n",
       "Asian/Pacific Islander/Asian-American  Male       65\n",
       "                                       Female     71\n",
       "European/Caucasian-American            Female    142\n",
       "                                       Male      162\n",
       "dtype: int64"
      ]
     },
     "execution_count": 120,
     "metadata": {},
     "output_type": "execute_result"
    }
   ],
   "source": [
    "s = ds.groupby(['race', 'gender']).size()\n",
    "s.sort_values()"
   ]
  },
  {
   "cell_type": "code",
   "execution_count": 104,
   "metadata": {},
   "outputs": [
    {
     "data": {
      "text/plain": [
       "<matplotlib.axes._subplots.AxesSubplot at 0x1201e1a58>"
      ]
     },
     "execution_count": 104,
     "metadata": {},
     "output_type": "execute_result"
    },
    {
     "data": {
      "image/png": "[encoded data removed]",
      "text/plain": [
       "<matplotlib.figure.Figure at 0x11a0d1be0>"
      ]
     },
     "metadata": {},
     "output_type": "display_data"
    }
   ],
   "source": [
    "seaborn.countplot(y='imprace', hue='race', data=dd)"
   ]
  },
  {
   "cell_type": "code",
   "execution_count": null,
   "metadata": {
    "collapsed": true
   },
   "outputs": [],
   "source": []
  },
  {
   "cell_type": "code",
   "execution_count": 3,
   "metadata": {
    "collapsed": true
   },
   "outputs": [],
   "source": [
    "c = ['dec_female', 'dec_male', 'match_female']\n",
    "y = df[c]\n",
    "other = ['attr_o_male', 'attr_o_female']\n",
    "xc = [x for x in df if x not in c and x not in other]\n",
    "X_ = df[xc]"
   ]
  },
  {
   "cell_type": "code",
   "execution_count": 161,
   "metadata": {},
   "outputs": [],
   "source": [
    "import xgboost as xgb\n",
    "clf_ = xgb.XGBClassifier(base_score=0.5, colsample_bylevel=1, colsample_bytree=0.5,\n",
    "       gamma=0, learning_rate=0.1, max_delta_step=0, max_depth=3,\n",
    "       min_child_weight=1, missing=np.nan, n_estimators=30, nthread=-1,\n",
    "       objective='binary:logistic', reg_alpha=0, reg_lambda=1,\n",
    "       scale_pos_weight=1, seed=0, silent=True, subsample=0.5)"
   ]
  },
  {
   "cell_type": "code",
   "execution_count": 162,
   "metadata": {},
   "outputs": [
    {
     "name": "stdout",
     "output_type": "stream",
     "text": [
      "(4184, 3330)\n"
     ]
    }
   ],
   "source": [
    "X = pd.get_dummies(X_)\n",
    "print(X.shape)"
   ]
  },
  {
   "cell_type": "code",
   "execution_count": 163,
   "metadata": {
    "collapsed": true
   },
   "outputs": [],
   "source": [
    "import sklearn.cross_validation\n",
    "X_train, X_test, y_train, y_test = sklearn.cross_validation.train_test_split(X, y)"
   ]
  },
  {
   "cell_type": "code",
   "execution_count": 168,
   "metadata": {},
   "outputs": [
    {
     "name": "stdout",
     "output_type": "stream",
     "text": [
      "[0]\tvalidation_0-auc:0.610658\tvalidation_1-auc:0.568494\n",
      "Multiple eval metrics have been passed: 'validation_1-auc' will be used for early stopping.\n",
      "\n",
      "Will train until validation_1-auc hasn't improved in 20 rounds.\n",
      "[1]\tvalidation_0-auc:0.656038\tvalidation_1-auc:0.603827\n",
      "[2]\tvalidation_0-auc:0.680421\tvalidation_1-auc:0.621492\n",
      "[3]\tvalidation_0-auc:0.707101\tvalidation_1-auc:0.639155\n",
      "[4]\tvalidation_0-auc:0.71663\tvalidation_1-auc:0.645138\n",
      "[5]\tvalidation_0-auc:0.729496\tvalidation_1-auc:0.664785\n",
      "[6]\tvalidation_0-auc:0.732545\tvalidation_1-auc:0.665351\n",
      "[7]\tvalidation_0-auc:0.736985\tvalidation_1-auc:0.668402\n",
      "[8]\tvalidation_0-auc:0.743124\tvalidation_1-auc:0.670843\n",
      "[9]\tvalidation_0-auc:0.745777\tvalidation_1-auc:0.669751\n",
      "[10]\tvalidation_0-auc:0.75077\tvalidation_1-auc:0.671087\n",
      "[11]\tvalidation_0-auc:0.75739\tvalidation_1-auc:0.678678\n",
      "[12]\tvalidation_0-auc:0.762655\tvalidation_1-auc:0.681195\n",
      "[13]\tvalidation_0-auc:0.766096\tvalidation_1-auc:0.682487\n",
      "[14]\tvalidation_0-auc:0.769984\tvalidation_1-auc:0.688768\n",
      "[15]\tvalidation_0-auc:0.7745\tvalidation_1-auc:0.693087\n",
      "[16]\tvalidation_0-auc:0.775991\tvalidation_1-auc:0.695564\n",
      "[17]\tvalidation_0-auc:0.782952\tvalidation_1-auc:0.699803\n",
      "[18]\tvalidation_0-auc:0.784501\tvalidation_1-auc:0.70239\n",
      "[19]\tvalidation_0-auc:0.786683\tvalidation_1-auc:0.704077\n",
      "[20]\tvalidation_0-auc:0.789959\tvalidation_1-auc:0.706948\n",
      "[21]\tvalidation_0-auc:0.791279\tvalidation_1-auc:0.709879\n",
      "[22]\tvalidation_0-auc:0.793361\tvalidation_1-auc:0.71182\n",
      "[23]\tvalidation_0-auc:0.795539\tvalidation_1-auc:0.716391\n",
      "[24]\tvalidation_0-auc:0.798317\tvalidation_1-auc:0.716622\n",
      "[25]\tvalidation_0-auc:0.799282\tvalidation_1-auc:0.716958\n",
      "[26]\tvalidation_0-auc:0.802544\tvalidation_1-auc:0.717505\n",
      "[27]\tvalidation_0-auc:0.804728\tvalidation_1-auc:0.720554\n",
      "[28]\tvalidation_0-auc:0.805412\tvalidation_1-auc:0.721949\n",
      "[29]\tvalidation_0-auc:0.806885\tvalidation_1-auc:0.721891\n"
     ]
    },
    {
     "name": "stderr",
     "output_type": "stream",
     "text": [
      "/Users/davidcottrell/anaconda/envs/35/lib/python3.5/site-packages/ipykernel_launcher.py:6: FutureWarning: sort is deprecated, use sort_values(inplace=True) for INPLACE sorting\n",
      "  \n"
     ]
    }
   ],
   "source": [
    "k = 'dec_female'\n",
    "clf_.fit(X_train, y_train[k], eval_set=[(X_train, y_train[k]), (X_test, y_test[k])],\n",
    "         eval_metric='auc', early_stopping_rounds=20)\n",
    "s = pd.Series(clf_.feature_importances_, index=X.columns)\n",
    "s = s[s>0.01]\n",
    "s.sort()"
   ]
  },
  {
   "cell_type": "code",
   "execution_count": 169,
   "metadata": {},
   "outputs": [
    {
     "name": "stdout",
     "output_type": "stream",
     "text": [
      "Populating the interactive namespace from numpy and matplotlib\n"
     ]
    },
    {
     "data": {
      "text/plain": [
       "<matplotlib.axes._subplots.AxesSubplot at 0x113559550>"
      ]
     },
     "execution_count": 169,
     "metadata": {},
     "output_type": "execute_result"
    },
    {
     "data": {
      "image/png": "[encoded data removed]",
      "text/plain": [
       "<matplotlib.figure.Figure at 0x112d5f400>"
      ]
     },
     "metadata": {},
     "output_type": "display_data"
    },
    {
     "data": {
      "image/png": "[encoded data removed]",
      "text/plain": [
       "<matplotlib.figure.Figure at 0x112d5f2e8>"
      ]
     },
     "metadata": {},
     "output_type": "display_data"
    }
   ],
   "source": [
    "%pylab inline\n",
    "\n",
    "title(k)\n",
    "figure(figsize=(10, 10))\n",
    "s.plot(kind='barh')"
   ]
  },
  {
   "cell_type": "code",
   "execution_count": 24,
   "metadata": {},
   "outputs": [
    {
     "name": "stdout",
     "output_type": "stream",
     "text": [
      "[0]\tvalidation_0-auc:0.579169\tvalidation_1-auc:0.574767\n",
      "Multiple eval metrics have been passed: 'validation_1-auc' will be used for early stopping.\n",
      "\n",
      "Will train until validation_1-auc hasn't improved in 20 rounds.\n",
      "[1]\tvalidation_0-auc:0.641574\tvalidation_1-auc:0.597294\n",
      "[2]\tvalidation_0-auc:0.675199\tvalidation_1-auc:0.601683\n",
      "[3]\tvalidation_0-auc:0.689623\tvalidation_1-auc:0.619728\n",
      "[4]\tvalidation_0-auc:0.701412\tvalidation_1-auc:0.644033\n",
      "[5]\tvalidation_0-auc:0.714197\tvalidation_1-auc:0.662495\n",
      "[6]\tvalidation_0-auc:0.723296\tvalidation_1-auc:0.662109\n",
      "[7]\tvalidation_0-auc:0.735347\tvalidation_1-auc:0.668344\n",
      "[8]\tvalidation_0-auc:0.737528\tvalidation_1-auc:0.676899\n",
      "[9]\tvalidation_0-auc:0.742724\tvalidation_1-auc:0.687379\n",
      "[10]\tvalidation_0-auc:0.745285\tvalidation_1-auc:0.689888\n",
      "[11]\tvalidation_0-auc:0.750856\tvalidation_1-auc:0.690698\n",
      "[12]\tvalidation_0-auc:0.754987\tvalidation_1-auc:0.692589\n",
      "[13]\tvalidation_0-auc:0.759927\tvalidation_1-auc:0.688212\n",
      "[14]\tvalidation_0-auc:0.764547\tvalidation_1-auc:0.691449\n",
      "[15]\tvalidation_0-auc:0.764108\tvalidation_1-auc:0.694078\n",
      "[16]\tvalidation_0-auc:0.765814\tvalidation_1-auc:0.693632\n",
      "[17]\tvalidation_0-auc:0.766888\tvalidation_1-auc:0.695215\n",
      "[18]\tvalidation_0-auc:0.767034\tvalidation_1-auc:0.697352\n",
      "[19]\tvalidation_0-auc:0.767612\tvalidation_1-auc:0.695145\n",
      "[20]\tvalidation_0-auc:0.770679\tvalidation_1-auc:0.695527\n",
      "[21]\tvalidation_0-auc:0.772076\tvalidation_1-auc:0.698508\n",
      "[22]\tvalidation_0-auc:0.776047\tvalidation_1-auc:0.69911\n",
      "[23]\tvalidation_0-auc:0.782173\tvalidation_1-auc:0.706436\n",
      "[24]\tvalidation_0-auc:0.78305\tvalidation_1-auc:0.705218\n",
      "[25]\tvalidation_0-auc:0.784017\tvalidation_1-auc:0.705063\n",
      "[26]\tvalidation_0-auc:0.789291\tvalidation_1-auc:0.710075\n",
      "[27]\tvalidation_0-auc:0.79168\tvalidation_1-auc:0.710586\n",
      "[28]\tvalidation_0-auc:0.792424\tvalidation_1-auc:0.714067\n",
      "[29]\tvalidation_0-auc:0.793982\tvalidation_1-auc:0.714056\n",
      "[30]\tvalidation_0-auc:0.795093\tvalidation_1-auc:0.713872\n",
      "[31]\tvalidation_0-auc:0.79889\tvalidation_1-auc:0.719057\n",
      "[32]\tvalidation_0-auc:0.800034\tvalidation_1-auc:0.718788\n",
      "[33]\tvalidation_0-auc:0.804223\tvalidation_1-auc:0.721497\n",
      "[34]\tvalidation_0-auc:0.805906\tvalidation_1-auc:0.722806\n",
      "[35]\tvalidation_0-auc:0.806071\tvalidation_1-auc:0.721353\n",
      "[36]\tvalidation_0-auc:0.808203\tvalidation_1-auc:0.720941\n",
      "[37]\tvalidation_0-auc:0.808953\tvalidation_1-auc:0.723274\n",
      "[38]\tvalidation_0-auc:0.811443\tvalidation_1-auc:0.726644\n",
      "[39]\tvalidation_0-auc:0.812639\tvalidation_1-auc:0.726409\n",
      "[40]\tvalidation_0-auc:0.816834\tvalidation_1-auc:0.727662\n",
      "[41]\tvalidation_0-auc:0.817823\tvalidation_1-auc:0.728148\n",
      "[42]\tvalidation_0-auc:0.819746\tvalidation_1-auc:0.725767\n",
      "[43]\tvalidation_0-auc:0.819413\tvalidation_1-auc:0.725483\n",
      "[44]\tvalidation_0-auc:0.819457\tvalidation_1-auc:0.726598\n",
      "[45]\tvalidation_0-auc:0.820611\tvalidation_1-auc:0.7275\n",
      "[46]\tvalidation_0-auc:0.822365\tvalidation_1-auc:0.731853\n",
      "[47]\tvalidation_0-auc:0.82364\tvalidation_1-auc:0.733722\n",
      "[48]\tvalidation_0-auc:0.823853\tvalidation_1-auc:0.732618\n",
      "[49]\tvalidation_0-auc:0.824676\tvalidation_1-auc:0.731213\n",
      "[50]\tvalidation_0-auc:0.826627\tvalidation_1-auc:0.731529\n",
      "[51]\tvalidation_0-auc:0.827192\tvalidation_1-auc:0.7315\n",
      "[52]\tvalidation_0-auc:0.828188\tvalidation_1-auc:0.732015\n",
      "[53]\tvalidation_0-auc:0.830341\tvalidation_1-auc:0.733192\n",
      "[54]\tvalidation_0-auc:0.830208\tvalidation_1-auc:0.732489\n",
      "[55]\tvalidation_0-auc:0.832702\tvalidation_1-auc:0.734281\n",
      "[56]\tvalidation_0-auc:0.83418\tvalidation_1-auc:0.737207\n",
      "[57]\tvalidation_0-auc:0.836414\tvalidation_1-auc:0.739727\n",
      "[58]\tvalidation_0-auc:0.836436\tvalidation_1-auc:0.739262\n",
      "[59]\tvalidation_0-auc:0.837233\tvalidation_1-auc:0.73976\n",
      "[60]\tvalidation_0-auc:0.838732\tvalidation_1-auc:0.740213\n",
      "[61]\tvalidation_0-auc:0.839963\tvalidation_1-auc:0.74\n",
      "[62]\tvalidation_0-auc:0.840837\tvalidation_1-auc:0.740342\n",
      "[63]\tvalidation_0-auc:0.841602\tvalidation_1-auc:0.744279\n",
      "[64]\tvalidation_0-auc:0.842053\tvalidation_1-auc:0.74227\n",
      "[65]\tvalidation_0-auc:0.843038\tvalidation_1-auc:0.745085\n",
      "[66]\tvalidation_0-auc:0.843352\tvalidation_1-auc:0.745103\n",
      "[67]\tvalidation_0-auc:0.844352\tvalidation_1-auc:0.74571\n",
      "[68]\tvalidation_0-auc:0.845058\tvalidation_1-auc:0.74645\n",
      "[69]\tvalidation_0-auc:0.846972\tvalidation_1-auc:0.745471\n",
      "[70]\tvalidation_0-auc:0.849254\tvalidation_1-auc:0.746711\n",
      "[71]\tvalidation_0-auc:0.850298\tvalidation_1-auc:0.747594\n",
      "[72]\tvalidation_0-auc:0.85118\tvalidation_1-auc:0.748238\n",
      "[73]\tvalidation_0-auc:0.852578\tvalidation_1-auc:0.748378\n",
      "[74]\tvalidation_0-auc:0.853199\tvalidation_1-auc:0.748393\n",
      "[75]\tvalidation_0-auc:0.855434\tvalidation_1-auc:0.749144\n",
      "[76]\tvalidation_0-auc:0.856387\tvalidation_1-auc:0.749055\n",
      "[77]\tvalidation_0-auc:0.856133\tvalidation_1-auc:0.748069\n",
      "[78]\tvalidation_0-auc:0.856716\tvalidation_1-auc:0.747778\n",
      "[79]\tvalidation_0-auc:0.857689\tvalidation_1-auc:0.746987\n",
      "[80]\tvalidation_0-auc:0.858207\tvalidation_1-auc:0.747307\n",
      "[81]\tvalidation_0-auc:0.858549\tvalidation_1-auc:0.747852\n",
      "[82]\tvalidation_0-auc:0.858837\tvalidation_1-auc:0.748003\n",
      "[83]\tvalidation_0-auc:0.859045\tvalidation_1-auc:0.748518\n",
      "[84]\tvalidation_0-auc:0.859872\tvalidation_1-auc:0.749335\n",
      "[85]\tvalidation_0-auc:0.860173\tvalidation_1-auc:0.750111\n",
      "[86]\tvalidation_0-auc:0.861678\tvalidation_1-auc:0.752268\n",
      "[87]\tvalidation_0-auc:0.862633\tvalidation_1-auc:0.752856\n",
      "[88]\tvalidation_0-auc:0.863842\tvalidation_1-auc:0.752536\n",
      "[89]\tvalidation_0-auc:0.864861\tvalidation_1-auc:0.753879\n",
      "[90]\tvalidation_0-auc:0.865086\tvalidation_1-auc:0.75357\n",
      "[91]\tvalidation_0-auc:0.86582\tvalidation_1-auc:0.753662\n",
      "[92]\tvalidation_0-auc:0.866285\tvalidation_1-auc:0.754961\n",
      "[93]\tvalidation_0-auc:0.867254\tvalidation_1-auc:0.75591\n",
      "[94]\tvalidation_0-auc:0.8679\tvalidation_1-auc:0.756573\n",
      "[95]\tvalidation_0-auc:0.869696\tvalidation_1-auc:0.758755\n",
      "[96]\tvalidation_0-auc:0.869979\tvalidation_1-auc:0.758895\n",
      "[97]\tvalidation_0-auc:0.870408\tvalidation_1-auc:0.758593\n",
      "[98]\tvalidation_0-auc:0.870594\tvalidation_1-auc:0.759023\n",
      "[99]\tvalidation_0-auc:0.871079\tvalidation_1-auc:0.759425\n"
     ]
    },
    {
     "name": "stderr",
     "output_type": "stream",
     "text": [
      "/Users/davidcottrell/anaconda/envs/35/lib/python3.5/site-packages/ipykernel_launcher.py:5: FutureWarning: sort is deprecated, use sort_values(inplace=True) for INPLACE sorting\n",
      "  \"\"\"\n"
     ]
    }
   ],
   "source": [
    "k = 'dec_male'\n",
    "clf_.fit(X_train, y_train[k], eval_set=[(X_train, y_train[k]), (X_test, y_test[k])], eval_metric='auc', early_stopping_rounds=20)\n",
    "s = pd.Series(clf_.feature_importances_, index=X.columns)\n",
    "s = s[s>0.01]\n",
    "s.sort()"
   ]
  },
  {
   "cell_type": "code",
   "execution_count": 25,
   "metadata": {},
   "outputs": [
    {
     "data": {
      "text/plain": [
       "positin1_female       0.011218\n",
       "sports_male           0.011218\n",
       "pf_o_att_male         0.011218\n",
       "hiking_male           0.011218\n",
       "exercise_female       0.011218\n",
       "concerts_female       0.011218\n",
       "position_female_14    0.011218\n",
       "order_female          0.011218\n",
       "id_female             0.011218\n",
       "sports_female         0.012821\n",
       "exercise_male         0.014423\n",
       "clubbing_female       0.014423\n",
       "concerts_male         0.014423\n",
       "movies_male           0.014423\n",
       "music_female          0.014423\n",
       "yoga_female           0.014423\n",
       "partner_male          0.016026\n",
       "museums_male          0.016026\n",
       "age_o_male            0.017628\n",
       "gaming_male           0.017628\n",
       "shopping_male         0.019231\n",
       "yoga_male             0.019231\n",
       "imprace_female        0.020833\n",
       "tv_female             0.022436\n",
       "pf_o_att_female       0.022436\n",
       "movies_female         0.022436\n",
       "positin1_male         0.022436\n",
       "age_o_female          0.024038\n",
       "imprace_male          0.024038\n",
       "tvsports_female       0.028846\n",
       "int_corr_female       0.032051\n",
       "dtype: float32"
      ]
     },
     "execution_count": 25,
     "metadata": {},
     "output_type": "execute_result"
    }
   ],
   "source": [
    "s"
   ]
  },
  {
   "cell_type": "code",
   "execution_count": 26,
   "metadata": {},
   "outputs": [
    {
     "name": "stdout",
     "output_type": "stream",
     "text": [
      "Populating the interactive namespace from numpy and matplotlib\n"
     ]
    },
    {
     "data": {
      "text/plain": [
       "<matplotlib.axes._subplots.AxesSubplot at 0x110e39f98>"
      ]
     },
     "execution_count": 26,
     "metadata": {},
     "output_type": "execute_result"
    },
    {
     "data": {
      "image/png": "[encoded data removed]",
      "text/plain": [
       "<matplotlib.figure.Figure at 0x110e39f60>"
      ]
     },
     "metadata": {},
     "output_type": "display_data"
    }
   ],
   "source": [
    "%pylab inline\n",
    "figure(figsize=(10, 10))\n",
    "s.plot(kind='barh')"
   ]
  },
  {
   "cell_type": "code",
   "execution_count": 27,
   "metadata": {},
   "outputs": [
    {
     "name": "stdout",
     "output_type": "stream",
     "text": [
      "[0]\tvalidation_0-auc:0.523394\tvalidation_1-auc:0.508001\n",
      "Multiple eval metrics have been passed: 'validation_1-auc' will be used for early stopping.\n",
      "\n",
      "Will train until validation_1-auc hasn't improved in 20 rounds.\n",
      "[1]\tvalidation_0-auc:0.532821\tvalidation_1-auc:0.519418\n",
      "[2]\tvalidation_0-auc:0.556054\tvalidation_1-auc:0.525056\n",
      "[3]\tvalidation_0-auc:0.566342\tvalidation_1-auc:0.529909\n",
      "[4]\tvalidation_0-auc:0.57334\tvalidation_1-auc:0.533799\n",
      "[5]\tvalidation_0-auc:0.612262\tvalidation_1-auc:0.539682\n",
      "[6]\tvalidation_0-auc:0.619859\tvalidation_1-auc:0.538122\n",
      "[7]\tvalidation_0-auc:0.653217\tvalidation_1-auc:0.553235\n",
      "[8]\tvalidation_0-auc:0.663016\tvalidation_1-auc:0.562626\n",
      "[9]\tvalidation_0-auc:0.69713\tvalidation_1-auc:0.525274\n",
      "[10]\tvalidation_0-auc:0.704962\tvalidation_1-auc:0.520018\n",
      "[11]\tvalidation_0-auc:0.718193\tvalidation_1-auc:0.536405\n",
      "[12]\tvalidation_0-auc:0.723232\tvalidation_1-auc:0.534498\n",
      "[13]\tvalidation_0-auc:0.729157\tvalidation_1-auc:0.536756\n",
      "[14]\tvalidation_0-auc:0.731396\tvalidation_1-auc:0.540741\n",
      "[15]\tvalidation_0-auc:0.730909\tvalidation_1-auc:0.544392\n",
      "[16]\tvalidation_0-auc:0.736008\tvalidation_1-auc:0.554478\n",
      "[17]\tvalidation_0-auc:0.751116\tvalidation_1-auc:0.57685\n",
      "[18]\tvalidation_0-auc:0.75208\tvalidation_1-auc:0.575351\n",
      "[19]\tvalidation_0-auc:0.755837\tvalidation_1-auc:0.579953\n",
      "[20]\tvalidation_0-auc:0.761716\tvalidation_1-auc:0.585835\n",
      "[21]\tvalidation_0-auc:0.766037\tvalidation_1-auc:0.582831\n",
      "[22]\tvalidation_0-auc:0.766042\tvalidation_1-auc:0.580862\n",
      "[23]\tvalidation_0-auc:0.77344\tvalidation_1-auc:0.5717\n",
      "[24]\tvalidation_0-auc:0.78318\tvalidation_1-auc:0.573536\n",
      "[25]\tvalidation_0-auc:0.783197\tvalidation_1-auc:0.581884\n",
      "[26]\tvalidation_0-auc:0.785762\tvalidation_1-auc:0.593683\n",
      "[27]\tvalidation_0-auc:0.786609\tvalidation_1-auc:0.603854\n",
      "[28]\tvalidation_0-auc:0.787128\tvalidation_1-auc:0.602624\n",
      "[29]\tvalidation_0-auc:0.789649\tvalidation_1-auc:0.603414\n",
      "[30]\tvalidation_0-auc:0.792657\tvalidation_1-auc:0.605141\n",
      "[31]\tvalidation_0-auc:0.795383\tvalidation_1-auc:0.612195\n",
      "[32]\tvalidation_0-auc:0.7974\tvalidation_1-auc:0.610765\n",
      "[33]\tvalidation_0-auc:0.800068\tvalidation_1-auc:0.616405\n",
      "[34]\tvalidation_0-auc:0.803967\tvalidation_1-auc:0.619117\n",
      "[35]\tvalidation_0-auc:0.807079\tvalidation_1-auc:0.620888\n",
      "[36]\tvalidation_0-auc:0.811681\tvalidation_1-auc:0.617666\n",
      "[37]\tvalidation_0-auc:0.814592\tvalidation_1-auc:0.615223\n",
      "[38]\tvalidation_0-auc:0.814945\tvalidation_1-auc:0.612914\n",
      "[39]\tvalidation_0-auc:0.817954\tvalidation_1-auc:0.610918\n",
      "[40]\tvalidation_0-auc:0.822316\tvalidation_1-auc:0.615823\n",
      "[41]\tvalidation_0-auc:0.825949\tvalidation_1-auc:0.617608\n",
      "[42]\tvalidation_0-auc:0.829096\tvalidation_1-auc:0.616382\n",
      "[43]\tvalidation_0-auc:0.828895\tvalidation_1-auc:0.620714\n",
      "[44]\tvalidation_0-auc:0.829365\tvalidation_1-auc:0.620231\n",
      "[45]\tvalidation_0-auc:0.829784\tvalidation_1-auc:0.619318\n",
      "[46]\tvalidation_0-auc:0.831505\tvalidation_1-auc:0.621545\n",
      "[47]\tvalidation_0-auc:0.832087\tvalidation_1-auc:0.618088\n",
      "[48]\tvalidation_0-auc:0.833651\tvalidation_1-auc:0.611828\n",
      "[49]\tvalidation_0-auc:0.835436\tvalidation_1-auc:0.612843\n",
      "[50]\tvalidation_0-auc:0.837617\tvalidation_1-auc:0.615908\n",
      "[51]\tvalidation_0-auc:0.840603\tvalidation_1-auc:0.612802\n",
      "[52]\tvalidation_0-auc:0.841755\tvalidation_1-auc:0.613565\n",
      "[53]\tvalidation_0-auc:0.842374\tvalidation_1-auc:0.614191\n",
      "[54]\tvalidation_0-auc:0.843107\tvalidation_1-auc:0.613313\n",
      "[55]\tvalidation_0-auc:0.84365\tvalidation_1-auc:0.619028\n",
      "[56]\tvalidation_0-auc:0.844501\tvalidation_1-auc:0.617747\n",
      "[57]\tvalidation_0-auc:0.844992\tvalidation_1-auc:0.618395\n",
      "[58]\tvalidation_0-auc:0.843679\tvalidation_1-auc:0.621113\n",
      "[59]\tvalidation_0-auc:0.84542\tvalidation_1-auc:0.620629\n",
      "[60]\tvalidation_0-auc:0.847961\tvalidation_1-auc:0.625622\n",
      "[61]\tvalidation_0-auc:0.850512\tvalidation_1-auc:0.624498\n",
      "[62]\tvalidation_0-auc:0.850951\tvalidation_1-auc:0.624321\n",
      "[63]\tvalidation_0-auc:0.852679\tvalidation_1-auc:0.626457\n",
      "[64]\tvalidation_0-auc:0.853867\tvalidation_1-auc:0.631086\n",
      "[65]\tvalidation_0-auc:0.856315\tvalidation_1-auc:0.628892\n",
      "[66]\tvalidation_0-auc:0.857412\tvalidation_1-auc:0.629349\n",
      "[67]\tvalidation_0-auc:0.858396\tvalidation_1-auc:0.630936\n",
      "[68]\tvalidation_0-auc:0.86007\tvalidation_1-auc:0.633062\n",
      "[69]\tvalidation_0-auc:0.861908\tvalidation_1-auc:0.635943\n",
      "[70]\tvalidation_0-auc:0.863054\tvalidation_1-auc:0.633484\n",
      "[71]\tvalidation_0-auc:0.864898\tvalidation_1-auc:0.638232\n",
      "[72]\tvalidation_0-auc:0.86483\tvalidation_1-auc:0.637762\n",
      "[73]\tvalidation_0-auc:0.865396\tvalidation_1-auc:0.638886\n",
      "[74]\tvalidation_0-auc:0.867237\tvalidation_1-auc:0.637742\n",
      "[75]\tvalidation_0-auc:0.867935\tvalidation_1-auc:0.639806\n",
      "[76]\tvalidation_0-auc:0.870396\tvalidation_1-auc:0.641189\n",
      "[77]\tvalidation_0-auc:0.869991\tvalidation_1-auc:0.6433\n",
      "[78]\tvalidation_0-auc:0.871158\tvalidation_1-auc:0.642279\n",
      "[79]\tvalidation_0-auc:0.871339\tvalidation_1-auc:0.64221\n",
      "[80]\tvalidation_0-auc:0.873193\tvalidation_1-auc:0.64343\n",
      "[81]\tvalidation_0-auc:0.873583\tvalidation_1-auc:0.641284\n",
      "[82]\tvalidation_0-auc:0.874041\tvalidation_1-auc:0.639724\n",
      "[83]\tvalidation_0-auc:0.875856\tvalidation_1-auc:0.64345\n",
      "[84]\tvalidation_0-auc:0.876353\tvalidation_1-auc:0.64296\n",
      "[85]\tvalidation_0-auc:0.877392\tvalidation_1-auc:0.642333\n",
      "[86]\tvalidation_0-auc:0.8798\tvalidation_1-auc:0.6442\n",
      "[87]\tvalidation_0-auc:0.881022\tvalidation_1-auc:0.644983\n",
      "[88]\tvalidation_0-auc:0.882663\tvalidation_1-auc:0.643845\n",
      "[89]\tvalidation_0-auc:0.883713\tvalidation_1-auc:0.642987\n",
      "[90]\tvalidation_0-auc:0.884096\tvalidation_1-auc:0.642204\n",
      "[91]\tvalidation_0-auc:0.884757\tvalidation_1-auc:0.645153\n",
      "[92]\tvalidation_0-auc:0.885256\tvalidation_1-auc:0.646747\n",
      "[93]\tvalidation_0-auc:0.885983\tvalidation_1-auc:0.647476\n",
      "[94]\tvalidation_0-auc:0.885703\tvalidation_1-auc:0.647974\n",
      "[95]\tvalidation_0-auc:0.886721\tvalidation_1-auc:0.650358\n",
      "[96]\tvalidation_0-auc:0.886846\tvalidation_1-auc:0.648508\n",
      "[97]\tvalidation_0-auc:0.886725\tvalidation_1-auc:0.648151\n",
      "[98]\tvalidation_0-auc:0.888234\tvalidation_1-auc:0.64828\n",
      "[99]\tvalidation_0-auc:0.889987\tvalidation_1-auc:0.647592\n"
     ]
    },
    {
     "name": "stderr",
     "output_type": "stream",
     "text": [
      "/Users/davidcottrell/anaconda/envs/35/lib/python3.5/site-packages/ipykernel_launcher.py:5: FutureWarning: sort is deprecated, use sort_values(inplace=True) for INPLACE sorting\n",
      "  \"\"\"\n"
     ]
    }
   ],
   "source": [
    "k = 'match_female'\n",
    "clf_.fit(X_train, y_train[k], eval_set=[(X_train, y_train[k]), (X_test, y_test[k])], eval_metric='auc', early_stopping_rounds=20)\n",
    "s = pd.Series(clf_.feature_importances_, index=X.columns)\n",
    "s = s[s>0.01]\n",
    "s.sort()"
   ]
  },
  {
   "cell_type": "code",
   "execution_count": 28,
   "metadata": {},
   "outputs": [
    {
     "data": {
      "text/plain": [
       "hiking_male        0.010033\n",
       "sports_male        0.010033\n",
       "gaming_female      0.010033\n",
       "yoga_female        0.010033\n",
       "music_male         0.011706\n",
       "theater_female     0.011706\n",
       "positin1_female    0.011706\n",
       "museums_female     0.011706\n",
       "order_male         0.013378\n",
       "age_o_male         0.013378\n",
       "tvsports_female    0.013378\n",
       "museums_male       0.013378\n",
       "movies_female      0.013378\n",
       "art_female         0.013378\n",
       "exercise_female    0.015050\n",
       "positin1_male      0.015050\n",
       "art_male           0.015050\n",
       "order_female       0.015050\n",
       "int_corr_male      0.015050\n",
       "pf_o_att_male      0.016722\n",
       "clubbing_male      0.016722\n",
       "exphappy_female    0.016722\n",
       "id_male            0.016722\n",
       "concerts_female    0.016722\n",
       "reading_male       0.020067\n",
       "clubbing_female    0.020067\n",
       "age_o_female       0.020067\n",
       "imprace_male       0.021739\n",
       "imprace_female     0.025084\n",
       "tvsports_male      0.025084\n",
       "pf_o_att_female    0.036789\n",
       "int_corr_female    0.043478\n",
       "dtype: float32"
      ]
     },
     "execution_count": 28,
     "metadata": {},
     "output_type": "execute_result"
    }
   ],
   "source": [
    "s"
   ]
  },
  {
   "cell_type": "code",
   "execution_count": 29,
   "metadata": {},
   "outputs": [
    {
     "name": "stdout",
     "output_type": "stream",
     "text": [
      "Populating the interactive namespace from numpy and matplotlib\n"
     ]
    },
    {
     "data": {
      "text/plain": [
       "<matplotlib.axes._subplots.AxesSubplot at 0x1046448d0>"
      ]
     },
     "execution_count": 29,
     "metadata": {},
     "output_type": "execute_result"
    },
    {
     "data": {
      "image/png": "[encoded data removed]",
      "text/plain": [
       "<matplotlib.figure.Figure at 0x10dc28f28>"
      ]
     },
     "metadata": {},
     "output_type": "display_data"
    }
   ],
   "source": [
    "%pylab inline\n",
    "figure(figsize=(10, 10))\n",
    "s.plot(kind='barh')"
   ]
  },
  {
   "cell_type": "code",
   "execution_count": null,
   "metadata": {
    "collapsed": true
   },
   "outputs": [],
   "source": []
  },
  {
   "cell_type": "code",
   "execution_count": null,
   "metadata": {
    "collapsed": true
   },
   "outputs": [],
   "source": []
  }
 ],
 "metadata": {
  "kernelspec": {
   "display_name": "Python 3",
   "language": "python",
   "name": "python3"
  },
  "language_info": {
   "codemirror_mode": {
    "name": "ipython",
    "version": 3
   },
   "file_extension": ".py",
   "mimetype": "text/x-python",
   "name": "python",
   "nbconvert_exporter": "python",
   "pygments_lexer": "ipython3",
   "version": "3.5.3"
  }
 },
 "nbformat": 4,
 "nbformat_minor": 2
}
