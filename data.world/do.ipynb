{
 "cells": [
  {
   "cell_type": "markdown",
   "metadata": {},
   "source": [
    "### Match and questionnaire data from speed dating experiment run by Columbia professors Ray Fisman and Sheena Iyengar\n",
    "\n",
    "https://data.world/annavmontoya/speed-dating-experiment\n",
    "\n",
    "Data collection is doubtful."
   ]
  },
  {
   "cell_type": "code",
   "execution_count": 191,
   "metadata": {},
   "outputs": [
    {
     "name": "stdout",
     "output_type": "stream",
     "text": [
      "mapping condtn\n",
      "mapping race\n",
      "mapping field_cd\n",
      "mapping go_out\n",
      "mapping gender\n",
      "mapping career_c\n",
      "mapping date\n",
      "mapping goal\n",
      "mapping samerace\n",
      "match 0 1\n",
      "pid 1 552\n",
      "dec_o 0 1\n"
     ]
    }
   ],
   "source": [
    "import clean\n",
    "df = clean.prep()"
   ]
  },
  {
   "cell_type": "code",
   "execution_count": 201,
   "metadata": {},
   "outputs": [
    {
     "name": "stderr",
     "output_type": "stream",
     "text": [
      "Exception ignored in: <bound method DMatrix.__del__ of <xgboost.core.DMatrix object at 0x116366ef0>>\n",
      "Traceback (most recent call last):\n",
      "  File \"/Users/davidcottrell/anaconda/envs/35/lib/python3.5/site-packages/xgboost-0.6-py3.5.egg/xgboost/core.py\", line 324, in __del__\n",
      "    _check_call(_LIB.XGDMatrixFree(self.handle))\n",
      "AttributeError: 'DMatrix' object has no attribute 'handle'\n",
      "Exception ignored in: <bound method DMatrix.__del__ of <xgboost.core.DMatrix object at 0x106d7f128>>\n",
      "Traceback (most recent call last):\n",
      "  File \"/Users/davidcottrell/anaconda/envs/35/lib/python3.5/site-packages/xgboost-0.6-py3.5.egg/xgboost/core.py\", line 324, in __del__\n",
      "    _check_call(_LIB.XGDMatrixFree(self.handle))\n",
      "AttributeError: 'DMatrix' object has no attribute 'handle'\n"
     ]
    }
   ],
   "source": [
    "c = ['dec_female', 'dec_male', 'match']\n",
    "y = df[c]\n",
    "xc = [x for x in df if x not in c]\n",
    "X_ = df[xc]"
   ]
  },
  {
   "cell_type": "code",
   "execution_count": 202,
   "metadata": {},
   "outputs": [],
   "source": [
    "import xgboost as xgb\n",
    "clf = xgb.XGBClassifier(base_score=0.5, colsample_bylevel=1, colsample_bytree=1,\n",
    "       gamma=0, learning_rate=0.1, max_delta_step=0, max_depth=3,\n",
    "       min_child_weight=1, missing=None, n_estimators=100, nthread=-1,\n",
    "       objective='binary:logistic', reg_alpha=0, reg_lambda=1,\n",
    "       scale_pos_weight=1, seed=0, silent=True, subsample=1)"
   ]
  },
  {
   "cell_type": "code",
   "execution_count": 204,
   "metadata": {},
   "outputs": [],
   "source": [
    "X = pd.get_dummies(X_)"
   ]
  },
  {
   "cell_type": "code",
   "execution_count": null,
   "metadata": {},
   "outputs": [],
   "source": [
    "clf.fit(X.values, y['dec_female'].values)"
   ]
  },
  {
   "cell_type": "code",
   "execution_count": null,
   "metadata": {
    "collapsed": true
   },
   "outputs": [],
   "source": []
  }
 ],
 "metadata": {
  "kernelspec": {
   "display_name": "Python 3",
   "language": "python",
   "name": "python3"
  },
  "language_info": {
   "codemirror_mode": {
    "name": "ipython",
    "version": 3
   },
   "file_extension": ".py",
   "mimetype": "text/x-python",
   "name": "python",
   "nbconvert_exporter": "python",
   "pygments_lexer": "ipython3",
   "version": "3.5.3"
  }
 },
 "nbformat": 4,
 "nbformat_minor": 2
}
