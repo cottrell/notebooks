version https://git-lfs.github.com/spec/v1
oid sha256:b05f7069665e4dea2263695b8cba29bd8e16485284503789184270a612edbecd
size 100100
