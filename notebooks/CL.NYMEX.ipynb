version https://git-lfs.github.com/spec/v1
oid sha256:2fa41772ae55bb0153db890fe4d498b8597825a2dc9002f99b9bc4771e95a925
size 330818
