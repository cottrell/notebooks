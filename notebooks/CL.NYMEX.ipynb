version https://git-lfs.github.com/spec/v1
oid sha256:415ef1cf8996782bd046f2c59c5d0556da26909700c884698fd77f9f40d94d18
size 330788
