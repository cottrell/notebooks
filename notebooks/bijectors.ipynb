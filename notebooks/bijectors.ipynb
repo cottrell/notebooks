{
 "cells": [
  {
   "cell_type": "markdown",
   "metadata": {},
   "source": [
    "# Bijector tutorial\n",
    "\n",
    "Construct some trainable layer that is basically like a copula. Start with a simple exponential affine transform where you learn the affine mapping.\n"
   ]
  },
  {
   "cell_type": "code",
   "execution_count": 1,
   "metadata": {},
   "outputs": [],
   "source": [
    "from pylab import *\n",
    "import numpy as np\n",
    "import pandas as pd\n",
    "import tensorflow as tf\n",
    "import tensorflow_probability as tfp\n",
    "tfb = tfp.bijectors\n",
    "tfd = tfp.distributions"
   ]
  },
  {
   "cell_type": "code",
   "execution_count": null,
   "metadata": {},
   "outputs": [],
   "source": [
    "tfd = tfp.distributions\n",
    "tfb = tfp.bijectors\n",
    "\n",
    "# A common choice for a normalizing flow is to use a Gaussian for the base\n",
    "# distribution. (However, any continuous distribution would work.) E.g.,\n",
    "nvp = tfd.TransformedDistribution(\n",
    "    distribution=tfd.MultivariateNormalDiag(loc=[0., 0., 0.]),\n",
    "    bijector=tfb.RealNVP(\n",
    "        num_masked=2,\n",
    "        shift_and_log_scale_fn=tfb.real_nvp_default_template(\n",
    "            hidden_layers=[512, 512])))\n",
    "\n",
    "x = nvp.sample()\n",
    "nvp.log_prob(x)\n",
    "nvp.log_prob(0.)\n"
   ]
  },
  {
   "cell_type": "code",
   "execution_count": null,
   "metadata": {},
   "outputs": [],
   "source": [
    "# A common choice for a normalizing flow is to use a Gaussian for the base\n",
    "# distribution. (However, any continuous distribution would work.) E.g.,\n",
    "nvp = tfd.TransformedDistribution(\n",
    "    distribution=tfd.MultivariateNormalDiag(loc=[0., 0., 0.]),\n",
    "    bijector=tfb.RealNVP(\n",
    "        num_masked=2,\n",
    "        shift_and_log_scale_fn=tfb.real_nvp_default_template(\n",
    "            hidden_layers=[512, 512])))\n",
    "\n",
    "x = nvp.sample()\n",
    "nvp.log_prob(x)\n",
    "nvp.log_prob(0.)"
   ]
  },
  {
   "cell_type": "code",
   "execution_count": null,
   "metadata": {},
   "outputs": [],
   "source": []
  },
  {
   "cell_type": "code",
   "execution_count": null,
   "metadata": {},
   "outputs": [],
   "source": []
  }
 ],
 "metadata": {
  "kernelspec": {
   "display_name": "Python 3",
   "language": "python",
   "name": "python3"
  },
  "language_info": {
   "codemirror_mode": {
    "name": "ipython",
    "version": 3
   },
   "file_extension": ".py",
   "mimetype": "text/x-python",
   "name": "python",
   "nbconvert_exporter": "python",
   "pygments_lexer": "ipython3",
   "version": "3.7.3"
  }
 },
 "nbformat": 4,
 "nbformat_minor": 4
}
