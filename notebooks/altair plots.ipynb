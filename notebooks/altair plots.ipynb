version https://git-lfs.github.com/spec/v1
oid sha256:f8067ac0d9bb6c3cffc4d8796ece9ad61f2c051ea147a8563b45d909373bc241
size 229191
