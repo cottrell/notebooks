{
 "cells": [
  {
   "cell_type": "code",
   "execution_count": 16,
   "metadata": {
    "collapsed": true,
    "jupyter": {
     "outputs_hidden": true
    }
   },
   "outputs": [
    {
     "name": "stdout",
     "output_type": "stream",
     "text": [
      "Requirement already satisfied: altair in /home/cottrell/anaconda3/envs/37nightly/lib/python3.7/site-packages (3.1.0)\n",
      "Requirement already satisfied: vega in /home/cottrell/anaconda3/envs/37nightly/lib/python3.7/site-packages (2.4.0)\n",
      "Requirement already satisfied: numpy in /home/cottrell/anaconda3/envs/37nightly/lib/python3.7/site-packages (from altair) (1.16.2)\n",
      "Requirement already satisfied: pandas in /home/cottrell/anaconda3/envs/37nightly/lib/python3.7/site-packages (from altair) (0.24.2)\n",
      "Requirement already satisfied: jinja2 in /home/cottrell/anaconda3/envs/37nightly/lib/python3.7/site-packages (from altair) (2.10.1)\n",
      "Requirement already satisfied: six in /home/cottrell/anaconda3/envs/37nightly/lib/python3.7/site-packages (from altair) (1.12.0)\n",
      "Requirement already satisfied: toolz in /home/cottrell/anaconda3/envs/37nightly/lib/python3.7/site-packages (from altair) (0.10.0)\n",
      "Requirement already satisfied: jsonschema in /home/cottrell/anaconda3/envs/37nightly/lib/python3.7/site-packages (from altair) (3.0.1)\n",
      "Requirement already satisfied: entrypoints in /home/cottrell/anaconda3/envs/37nightly/lib/python3.7/site-packages (from altair) (0.3)\n",
      "Requirement already satisfied: pytz>=2011k in /home/cottrell/anaconda3/envs/37nightly/lib/python3.7/site-packages (from pandas->altair) (2018.9)\n",
      "Requirement already satisfied: python-dateutil>=2.5.0 in /home/cottrell/anaconda3/envs/37nightly/lib/python3.7/site-packages (from pandas->altair) (2.8.0)\n",
      "Requirement already satisfied: MarkupSafe>=0.23 in /home/cottrell/anaconda3/envs/37nightly/lib/python3.7/site-packages (from jinja2->altair) (1.1.1)\n",
      "Requirement already satisfied: attrs>=17.4.0 in /home/cottrell/anaconda3/envs/37nightly/lib/python3.7/site-packages (from jsonschema->altair) (18.2.0)\n",
      "Requirement already satisfied: setuptools in /home/cottrell/anaconda3/envs/37nightly/lib/python3.7/site-packages (from jsonschema->altair) (41.0.1)\n",
      "Requirement already satisfied: pyrsistent>=0.14.0 in /home/cottrell/anaconda3/envs/37nightly/lib/python3.7/site-packages (from jsonschema->altair) (0.15.2)\n",
      "Requirement already satisfied: panel in /home/cottrell/anaconda3/envs/37nightly/lib/python3.7/site-packages (0.6.0)\n",
      "Requirement already satisfied: bokeh>=1.1.0 in /home/cottrell/anaconda3/envs/37nightly/lib/python3.7/site-packages (from panel) (1.2.0)\n",
      "Requirement already satisfied: pyviz-comms>=0.7.2 in /home/cottrell/anaconda3/envs/37nightly/lib/python3.7/site-packages (from panel) (0.7.2)\n",
      "Requirement already satisfied: markdown in /home/cottrell/anaconda3/envs/37nightly/lib/python3.7/site-packages (from panel) (3.1)\n",
      "Requirement already satisfied: pyct>=0.4.4 in /home/cottrell/anaconda3/envs/37nightly/lib/python3.7/site-packages (from panel) (0.4.6)\n",
      "Requirement already satisfied: param>=1.9.0 in /home/cottrell/anaconda3/envs/37nightly/lib/python3.7/site-packages (from panel) (1.9.1)\n",
      "Requirement already satisfied: pillow>=4.0 in /home/cottrell/anaconda3/envs/37nightly/lib/python3.7/site-packages (from bokeh>=1.1.0->panel) (6.1.0)\n",
      "Requirement already satisfied: six>=1.5.2 in /home/cottrell/anaconda3/envs/37nightly/lib/python3.7/site-packages (from bokeh>=1.1.0->panel) (1.12.0)\n",
      "Requirement already satisfied: packaging>=16.8 in /home/cottrell/anaconda3/envs/37nightly/lib/python3.7/site-packages (from bokeh>=1.1.0->panel) (19.0)\n",
      "Requirement already satisfied: numpy>=1.7.1 in /home/cottrell/anaconda3/envs/37nightly/lib/python3.7/site-packages (from bokeh>=1.1.0->panel) (1.16.2)\n",
      "Requirement already satisfied: Jinja2>=2.7 in /home/cottrell/anaconda3/envs/37nightly/lib/python3.7/site-packages (from bokeh>=1.1.0->panel) (2.10.1)\n",
      "Requirement already satisfied: PyYAML>=3.10 in /home/cottrell/anaconda3/envs/37nightly/lib/python3.7/site-packages (from bokeh>=1.1.0->panel) (5.1.1)\n",
      "Requirement already satisfied: python-dateutil>=2.1 in /home/cottrell/anaconda3/envs/37nightly/lib/python3.7/site-packages (from bokeh>=1.1.0->panel) (2.8.0)\n",
      "Requirement already satisfied: tornado>=4.3 in /home/cottrell/anaconda3/envs/37nightly/lib/python3.7/site-packages (from bokeh>=1.1.0->panel) (6.0.3)\n",
      "Requirement already satisfied: setuptools>=36 in /home/cottrell/anaconda3/envs/37nightly/lib/python3.7/site-packages (from markdown->panel) (41.0.1)\n",
      "Requirement already satisfied: pyparsing>=2.0.2 in /home/cottrell/anaconda3/envs/37nightly/lib/python3.7/site-packages (from packaging>=16.8->bokeh>=1.1.0->panel) (2.3.1)\n",
      "Requirement already satisfied: MarkupSafe>=0.23 in /home/cottrell/anaconda3/envs/37nightly/lib/python3.7/site-packages (from Jinja2>=2.7->bokeh>=1.1.0->panel) (1.1.1)\n",
      "Requirement already satisfied: altair_widgets in /home/cottrell/anaconda3/envs/37nightly/lib/python3.7/site-packages (0.1.2)\n",
      "Requirement already satisfied: ipywidgets in /home/cottrell/anaconda3/envs/37nightly/lib/python3.7/site-packages (from altair_widgets) (7.4.2)\n",
      "Requirement already satisfied: vega>=0.4.4 in /home/cottrell/anaconda3/envs/37nightly/lib/python3.7/site-packages (from altair_widgets) (2.4.0)\n",
      "Requirement already satisfied: pandas in /home/cottrell/anaconda3/envs/37nightly/lib/python3.7/site-packages (from altair_widgets) (0.24.2)\n",
      "Requirement already satisfied: ipython in /home/cottrell/anaconda3/envs/37nightly/lib/python3.7/site-packages (from altair_widgets) (7.4.0)\n",
      "Requirement already satisfied: altair in /home/cottrell/anaconda3/envs/37nightly/lib/python3.7/site-packages (from altair_widgets) (3.1.0)\n",
      "Requirement already satisfied: nbformat>=4.2.0 in /home/cottrell/anaconda3/envs/37nightly/lib/python3.7/site-packages (from ipywidgets->altair_widgets) (4.4.0)\n",
      "Requirement already satisfied: ipykernel>=4.5.1 in /home/cottrell/anaconda3/envs/37nightly/lib/python3.7/site-packages (from ipywidgets->altair_widgets) (5.1.1)\n",
      "Requirement already satisfied: widgetsnbextension~=3.4.0 in /home/cottrell/anaconda3/envs/37nightly/lib/python3.7/site-packages (from ipywidgets->altair_widgets) (3.4.2)\n",
      "Requirement already satisfied: traitlets>=4.3.1 in /home/cottrell/anaconda3/envs/37nightly/lib/python3.7/site-packages (from ipywidgets->altair_widgets) (4.3.2)\n",
      "Requirement already satisfied: python-dateutil>=2.5.0 in /home/cottrell/anaconda3/envs/37nightly/lib/python3.7/site-packages (from pandas->altair_widgets) (2.8.0)\n",
      "Requirement already satisfied: pytz>=2011k in /home/cottrell/anaconda3/envs/37nightly/lib/python3.7/site-packages (from pandas->altair_widgets) (2018.9)\n",
      "Requirement already satisfied: numpy>=1.12.0 in /home/cottrell/anaconda3/envs/37nightly/lib/python3.7/site-packages (from pandas->altair_widgets) (1.16.2)\n",
      "Requirement already satisfied: pexpect; sys_platform != \"win32\" in /home/cottrell/anaconda3/envs/37nightly/lib/python3.7/site-packages (from ipython->altair_widgets) (4.6.0)\n",
      "Requirement already satisfied: setuptools>=18.5 in /home/cottrell/anaconda3/envs/37nightly/lib/python3.7/site-packages (from ipython->altair_widgets) (41.0.1)\n",
      "Requirement already satisfied: decorator in /home/cottrell/anaconda3/envs/37nightly/lib/python3.7/site-packages (from ipython->altair_widgets) (4.4.0)\n",
      "Requirement already satisfied: prompt-toolkit<2.1.0,>=2.0.0 in /home/cottrell/anaconda3/envs/37nightly/lib/python3.7/site-packages (from ipython->altair_widgets) (2.0.9)\n",
      "Requirement already satisfied: pygments in /home/cottrell/anaconda3/envs/37nightly/lib/python3.7/site-packages (from ipython->altair_widgets) (2.3.1)\n",
      "Requirement already satisfied: jedi>=0.10 in /home/cottrell/anaconda3/envs/37nightly/lib/python3.7/site-packages (from ipython->altair_widgets) (0.13.3)\n",
      "Requirement already satisfied: backcall in /home/cottrell/anaconda3/envs/37nightly/lib/python3.7/site-packages (from ipython->altair_widgets) (0.1.0)\n",
      "Requirement already satisfied: pickleshare in /home/cottrell/anaconda3/envs/37nightly/lib/python3.7/site-packages (from ipython->altair_widgets) (0.7.5)\n",
      "Requirement already satisfied: jinja2 in /home/cottrell/anaconda3/envs/37nightly/lib/python3.7/site-packages (from altair->altair_widgets) (2.10.1)\n",
      "Requirement already satisfied: six in /home/cottrell/anaconda3/envs/37nightly/lib/python3.7/site-packages (from altair->altair_widgets) (1.12.0)\n",
      "Requirement already satisfied: toolz in /home/cottrell/anaconda3/envs/37nightly/lib/python3.7/site-packages (from altair->altair_widgets) (0.10.0)\n",
      "Requirement already satisfied: entrypoints in /home/cottrell/anaconda3/envs/37nightly/lib/python3.7/site-packages (from altair->altair_widgets) (0.3)\n",
      "Requirement already satisfied: jsonschema in /home/cottrell/anaconda3/envs/37nightly/lib/python3.7/site-packages (from altair->altair_widgets) (3.0.1)\n",
      "Requirement already satisfied: jupyter-core in /home/cottrell/anaconda3/envs/37nightly/lib/python3.7/site-packages (from nbformat>=4.2.0->ipywidgets->altair_widgets) (4.4.0)\n",
      "Requirement already satisfied: ipython-genutils in /home/cottrell/anaconda3/envs/37nightly/lib/python3.7/site-packages (from nbformat>=4.2.0->ipywidgets->altair_widgets) (0.2.0)\n",
      "Requirement already satisfied: jupyter-client in /home/cottrell/anaconda3/envs/37nightly/lib/python3.7/site-packages (from ipykernel>=4.5.1->ipywidgets->altair_widgets) (5.2.4)\n",
      "Requirement already satisfied: tornado>=4.2 in /home/cottrell/anaconda3/envs/37nightly/lib/python3.7/site-packages (from ipykernel>=4.5.1->ipywidgets->altair_widgets) (6.0.3)\n",
      "Requirement already satisfied: notebook>=4.4.1 in /home/cottrell/anaconda3/envs/37nightly/lib/python3.7/site-packages (from widgetsnbextension~=3.4.0->ipywidgets->altair_widgets) (5.7.8)\n",
      "Requirement already satisfied: ptyprocess>=0.5 in /home/cottrell/anaconda3/envs/37nightly/lib/python3.7/site-packages (from pexpect; sys_platform != \"win32\"->ipython->altair_widgets) (0.6.0)\n",
      "Requirement already satisfied: wcwidth in /home/cottrell/anaconda3/envs/37nightly/lib/python3.7/site-packages (from prompt-toolkit<2.1.0,>=2.0.0->ipython->altair_widgets) (0.1.7)\n",
      "Requirement already satisfied: parso>=0.3.0 in /home/cottrell/anaconda3/envs/37nightly/lib/python3.7/site-packages (from jedi>=0.10->ipython->altair_widgets) (0.3.4)\n",
      "Requirement already satisfied: MarkupSafe>=0.23 in /home/cottrell/anaconda3/envs/37nightly/lib/python3.7/site-packages (from jinja2->altair->altair_widgets) (1.1.1)\n",
      "Requirement already satisfied: pyrsistent>=0.14.0 in /home/cottrell/anaconda3/envs/37nightly/lib/python3.7/site-packages (from jsonschema->altair->altair_widgets) (0.15.2)\n",
      "Requirement already satisfied: attrs>=17.4.0 in /home/cottrell/anaconda3/envs/37nightly/lib/python3.7/site-packages (from jsonschema->altair->altair_widgets) (18.2.0)\n",
      "Requirement already satisfied: pyzmq>=13 in /home/cottrell/anaconda3/envs/37nightly/lib/python3.7/site-packages (from jupyter-client->ipykernel>=4.5.1->ipywidgets->altair_widgets) (18.0.1)\n",
      "Requirement already satisfied: prometheus-client in /home/cottrell/anaconda3/envs/37nightly/lib/python3.7/site-packages (from notebook>=4.4.1->widgetsnbextension~=3.4.0->ipywidgets->altair_widgets) (0.6.0)\n",
      "Requirement already satisfied: terminado>=0.8.1 in /home/cottrell/anaconda3/envs/37nightly/lib/python3.7/site-packages (from notebook>=4.4.1->widgetsnbextension~=3.4.0->ipywidgets->altair_widgets) (0.8.2)\n",
      "Requirement already satisfied: Send2Trash in /home/cottrell/anaconda3/envs/37nightly/lib/python3.7/site-packages (from notebook>=4.4.1->widgetsnbextension~=3.4.0->ipywidgets->altair_widgets) (1.5.0)\n",
      "Requirement already satisfied: nbconvert in /home/cottrell/anaconda3/envs/37nightly/lib/python3.7/site-packages (from notebook>=4.4.1->widgetsnbextension~=3.4.0->ipywidgets->altair_widgets) (5.5.0)\n",
      "Requirement already satisfied: mistune>=0.8.1 in /home/cottrell/anaconda3/envs/37nightly/lib/python3.7/site-packages (from nbconvert->notebook>=4.4.1->widgetsnbextension~=3.4.0->ipywidgets->altair_widgets) (0.8.4)\n",
      "Requirement already satisfied: bleach in /home/cottrell/anaconda3/envs/37nightly/lib/python3.7/site-packages (from nbconvert->notebook>=4.4.1->widgetsnbextension~=3.4.0->ipywidgets->altair_widgets) (3.1.0)\n",
      "Requirement already satisfied: pandocfilters>=1.4.1 in /home/cottrell/anaconda3/envs/37nightly/lib/python3.7/site-packages (from nbconvert->notebook>=4.4.1->widgetsnbextension~=3.4.0->ipywidgets->altair_widgets) (1.4.2)\n",
      "Requirement already satisfied: defusedxml in /home/cottrell/anaconda3/envs/37nightly/lib/python3.7/site-packages (from nbconvert->notebook>=4.4.1->widgetsnbextension~=3.4.0->ipywidgets->altair_widgets) (0.6.0)\n",
      "Requirement already satisfied: testpath in /home/cottrell/anaconda3/envs/37nightly/lib/python3.7/site-packages (from nbconvert->notebook>=4.4.1->widgetsnbextension~=3.4.0->ipywidgets->altair_widgets) (0.4.2)\n",
      "Requirement already satisfied: webencodings in /home/cottrell/anaconda3/envs/37nightly/lib/python3.7/site-packages (from bleach->nbconvert->notebook>=4.4.1->widgetsnbextension~=3.4.0->ipywidgets->altair_widgets) (0.5.1)\n"
     ]
    }
   ],
   "source": [
    "!pip install altair vega\n",
    "!pip install panel\n",
    "!pip install altair_widgets"
   ]
  },
  {
   "cell_type": "code",
   "execution_count": 35,
   "metadata": {},
   "outputs": [],
   "source": [
    "import pandas as pd\n",
    "m = 10\n",
    "data = pd.DataFrame({\n",
    "    'DATE': pd.date_range('2019-01-01', freq='D', periods=m),\n",
    "    'REVENUE': np.random.randn(m),\n",
    "    'COST': np.random.randn(m),\n",
    "}).melt('DATE', var_name='KEY', value_name='VALUE')\n"
   ]
  },
  {
   "cell_type": "code",
   "execution_count": 36,
   "metadata": {},
   "outputs": [
    {
     "data": {
      "text/html": [
       "<div>\n",
       "<style scoped>\n",
       "    .dataframe tbody tr th:only-of-type {\n",
       "        vertical-align: middle;\n",
       "    }\n",
       "\n",
       "    .dataframe tbody tr th {\n",
       "        vertical-align: top;\n",
       "    }\n",
       "\n",
       "    .dataframe thead th {\n",
       "        text-align: right;\n",
       "    }\n",
       "</style>\n",
       "<table border=\"1\" class=\"dataframe\">\n",
       "  <thead>\n",
       "    <tr style=\"text-align: right;\">\n",
       "      <th></th>\n",
       "      <th>DATE</th>\n",
       "      <th>KEY</th>\n",
       "      <th>VALUE</th>\n",
       "    </tr>\n",
       "  </thead>\n",
       "  <tbody>\n",
       "    <tr>\n",
       "      <th>0</th>\n",
       "      <td>2019-01-01</td>\n",
       "      <td>REVENUE</td>\n",
       "      <td>2.233245</td>\n",
       "    </tr>\n",
       "    <tr>\n",
       "      <th>1</th>\n",
       "      <td>2019-01-02</td>\n",
       "      <td>REVENUE</td>\n",
       "      <td>-2.586773</td>\n",
       "    </tr>\n",
       "    <tr>\n",
       "      <th>2</th>\n",
       "      <td>2019-01-03</td>\n",
       "      <td>REVENUE</td>\n",
       "      <td>-0.701192</td>\n",
       "    </tr>\n",
       "    <tr>\n",
       "      <th>3</th>\n",
       "      <td>2019-01-04</td>\n",
       "      <td>REVENUE</td>\n",
       "      <td>0.531897</td>\n",
       "    </tr>\n",
       "    <tr>\n",
       "      <th>4</th>\n",
       "      <td>2019-01-05</td>\n",
       "      <td>REVENUE</td>\n",
       "      <td>1.433004</td>\n",
       "    </tr>\n",
       "  </tbody>\n",
       "</table>\n",
       "</div>"
      ],
      "text/plain": [
       "        DATE      KEY     VALUE\n",
       "0 2019-01-01  REVENUE  2.233245\n",
       "1 2019-01-02  REVENUE -2.586773\n",
       "2 2019-01-03  REVENUE -0.701192\n",
       "3 2019-01-04  REVENUE  0.531897\n",
       "4 2019-01-05  REVENUE  1.433004"
      ]
     },
     "execution_count": 36,
     "metadata": {},
     "output_type": "execute_result"
    }
   ],
   "source": [
    "data.head()"
   ]
  },
  {
   "cell_type": "code",
   "execution_count": 42,
   "metadata": {},
   "outputs": [
    {
     "data": {
      "application/vnd.vegalite.v3+json": {
       "$schema": "https://vega.github.io/schema/vega-lite/v3.3.0.json",
       "config": {
        "header": {
         "title": null
        },
        "mark": {
         "tooltip": null
        },
        "view": {
         "height": 300,
         "width": 400
        }
       },
       "data": {
        "name": "data-51234ea997aef565e5b9fd7bee488f49"
       },
       "datasets": {
        "data-51234ea997aef565e5b9fd7bee488f49": [
         {
          "category": "A",
          "position": 0,
          "value": 0.1
         },
         {
          "category": "A",
          "position": 1,
          "value": 0.6
         },
         {
          "category": "A",
          "position": 2,
          "value": 0.9
         },
         {
          "category": "A",
          "position": 3,
          "value": 0.4
         },
         {
          "category": "B",
          "position": 0,
          "value": 0.7
         },
         {
          "category": "B",
          "position": 1,
          "value": 0.2
         },
         {
          "category": "B",
          "position": 2,
          "value": 1.1
         },
         {
          "category": "B",
          "position": 3,
          "value": 0.8
         },
         {
          "category": "C",
          "position": 0,
          "value": 0.6
         },
         {
          "category": "C",
          "position": 1,
          "value": 0.1
         },
         {
          "category": "C",
          "position": 2,
          "value": 0.2
         },
         {
          "category": "C",
          "position": 3,
          "value": 0.7
         }
        ]
       },
       "facet": {
        "row": {
         "field": "category",
         "type": "nominal"
        }
       },
       "spec": {
        "layer": [
         {
          "encoding": {
           "color": {
            "field": "position",
            "legend": null,
            "scale": {
             "scheme": "category20"
            },
            "type": "ordinal"
           },
           "text": {
            "field": "value",
            "type": "quantitative"
           },
           "x": {
            "field": "value",
            "title": null,
            "type": "quantitative"
           },
           "y": {
            "axis": null,
            "field": "position",
            "type": "ordinal"
           }
          },
          "mark": "bar"
         },
         {
          "encoding": {
           "text": {
            "field": "value",
            "type": "quantitative"
           },
           "x": {
            "field": "value",
            "title": null,
            "type": "quantitative"
           },
           "y": {
            "axis": null,
            "field": "position",
            "type": "ordinal"
           }
          },
          "mark": {
           "color": "white",
           "dx": -10,
           "type": "text"
          }
         }
        ]
       }
      },
      "image/png": "[encoded data removed]",
      "text/plain": [
       "<VegaLite 3 object>\n",
       "\n",
       "If you see this message, it means the renderer has not been properly enabled\n",
       "for the frontend that you are using. For more information, see\n",
       "https://altair-viz.github.io/user_guide/troubleshooting.html\n"
      ]
     },
     "execution_count": 42,
     "metadata": {},
     "output_type": "execute_result"
    }
   ],
   "source": [
    "import altair as alt\n",
    "import pandas as pd\n",
    "\n",
    "data = pd.DataFrame([\n",
    "    {\"category\":\"A\", \"position\":0, \"value\":0.1},\n",
    "    {\"category\":\"A\", \"position\":1, \"value\":0.6},\n",
    "    {\"category\":\"A\", \"position\":2, \"value\":0.9},\n",
    "    {\"category\":\"A\", \"position\":3, \"value\":0.4},\n",
    "    {\"category\":\"B\", \"position\":0, \"value\":0.7},\n",
    "    {\"category\":\"B\", \"position\":1, \"value\":0.2},\n",
    "    {\"category\":\"B\", \"position\":2, \"value\":1.1},\n",
    "    {\"category\":\"B\", \"position\":3, \"value\":0.8},\n",
    "    {\"category\":\"C\", \"position\":0, \"value\":0.6},\n",
    "    {\"category\":\"C\", \"position\":1, \"value\":0.1},\n",
    "    {\"category\":\"C\", \"position\":2, \"value\":0.2},\n",
    "    {\"category\":\"C\", \"position\":3, \"value\":0.7}\n",
    "])\n",
    "\n",
    "text = alt.Chart(data).mark_text(dx=-10, color='white').encode(\n",
    "    x=alt.X('value:Q', title=None),\n",
    "    y=alt.Y('position:O', axis=None),\n",
    "    text='value:Q'\n",
    ")\n",
    "\n",
    "bars = text.mark_bar().encode(\n",
    "    color=alt.Color('position:O', legend=None, scale=alt.Scale(scheme='category20')),\n",
    ")\n",
    "\n",
    "(bars + text).facet(\n",
    "    row='category:N'\n",
    ").configure_header(\n",
    "    title=None\n",
    ")"
   ]
  },
  {
   "cell_type": "code",
   "execution_count": 74,
   "metadata": {},
   "outputs": [
    {
     "data": {
      "application/vnd.vegalite.v3+json": {
       "$schema": "https://vega.github.io/schema/vega-lite/v3.3.0.json",
       "config": {
        "header": {
         "title": null
        },
        "mark": {
         "tooltip": null
        },
        "view": {
         "height": 300,
         "width": 400
        }
       },
       "data": {
        "name": "data-51234ea997aef565e5b9fd7bee488f49"
       },
       "datasets": {
        "data-51234ea997aef565e5b9fd7bee488f49": [
         {
          "category": "A",
          "position": 0,
          "value": 0.1
         },
         {
          "category": "A",
          "position": 1,
          "value": 0.6
         },
         {
          "category": "A",
          "position": 2,
          "value": 0.9
         },
         {
          "category": "A",
          "position": 3,
          "value": 0.4
         },
         {
          "category": "B",
          "position": 0,
          "value": 0.7
         },
         {
          "category": "B",
          "position": 1,
          "value": 0.2
         },
         {
          "category": "B",
          "position": 2,
          "value": 1.1
         },
         {
          "category": "B",
          "position": 3,
          "value": 0.8
         },
         {
          "category": "C",
          "position": 0,
          "value": 0.6
         },
         {
          "category": "C",
          "position": 1,
          "value": 0.1
         },
         {
          "category": "C",
          "position": 2,
          "value": 0.2
         },
         {
          "category": "C",
          "position": 3,
          "value": 0.7
         }
        ]
       },
       "facet": {
        "row": {
         "field": "category",
         "type": "nominal"
        }
       },
       "spec": {
        "encoding": {
         "color": {
          "field": "position",
          "legend": null,
          "scale": {
           "scheme": "category20"
          },
          "type": "ordinal"
         },
         "x": {
          "field": "value",
          "title": null,
          "type": "quantitative"
         },
         "y": {
          "axis": null,
          "field": "position",
          "type": "ordinal"
         }
        },
        "mark": "bar"
       }
      },
      "image/png": "[encoded data removed]",
      "text/plain": [
       "<VegaLite 3 object>\n",
       "\n",
       "If you see this message, it means the renderer has not been properly enabled\n",
       "for the frontend that you are using. For more information, see\n",
       "https://altair-viz.github.io/user_guide/troubleshooting.html\n"
      ]
     },
     "execution_count": 74,
     "metadata": {},
     "output_type": "execute_result"
    }
   ],
   "source": [
    "\n",
    "data = pd.DataFrame([\n",
    "    {\"category\":\"A\", \"position\":0, \"value\":0.1},\n",
    "    {\"category\":\"A\", \"position\":1, \"value\":0.6},\n",
    "    {\"category\":\"A\", \"position\":2, \"value\":0.9},\n",
    "    {\"category\":\"A\", \"position\":3, \"value\":0.4},\n",
    "    {\"category\":\"B\", \"position\":0, \"value\":0.7},\n",
    "    {\"category\":\"B\", \"position\":1, \"value\":0.2},\n",
    "    {\"category\":\"B\", \"position\":2, \"value\":1.1},\n",
    "    {\"category\":\"B\", \"position\":3, \"value\":0.8},\n",
    "    {\"category\":\"C\", \"position\":0, \"value\":0.6},\n",
    "    {\"category\":\"C\", \"position\":1, \"value\":0.1},\n",
    "    {\"category\":\"C\", \"position\":2, \"value\":0.2},\n",
    "    {\"category\":\"C\", \"position\":3, \"value\":0.7}\n",
    "])\n",
    "\n",
    "bars = alt.Chart(data).mark_bar().encode(\n",
    "    x=alt.X('value:Q', title=None),\n",
    "    y=alt.Y('position:O', axis=None),\n",
    "    color=alt.Color('position:O', legend=None, scale=alt.Scale(scheme='category20')),\n",
    ")\n",
    "\n",
    "(bars).facet(\n",
    "    row='category:N'\n",
    ").configure_header(\n",
    "    title=None\n",
    ")"
   ]
  },
  {
   "cell_type": "code",
   "execution_count": 134,
   "metadata": {},
   "outputs": [],
   "source": [
    "# import pandas as pd\n",
    "# m = 100\n",
    "# data = pd.DataFrame({\n",
    "#     'DATE': pd.date_range('2019-01-01', freq='D', periods=m),\n",
    "#     'REVENUE': np.random.randn(m),\n",
    "#     'COST': np.random.randn(m),\n",
    "# }).melt('DATE', var_name='KEY', value_name='VALUE')\n",
    "\n",
    "# bars = alt.Chart(data).mark_bar().encode(\n",
    "#     x=alt.X('KEY:N'),\n",
    "#     y=alt.Y('VALUE:Q'),\n",
    "#     color=alt.Color('KEY:N'),\n",
    "#     column=alt.Column('DATE:T', axis=None)\n",
    "# )\n",
    "\n"
   ]
  },
  {
   "cell_type": "code",
   "execution_count": 135,
   "metadata": {},
   "outputs": [
    {
     "name": "stdout",
     "output_type": "stream",
     "text": [
      "        DATE      KEY     VALUE\n",
      "0 2019-01-01  REVENUE  0.492658\n",
      "1 2019-01-02  REVENUE  0.992155\n",
      "2 2019-01-03  REVENUE  1.020049\n",
      "3 2019-01-04  REVENUE -0.949393\n",
      "4 2019-01-05  REVENUE -0.408277\n"
     ]
    },
    {
     "data": {
      "application/vnd.vegalite.v3+json": {
       "$schema": "https://vega.github.io/schema/vega-lite/v3.3.0.json",
       "align": "none",
       "config": {
        "axis": {
         "grid": false
        },
        "header": {
         "title": null
        },
        "mark": {
         "tooltip": null
        },
        "view": {
         "height": 300,
         "strokeOpacity": 0,
         "width": 400
        }
       },
       "data": {
        "name": "data-77f4b304dd845228a65570ab0f597919"
       },
       "datasets": {
        "data-77f4b304dd845228a65570ab0f597919": [
         {
          "DATE": "2019-01-01T00:00:00",
          "KEY": "REVENUE",
          "VALUE": 0.49265763549826835
         },
         {
          "DATE": "2019-01-02T00:00:00",
          "KEY": "REVENUE",
          "VALUE": 0.9921549351484087
         },
         {
          "DATE": "2019-01-03T00:00:00",
          "KEY": "REVENUE",
          "VALUE": 1.0200487464675587
         },
         {
          "DATE": "2019-01-04T00:00:00",
          "KEY": "REVENUE",
          "VALUE": -0.9493927270710195
         },
         {
          "DATE": "2019-01-05T00:00:00",
          "KEY": "REVENUE",
          "VALUE": -0.4082773897756002
         },
         {
          "DATE": "2019-01-06T00:00:00",
          "KEY": "REVENUE",
          "VALUE": -0.9006688014214859
         },
         {
          "DATE": "2019-01-07T00:00:00",
          "KEY": "REVENUE",
          "VALUE": -0.926309028459274
         },
         {
          "DATE": "2019-01-08T00:00:00",
          "KEY": "REVENUE",
          "VALUE": -0.19699993352443315
         },
         {
          "DATE": "2019-01-09T00:00:00",
          "KEY": "REVENUE",
          "VALUE": -0.4943200320827993
         },
         {
          "DATE": "2019-01-10T00:00:00",
          "KEY": "REVENUE",
          "VALUE": -1.216975897764886
         },
         {
          "DATE": "2019-01-11T00:00:00",
          "KEY": "REVENUE",
          "VALUE": -0.8494979995727342
         },
         {
          "DATE": "2019-01-12T00:00:00",
          "KEY": "REVENUE",
          "VALUE": -0.3350793073868203
         },
         {
          "DATE": "2019-01-13T00:00:00",
          "KEY": "REVENUE",
          "VALUE": 0.26360647482316085
         },
         {
          "DATE": "2019-01-14T00:00:00",
          "KEY": "REVENUE",
          "VALUE": -0.02656578149189985
         },
         {
          "DATE": "2019-01-15T00:00:00",
          "KEY": "REVENUE",
          "VALUE": 1.0745970528615059
         },
         {
          "DATE": "2019-01-16T00:00:00",
          "KEY": "REVENUE",
          "VALUE": -0.34292067213766386
         },
         {
          "DATE": "2019-01-17T00:00:00",
          "KEY": "REVENUE",
          "VALUE": -2.5293267048006554
         },
         {
          "DATE": "2019-01-18T00:00:00",
          "KEY": "REVENUE",
          "VALUE": -0.9180645657771336
         },
         {
          "DATE": "2019-01-19T00:00:00",
          "KEY": "REVENUE",
          "VALUE": 1.3329116991211676
         },
         {
          "DATE": "2019-01-20T00:00:00",
          "KEY": "REVENUE",
          "VALUE": 0.19920916328369617
         },
         {
          "DATE": "2019-01-21T00:00:00",
          "KEY": "REVENUE",
          "VALUE": 1.4293660134344388
         },
         {
          "DATE": "2019-01-22T00:00:00",
          "KEY": "REVENUE",
          "VALUE": -1.1299238178813136
         },
         {
          "DATE": "2019-01-23T00:00:00",
          "KEY": "REVENUE",
          "VALUE": -0.2778736019683415
         },
         {
          "DATE": "2019-01-24T00:00:00",
          "KEY": "REVENUE",
          "VALUE": -0.18441539312527214
         },
         {
          "DATE": "2019-01-25T00:00:00",
          "KEY": "REVENUE",
          "VALUE": 1.1598297880113257
         },
         {
          "DATE": "2019-01-26T00:00:00",
          "KEY": "REVENUE",
          "VALUE": 0.6580340558810749
         },
         {
          "DATE": "2019-01-27T00:00:00",
          "KEY": "REVENUE",
          "VALUE": -1.1459835603020911
         },
         {
          "DATE": "2019-01-28T00:00:00",
          "KEY": "REVENUE",
          "VALUE": -2.9849232671335635
         },
         {
          "DATE": "2019-01-29T00:00:00",
          "KEY": "REVENUE",
          "VALUE": -0.4525288113037868
         },
         {
          "DATE": "2019-01-30T00:00:00",
          "KEY": "REVENUE",
          "VALUE": 0.3209149620497215
         },
         {
          "DATE": "2019-01-31T00:00:00",
          "KEY": "REVENUE",
          "VALUE": -0.9644824682590045
         },
         {
          "DATE": "2019-02-01T00:00:00",
          "KEY": "REVENUE",
          "VALUE": -0.9976825820907644
         },
         {
          "DATE": "2019-02-02T00:00:00",
          "KEY": "REVENUE",
          "VALUE": 0.5468619299288866
         },
         {
          "DATE": "2019-02-03T00:00:00",
          "KEY": "REVENUE",
          "VALUE": 1.2904986091921584
         },
         {
          "DATE": "2019-02-04T00:00:00",
          "KEY": "REVENUE",
          "VALUE": 1.819021931290033
         },
         {
          "DATE": "2019-02-05T00:00:00",
          "KEY": "REVENUE",
          "VALUE": -0.8941183166624365
         },
         {
          "DATE": "2019-02-06T00:00:00",
          "KEY": "REVENUE",
          "VALUE": 1.7454675937357302
         },
         {
          "DATE": "2019-02-07T00:00:00",
          "KEY": "REVENUE",
          "VALUE": 1.063293909475667
         },
         {
          "DATE": "2019-02-08T00:00:00",
          "KEY": "REVENUE",
          "VALUE": -0.06519939629950129
         },
         {
          "DATE": "2019-02-09T00:00:00",
          "KEY": "REVENUE",
          "VALUE": 0.1389078526174406
         },
         {
          "DATE": "2019-02-10T00:00:00",
          "KEY": "REVENUE",
          "VALUE": 0.4614380530919247
         },
         {
          "DATE": "2019-02-11T00:00:00",
          "KEY": "REVENUE",
          "VALUE": 0.2959568711338701
         },
         {
          "DATE": "2019-02-12T00:00:00",
          "KEY": "REVENUE",
          "VALUE": -2.2900507224537408
         },
         {
          "DATE": "2019-02-13T00:00:00",
          "KEY": "REVENUE",
          "VALUE": -1.0671894986537076
         },
         {
          "DATE": "2019-02-14T00:00:00",
          "KEY": "REVENUE",
          "VALUE": -0.5019571407462988
         },
         {
          "DATE": "2019-02-15T00:00:00",
          "KEY": "REVENUE",
          "VALUE": -0.11457004481305391
         },
         {
          "DATE": "2019-02-16T00:00:00",
          "KEY": "REVENUE",
          "VALUE": -1.383296760081786
         },
         {
          "DATE": "2019-02-17T00:00:00",
          "KEY": "REVENUE",
          "VALUE": 1.7417878570703385
         },
         {
          "DATE": "2019-02-18T00:00:00",
          "KEY": "REVENUE",
          "VALUE": -0.50610182711765
         },
         {
          "DATE": "2019-02-19T00:00:00",
          "KEY": "REVENUE",
          "VALUE": 1.3271674285716315
         },
         {
          "DATE": "2019-02-20T00:00:00",
          "KEY": "REVENUE",
          "VALUE": 0.787344714244226
         },
         {
          "DATE": "2019-02-21T00:00:00",
          "KEY": "REVENUE",
          "VALUE": -0.3455335109005346
         },
         {
          "DATE": "2019-02-22T00:00:00",
          "KEY": "REVENUE",
          "VALUE": 0.9296017854265127
         },
         {
          "DATE": "2019-02-23T00:00:00",
          "KEY": "REVENUE",
          "VALUE": -1.129808681471207
         },
         {
          "DATE": "2019-02-24T00:00:00",
          "KEY": "REVENUE",
          "VALUE": -1.6426971109840516
         },
         {
          "DATE": "2019-02-25T00:00:00",
          "KEY": "REVENUE",
          "VALUE": 0.45567325620407534
         },
         {
          "DATE": "2019-02-26T00:00:00",
          "KEY": "REVENUE",
          "VALUE": 0.40935850837831667
         },
         {
          "DATE": "2019-02-27T00:00:00",
          "KEY": "REVENUE",
          "VALUE": -1.153172198194372
         },
         {
          "DATE": "2019-02-28T00:00:00",
          "KEY": "REVENUE",
          "VALUE": -0.42555625790452517
         },
         {
          "DATE": "2019-03-01T00:00:00",
          "KEY": "REVENUE",
          "VALUE": -0.6957871438393187
         },
         {
          "DATE": "2019-03-02T00:00:00",
          "KEY": "REVENUE",
          "VALUE": -0.5746809965296487
         },
         {
          "DATE": "2019-03-03T00:00:00",
          "KEY": "REVENUE",
          "VALUE": 0.6182292027654417
         },
         {
          "DATE": "2019-03-04T00:00:00",
          "KEY": "REVENUE",
          "VALUE": 1.8532561730710269
         },
         {
          "DATE": "2019-03-05T00:00:00",
          "KEY": "REVENUE",
          "VALUE": -1.372388974587115
         },
         {
          "DATE": "2019-03-06T00:00:00",
          "KEY": "REVENUE",
          "VALUE": 1.10311503950951
         },
         {
          "DATE": "2019-03-07T00:00:00",
          "KEY": "REVENUE",
          "VALUE": -1.0675606792602539
         },
         {
          "DATE": "2019-03-08T00:00:00",
          "KEY": "REVENUE",
          "VALUE": -1.3058841499087008
         },
         {
          "DATE": "2019-03-09T00:00:00",
          "KEY": "REVENUE",
          "VALUE": -1.9828772895321995
         },
         {
          "DATE": "2019-03-10T00:00:00",
          "KEY": "REVENUE",
          "VALUE": -0.22604740305724622
         },
         {
          "DATE": "2019-03-11T00:00:00",
          "KEY": "REVENUE",
          "VALUE": -0.22299867549776906
         },
         {
          "DATE": "2019-03-12T00:00:00",
          "KEY": "REVENUE",
          "VALUE": 0.8975164021390253
         },
         {
          "DATE": "2019-03-13T00:00:00",
          "KEY": "REVENUE",
          "VALUE": 0.7533219037009324
         },
         {
          "DATE": "2019-03-14T00:00:00",
          "KEY": "REVENUE",
          "VALUE": 0.982408546832248
         },
         {
          "DATE": "2019-03-15T00:00:00",
          "KEY": "REVENUE",
          "VALUE": 1.4809660640848776
         },
         {
          "DATE": "2019-03-16T00:00:00",
          "KEY": "REVENUE",
          "VALUE": -0.49975042791103974
         },
         {
          "DATE": "2019-03-17T00:00:00",
          "KEY": "REVENUE",
          "VALUE": -1.4039528993738102
         },
         {
          "DATE": "2019-03-18T00:00:00",
          "KEY": "REVENUE",
          "VALUE": -0.21209324018617493
         },
         {
          "DATE": "2019-03-19T00:00:00",
          "KEY": "REVENUE",
          "VALUE": 0.4660002287157864
         },
         {
          "DATE": "2019-03-20T00:00:00",
          "KEY": "REVENUE",
          "VALUE": -0.4780796578118764
         },
         {
          "DATE": "2019-03-21T00:00:00",
          "KEY": "REVENUE",
          "VALUE": 0.018940431329209195
         },
         {
          "DATE": "2019-03-22T00:00:00",
          "KEY": "REVENUE",
          "VALUE": 1.0532873034130585
         },
         {
          "DATE": "2019-03-23T00:00:00",
          "KEY": "REVENUE",
          "VALUE": -0.5977328041142963
         },
         {
          "DATE": "2019-03-24T00:00:00",
          "KEY": "REVENUE",
          "VALUE": -2.092245177105221
         },
         {
          "DATE": "2019-03-25T00:00:00",
          "KEY": "REVENUE",
          "VALUE": -1.1670096589712393
         },
         {
          "DATE": "2019-03-26T00:00:00",
          "KEY": "REVENUE",
          "VALUE": 1.2889013580773665
         },
         {
          "DATE": "2019-03-27T00:00:00",
          "KEY": "REVENUE",
          "VALUE": -0.8280056733907702
         },
         {
          "DATE": "2019-03-28T00:00:00",
          "KEY": "REVENUE",
          "VALUE": 2.3009984138087987
         },
         {
          "DATE": "2019-03-29T00:00:00",
          "KEY": "REVENUE",
          "VALUE": 1.368704809208745
         },
         {
          "DATE": "2019-03-30T00:00:00",
          "KEY": "REVENUE",
          "VALUE": 0.9648367316715104
         },
         {
          "DATE": "2019-03-31T00:00:00",
          "KEY": "REVENUE",
          "VALUE": 0.27732898846316273
         },
         {
          "DATE": "2019-04-01T00:00:00",
          "KEY": "REVENUE",
          "VALUE": 0.8756713481330293
         },
         {
          "DATE": "2019-04-02T00:00:00",
          "KEY": "REVENUE",
          "VALUE": -1.034822138437313
         },
         {
          "DATE": "2019-04-03T00:00:00",
          "KEY": "REVENUE",
          "VALUE": 0.06097848901883966
         },
         {
          "DATE": "2019-04-04T00:00:00",
          "KEY": "REVENUE",
          "VALUE": 0.43587298750935927
         },
         {
          "DATE": "2019-04-05T00:00:00",
          "KEY": "REVENUE",
          "VALUE": -1.1034458833880039
         },
         {
          "DATE": "2019-04-06T00:00:00",
          "KEY": "REVENUE",
          "VALUE": -2.509510366728936
         },
         {
          "DATE": "2019-04-07T00:00:00",
          "KEY": "REVENUE",
          "VALUE": 0.5889725800700865
         },
         {
          "DATE": "2019-04-08T00:00:00",
          "KEY": "REVENUE",
          "VALUE": 0.81006985372893
         },
         {
          "DATE": "2019-04-09T00:00:00",
          "KEY": "REVENUE",
          "VALUE": -0.719717822189212
         },
         {
          "DATE": "2019-04-10T00:00:00",
          "KEY": "REVENUE",
          "VALUE": 0.01654891346316395
         },
         {
          "DATE": "2019-01-01T00:00:00",
          "KEY": "COST",
          "VALUE": -0.04201102818288331
         },
         {
          "DATE": "2019-01-02T00:00:00",
          "KEY": "COST",
          "VALUE": -0.5837314904605935
         },
         {
          "DATE": "2019-01-03T00:00:00",
          "KEY": "COST",
          "VALUE": 0.7687347628470487
         },
         {
          "DATE": "2019-01-04T00:00:00",
          "KEY": "COST",
          "VALUE": 1.4497348770602634
         },
         {
          "DATE": "2019-01-05T00:00:00",
          "KEY": "COST",
          "VALUE": -1.812490592066385
         },
         {
          "DATE": "2019-01-06T00:00:00",
          "KEY": "COST",
          "VALUE": 0.07475341437596197
         },
         {
          "DATE": "2019-01-07T00:00:00",
          "KEY": "COST",
          "VALUE": 2.038205549058973
         },
         {
          "DATE": "2019-01-08T00:00:00",
          "KEY": "COST",
          "VALUE": -0.44810662230425596
         },
         {
          "DATE": "2019-01-09T00:00:00",
          "KEY": "COST",
          "VALUE": -0.36469732248805187
         },
         {
          "DATE": "2019-01-10T00:00:00",
          "KEY": "COST",
          "VALUE": -1.2134102837441658
         },
         {
          "DATE": "2019-01-11T00:00:00",
          "KEY": "COST",
          "VALUE": 1.5241850792352778
         },
         {
          "DATE": "2019-01-12T00:00:00",
          "KEY": "COST",
          "VALUE": 0.43967530435311203
         },
         {
          "DATE": "2019-01-13T00:00:00",
          "KEY": "COST",
          "VALUE": -1.35637509248374
         },
         {
          "DATE": "2019-01-14T00:00:00",
          "KEY": "COST",
          "VALUE": 0.7265277899791209
         },
         {
          "DATE": "2019-01-15T00:00:00",
          "KEY": "COST",
          "VALUE": 0.758647525473776
         },
         {
          "DATE": "2019-01-16T00:00:00",
          "KEY": "COST",
          "VALUE": -0.165481427183067
         },
         {
          "DATE": "2019-01-17T00:00:00",
          "KEY": "COST",
          "VALUE": -1.1730055765899945
         },
         {
          "DATE": "2019-01-18T00:00:00",
          "KEY": "COST",
          "VALUE": -1.019327988695001
         },
         {
          "DATE": "2019-01-19T00:00:00",
          "KEY": "COST",
          "VALUE": 1.9273410189051214
         },
         {
          "DATE": "2019-01-20T00:00:00",
          "KEY": "COST",
          "VALUE": 1.3144471234069353
         },
         {
          "DATE": "2019-01-21T00:00:00",
          "KEY": "COST",
          "VALUE": -0.9671935860809665
         },
         {
          "DATE": "2019-01-22T00:00:00",
          "KEY": "COST",
          "VALUE": -0.8050629988072029
         },
         {
          "DATE": "2019-01-23T00:00:00",
          "KEY": "COST",
          "VALUE": -0.36195690707649675
         },
         {
          "DATE": "2019-01-24T00:00:00",
          "KEY": "COST",
          "VALUE": 1.735613827473348
         },
         {
          "DATE": "2019-01-25T00:00:00",
          "KEY": "COST",
          "VALUE": -0.9331502060475176
         },
         {
          "DATE": "2019-01-26T00:00:00",
          "KEY": "COST",
          "VALUE": -0.6782512299244094
         },
         {
          "DATE": "2019-01-27T00:00:00",
          "KEY": "COST",
          "VALUE": -0.27454896040668053
         },
         {
          "DATE": "2019-01-28T00:00:00",
          "KEY": "COST",
          "VALUE": -0.30733046886217635
         },
         {
          "DATE": "2019-01-29T00:00:00",
          "KEY": "COST",
          "VALUE": 1.55818473127876
         },
         {
          "DATE": "2019-01-30T00:00:00",
          "KEY": "COST",
          "VALUE": 0.5754086699432645
         },
         {
          "DATE": "2019-01-31T00:00:00",
          "KEY": "COST",
          "VALUE": 0.8911358514757192
         },
         {
          "DATE": "2019-02-01T00:00:00",
          "KEY": "COST",
          "VALUE": -0.5818752667322507
         },
         {
          "DATE": "2019-02-02T00:00:00",
          "KEY": "COST",
          "VALUE": 1.3457509388261863
         },
         {
          "DATE": "2019-02-03T00:00:00",
          "KEY": "COST",
          "VALUE": -0.9513286836022062
         },
         {
          "DATE": "2019-02-04T00:00:00",
          "KEY": "COST",
          "VALUE": 1.1294074856528165
         },
         {
          "DATE": "2019-02-05T00:00:00",
          "KEY": "COST",
          "VALUE": 1.2325296730151614
         },
         {
          "DATE": "2019-02-06T00:00:00",
          "KEY": "COST",
          "VALUE": 0.3816664901563016
         },
         {
          "DATE": "2019-02-07T00:00:00",
          "KEY": "COST",
          "VALUE": 1.8952005053481666
         },
         {
          "DATE": "2019-02-08T00:00:00",
          "KEY": "COST",
          "VALUE": -1.202495441681541
         },
         {
          "DATE": "2019-02-09T00:00:00",
          "KEY": "COST",
          "VALUE": 0.5460809301184046
         },
         {
          "DATE": "2019-02-10T00:00:00",
          "KEY": "COST",
          "VALUE": 0.09274305249860026
         },
         {
          "DATE": "2019-02-11T00:00:00",
          "KEY": "COST",
          "VALUE": -1.565205348627531
         },
         {
          "DATE": "2019-02-12T00:00:00",
          "KEY": "COST",
          "VALUE": 0.6782291409262883
         },
         {
          "DATE": "2019-02-13T00:00:00",
          "KEY": "COST",
          "VALUE": -0.9236220322324994
         },
         {
          "DATE": "2019-02-14T00:00:00",
          "KEY": "COST",
          "VALUE": -1.3330167679295235
         },
         {
          "DATE": "2019-02-15T00:00:00",
          "KEY": "COST",
          "VALUE": -0.06508802004053311
         },
         {
          "DATE": "2019-02-16T00:00:00",
          "KEY": "COST",
          "VALUE": 0.5592696520952596
         },
         {
          "DATE": "2019-02-17T00:00:00",
          "KEY": "COST",
          "VALUE": -0.6569957393554232
         },
         {
          "DATE": "2019-02-18T00:00:00",
          "KEY": "COST",
          "VALUE": -0.3282445277581757
         },
         {
          "DATE": "2019-02-19T00:00:00",
          "KEY": "COST",
          "VALUE": -0.04808104317423563
         },
         {
          "DATE": "2019-02-20T00:00:00",
          "KEY": "COST",
          "VALUE": 0.7663812775467459
         },
         {
          "DATE": "2019-02-21T00:00:00",
          "KEY": "COST",
          "VALUE": 0.6505979419280974
         },
         {
          "DATE": "2019-02-22T00:00:00",
          "KEY": "COST",
          "VALUE": -0.2311045263866792
         },
         {
          "DATE": "2019-02-23T00:00:00",
          "KEY": "COST",
          "VALUE": 1.520915177865942
         },
         {
          "DATE": "2019-02-24T00:00:00",
          "KEY": "COST",
          "VALUE": -1.2488562907302645
         },
         {
          "DATE": "2019-02-25T00:00:00",
          "KEY": "COST",
          "VALUE": -0.4612153941516854
         },
         {
          "DATE": "2019-02-26T00:00:00",
          "KEY": "COST",
          "VALUE": 0.5199110881528332
         },
         {
          "DATE": "2019-02-27T00:00:00",
          "KEY": "COST",
          "VALUE": -0.49615340505686956
         },
         {
          "DATE": "2019-02-28T00:00:00",
          "KEY": "COST",
          "VALUE": 0.2681649875056287
         },
         {
          "DATE": "2019-03-01T00:00:00",
          "KEY": "COST",
          "VALUE": -1.576444840504269
         },
         {
          "DATE": "2019-03-02T00:00:00",
          "KEY": "COST",
          "VALUE": -1.043656101385896
         },
         {
          "DATE": "2019-03-03T00:00:00",
          "KEY": "COST",
          "VALUE": -1.7298304961376783
         },
         {
          "DATE": "2019-03-04T00:00:00",
          "KEY": "COST",
          "VALUE": -0.5160374822455386
         },
         {
          "DATE": "2019-03-05T00:00:00",
          "KEY": "COST",
          "VALUE": 0.669327460545997
         },
         {
          "DATE": "2019-03-06T00:00:00",
          "KEY": "COST",
          "VALUE": 0.6183958528236789
         },
         {
          "DATE": "2019-03-07T00:00:00",
          "KEY": "COST",
          "VALUE": -0.48660676744071263
         },
         {
          "DATE": "2019-03-08T00:00:00",
          "KEY": "COST",
          "VALUE": -0.06204540504230543
         },
         {
          "DATE": "2019-03-09T00:00:00",
          "KEY": "COST",
          "VALUE": -0.31836219202801813
         },
         {
          "DATE": "2019-03-10T00:00:00",
          "KEY": "COST",
          "VALUE": -0.0598652635041466
         },
         {
          "DATE": "2019-03-11T00:00:00",
          "KEY": "COST",
          "VALUE": -0.23063337617861832
         },
         {
          "DATE": "2019-03-12T00:00:00",
          "KEY": "COST",
          "VALUE": -0.8607934385848848
         },
         {
          "DATE": "2019-03-13T00:00:00",
          "KEY": "COST",
          "VALUE": 2.543360827641043
         },
         {
          "DATE": "2019-03-14T00:00:00",
          "KEY": "COST",
          "VALUE": 1.9677766728824995
         },
         {
          "DATE": "2019-03-15T00:00:00",
          "KEY": "COST",
          "VALUE": 1.0509355863928682
         },
         {
          "DATE": "2019-03-16T00:00:00",
          "KEY": "COST",
          "VALUE": 0.7782949059127997
         },
         {
          "DATE": "2019-03-17T00:00:00",
          "KEY": "COST",
          "VALUE": -0.32168767111909197
         },
         {
          "DATE": "2019-03-18T00:00:00",
          "KEY": "COST",
          "VALUE": -0.032291302263458735
         },
         {
          "DATE": "2019-03-19T00:00:00",
          "KEY": "COST",
          "VALUE": 1.2171823539459168
         },
         {
          "DATE": "2019-03-20T00:00:00",
          "KEY": "COST",
          "VALUE": 0.364559606992288
         },
         {
          "DATE": "2019-03-21T00:00:00",
          "KEY": "COST",
          "VALUE": -0.4598052012948849
         },
         {
          "DATE": "2019-03-22T00:00:00",
          "KEY": "COST",
          "VALUE": 0.28232563472690014
         },
         {
          "DATE": "2019-03-23T00:00:00",
          "KEY": "COST",
          "VALUE": -0.5726542072430321
         },
         {
          "DATE": "2019-03-24T00:00:00",
          "KEY": "COST",
          "VALUE": 0.5920714437381944
         },
         {
          "DATE": "2019-03-25T00:00:00",
          "KEY": "COST",
          "VALUE": 0.28520669070029214
         },
         {
          "DATE": "2019-03-26T00:00:00",
          "KEY": "COST",
          "VALUE": -0.08630031854627199
         },
         {
          "DATE": "2019-03-27T00:00:00",
          "KEY": "COST",
          "VALUE": -0.40013412903198775
         },
         {
          "DATE": "2019-03-28T00:00:00",
          "KEY": "COST",
          "VALUE": -1.1099360251011698
         },
         {
          "DATE": "2019-03-29T00:00:00",
          "KEY": "COST",
          "VALUE": 0.033650360855916724
         },
         {
          "DATE": "2019-03-30T00:00:00",
          "KEY": "COST",
          "VALUE": 3.031309652522569
         },
         {
          "DATE": "2019-03-31T00:00:00",
          "KEY": "COST",
          "VALUE": 0.44153701370231624
         },
         {
          "DATE": "2019-04-01T00:00:00",
          "KEY": "COST",
          "VALUE": 1.2834327220370192
         },
         {
          "DATE": "2019-04-02T00:00:00",
          "KEY": "COST",
          "VALUE": -2.606560800234572
         },
         {
          "DATE": "2019-04-03T00:00:00",
          "KEY": "COST",
          "VALUE": 0.20761605639615544
         },
         {
          "DATE": "2019-04-04T00:00:00",
          "KEY": "COST",
          "VALUE": -0.6722712365146248
         },
         {
          "DATE": "2019-04-05T00:00:00",
          "KEY": "COST",
          "VALUE": -0.5090749293913677
         },
         {
          "DATE": "2019-04-06T00:00:00",
          "KEY": "COST",
          "VALUE": 0.23529425739692889
         },
         {
          "DATE": "2019-04-07T00:00:00",
          "KEY": "COST",
          "VALUE": 0.9794884609126976
         },
         {
          "DATE": "2019-04-08T00:00:00",
          "KEY": "COST",
          "VALUE": -0.003064534233604415
         },
         {
          "DATE": "2019-04-09T00:00:00",
          "KEY": "COST",
          "VALUE": 1.2469813625583088
         },
         {
          "DATE": "2019-04-10T00:00:00",
          "KEY": "COST",
          "VALUE": 1.1635167087763871
         }
        ]
       },
       "facet": {
        "column": {
         "field": "DATE",
         "type": "temporal"
        }
       },
       "spacing": 0,
       "spec": {
        "encoding": {
         "color": {
          "field": "KEY",
          "scale": {
           "scheme": "category20"
          },
          "type": "ordinal"
         },
         "tooltip": [
          {
           "field": "DATE",
           "type": "temporal"
          },
          {
           "field": "KEY",
           "type": "nominal"
          },
          {
           "field": "VALUE",
           "type": "quantitative"
          }
         ],
         "x": {
          "axis": null,
          "field": "KEY",
          "type": "ordinal"
         },
         "y": {
          "field": "VALUE",
          "title": null,
          "type": "quantitative"
         }
        },
        "mark": "bar",
        "width": 10
       }
      },
      "image/png": "[encoded data removed]",
      "text/plain": [
       "<VegaLite 3 object>\n",
       "\n",
       "If you see this message, it means the renderer has not been properly enabled\n",
       "for the frontend that you are using. For more information, see\n",
       "https://altair-viz.github.io/user_guide/troubleshooting.html\n"
      ]
     },
     "execution_count": 135,
     "metadata": {},
     "output_type": "execute_result"
    }
   ],
   "source": [
    "import altair as alt\n",
    "import pandas as pd\n",
    "m = 100\n",
    "data = pd.DataFrame({\n",
    "    'DATE': pd.date_range('2019-01-01', freq='D', periods=m),\n",
    "    'REVENUE': np.random.randn(m),\n",
    "    'COST': np.random.randn(m),\n",
    "}).melt('DATE', var_name='KEY', value_name='VALUE')\n",
    "\n",
    "print(data.head())\n",
    "\n",
    "bars = alt.Chart(data, width=10).mark_bar().encode(\n",
    "    y=alt.Y('VALUE:Q', title=None),\n",
    "    x=alt.X('KEY:O', axis=None),\n",
    "    color=alt.Color('KEY:O', scale=alt.Scale(scheme='category20')),\n",
    "    tooltip=['DATE', 'KEY', 'VALUE'],\n",
    ")\n",
    "\n",
    "(bars).facet(\n",
    "    column=alt.Column('DATE:T'),\n",
    "    align=\"none\",\n",
    "    spacing=0,\n",
    ").configure_header(\n",
    "    title=None\n",
    ").configure_axis(\n",
    "    grid=False\n",
    ").configure_view(\n",
    "    strokeOpacity=0\n",
    ")"
   ]
  },
  {
   "cell_type": "code",
   "execution_count": 104,
   "metadata": {},
   "outputs": [
    {
     "data": {
      "text/plain": [
       "\u001b[0;31mInit signature:\u001b[0m\n",
       "\u001b[0malt\u001b[0m\u001b[0;34m.\u001b[0m\u001b[0mChart\u001b[0m\u001b[0;34m(\u001b[0m\u001b[0;34m\u001b[0m\n",
       "\u001b[0;34m\u001b[0m    \u001b[0mdata\u001b[0m\u001b[0;34m=\u001b[0m\u001b[0mUndefined\u001b[0m\u001b[0;34m,\u001b[0m\u001b[0;34m\u001b[0m\n",
       "\u001b[0;34m\u001b[0m    \u001b[0mencoding\u001b[0m\u001b[0;34m=\u001b[0m\u001b[0mUndefined\u001b[0m\u001b[0;34m,\u001b[0m\u001b[0;34m\u001b[0m\n",
       "\u001b[0;34m\u001b[0m    \u001b[0mmark\u001b[0m\u001b[0;34m=\u001b[0m\u001b[0mUndefined\u001b[0m\u001b[0;34m,\u001b[0m\u001b[0;34m\u001b[0m\n",
       "\u001b[0;34m\u001b[0m    \u001b[0mwidth\u001b[0m\u001b[0;34m=\u001b[0m\u001b[0mUndefined\u001b[0m\u001b[0;34m,\u001b[0m\u001b[0;34m\u001b[0m\n",
       "\u001b[0;34m\u001b[0m    \u001b[0mheight\u001b[0m\u001b[0;34m=\u001b[0m\u001b[0mUndefined\u001b[0m\u001b[0;34m,\u001b[0m\u001b[0;34m\u001b[0m\n",
       "\u001b[0;34m\u001b[0m    \u001b[0;34m**\u001b[0m\u001b[0mkwargs\u001b[0m\u001b[0;34m,\u001b[0m\u001b[0;34m\u001b[0m\n",
       "\u001b[0;34m\u001b[0m\u001b[0;34m)\u001b[0m\u001b[0;34m\u001b[0m\u001b[0;34m\u001b[0m\u001b[0m\n",
       "\u001b[0;31mDocstring:\u001b[0m     \n",
       "Create a basic Altair/Vega-Lite chart.\n",
       "\n",
       "Although it is possible to set all Chart properties as constructor attributes,\n",
       "it is more idiomatic to use methods such as ``mark_point()``, ``encode()``,\n",
       "``transform_filter()``, ``properties()``, etc. See Altair's documentation\n",
       "for details and examples: http://altair-viz.github.io/.\n",
       "\n",
       "Attributes\n",
       "----------\n",
       "data : Data\n",
       "    An object describing the data source\n",
       "mark : AnyMark\n",
       "    A string describing the mark type (one of `\"bar\"`, `\"circle\"`, `\"square\"`, `\"tick\"`,\n",
       "     `\"line\"`, * `\"area\"`, `\"point\"`, `\"rule\"`, `\"geoshape\"`, and `\"text\"`) or a\n",
       "     MarkDef object.\n",
       "encoding : FacetedEncoding\n",
       "    A key-value mapping between encoding channels and definition of fields.\n",
       "autosize : anyOf(AutosizeType, AutoSizeParams)\n",
       "    Sets how the visualization size should be determined. If a string, should be one of\n",
       "    `\"pad\"`, `\"fit\"` or `\"none\"`. Object values can additionally specify parameters for\n",
       "    content sizing and automatic resizing. `\"fit\"` is only supported for single and\n",
       "    layered views that don't use `rangeStep`.  __Default value__: `pad`\n",
       "background : string\n",
       "    CSS color property to use as the background of visualization.\n",
       "\n",
       "    **Default value:** none (transparent)\n",
       "config : Config\n",
       "    Vega-Lite configuration object.  This property can only be defined at the top-level\n",
       "    of a specification.\n",
       "description : string\n",
       "    Description of this mark for commenting purpose.\n",
       "height : float\n",
       "    The height of a visualization.\n",
       "name : string\n",
       "    Name of the visualization for later reference.\n",
       "padding : Padding\n",
       "    The default visualization padding, in pixels, from the edge of the visualization\n",
       "    canvas to the data rectangle.  If a number, specifies padding for all sides. If an\n",
       "    object, the value should have the format `{\"left\": 5, \"top\": 5, \"right\": 5,\n",
       "    \"bottom\": 5}` to specify padding for each side of the visualization.  __Default\n",
       "    value__: `5`\n",
       "projection : Projection\n",
       "    An object defining properties of geographic projection.  Works with `\"geoshape\"`\n",
       "    marks and `\"point\"` or `\"line\"` marks that have a channel (one or more of `\"X\"`,\n",
       "    `\"X2\"`, `\"Y\"`, `\"Y2\"`) with type `\"latitude\"`, or `\"longitude\"`.\n",
       "selection : Mapping(required=[])\n",
       "    A key-value mapping between selection names and definitions.\n",
       "title : anyOf(string, TitleParams)\n",
       "    Title for the plot.\n",
       "transform : List(Transform)\n",
       "    An array of data transformations such as filter and new field calculation.\n",
       "width : float\n",
       "    The width of a visualization.\n",
       "\u001b[0;31mFile:\u001b[0m           ~/anaconda3/envs/37nightly/lib/python3.7/site-packages/altair/vegalite/v3/api.py\n",
       "\u001b[0;31mType:\u001b[0m           type\n",
       "\u001b[0;31mSubclasses:\u001b[0m     \n"
      ]
     },
     "metadata": {},
     "output_type": "display_data"
    }
   ],
   "source": [
    "alt.Chart?"
   ]
  },
  {
   "cell_type": "code",
   "execution_count": 66,
   "metadata": {},
   "outputs": [
    {
     "data": {
      "application/vnd.vegalite.v3+json": {
       "$schema": "https://vega.github.io/schema/vega-lite/v3.3.0.json",
       "config": {
        "mark": {
         "tooltip": null
        },
        "view": {
         "height": 300,
         "width": 400
        }
       },
       "data": {
        "name": "data-42f8785c5d22834c5471f9cd59ae8ca5"
       },
       "datasets": {
        "data-42f8785c5d22834c5471f9cd59ae8ca5": [
         {
          "DATE": "2019-01-01T00:00:00",
          "KEY": "REVENUE",
          "VALUE": -0.6435057745962948
         },
         {
          "DATE": "2019-01-02T00:00:00",
          "KEY": "REVENUE",
          "VALUE": 0.8187325957387971
         },
         {
          "DATE": "2019-01-03T00:00:00",
          "KEY": "REVENUE",
          "VALUE": 0.11240876452102466
         },
         {
          "DATE": "2019-01-04T00:00:00",
          "KEY": "REVENUE",
          "VALUE": -1.439937720498107
         },
         {
          "DATE": "2019-01-05T00:00:00",
          "KEY": "REVENUE",
          "VALUE": 0.5409581757290544
         },
         {
          "DATE": "2019-01-06T00:00:00",
          "KEY": "REVENUE",
          "VALUE": 0.6809221051737389
         },
         {
          "DATE": "2019-01-07T00:00:00",
          "KEY": "REVENUE",
          "VALUE": -0.025351635745157315
         },
         {
          "DATE": "2019-01-08T00:00:00",
          "KEY": "REVENUE",
          "VALUE": -0.12176836226170812
         },
         {
          "DATE": "2019-01-09T00:00:00",
          "KEY": "REVENUE",
          "VALUE": 1.4206333563402527
         },
         {
          "DATE": "2019-01-10T00:00:00",
          "KEY": "REVENUE",
          "VALUE": -1.6606471604234905
         },
         {
          "DATE": "2019-01-01T00:00:00",
          "KEY": "COST",
          "VALUE": 0.7412656312842109
         },
         {
          "DATE": "2019-01-02T00:00:00",
          "KEY": "COST",
          "VALUE": -0.5834351141342317
         },
         {
          "DATE": "2019-01-03T00:00:00",
          "KEY": "COST",
          "VALUE": 1.060984584582786
         },
         {
          "DATE": "2019-01-04T00:00:00",
          "KEY": "COST",
          "VALUE": 0.4976892984383943
         },
         {
          "DATE": "2019-01-05T00:00:00",
          "KEY": "COST",
          "VALUE": -0.08160919870597523
         },
         {
          "DATE": "2019-01-06T00:00:00",
          "KEY": "COST",
          "VALUE": 1.562660897335905
         },
         {
          "DATE": "2019-01-07T00:00:00",
          "KEY": "COST",
          "VALUE": -0.700713664809718
         },
         {
          "DATE": "2019-01-08T00:00:00",
          "KEY": "COST",
          "VALUE": 1.5701841727469226
         },
         {
          "DATE": "2019-01-09T00:00:00",
          "KEY": "COST",
          "VALUE": -3.5903867453797096
         },
         {
          "DATE": "2019-01-10T00:00:00",
          "KEY": "COST",
          "VALUE": 0.09892183551667619
         }
        ]
       },
       "encoding": {
        "color": {
         "field": "KEY",
         "type": "nominal"
        },
        "tooltip": [
         {
          "field": "KEY",
          "type": "nominal"
         },
         {
          "field": "VALUE",
          "type": "quantitative"
         }
        ],
        "x": {
         "field": "DATE",
         "timeUnit": "yearmonthdate",
         "type": "ordinal"
        },
        "y": {
         "field": "VALUE",
         "type": "quantitative"
        }
       },
       "mark": "bar"
      },
      "image/png": "[encoded data removed]",
      "text/plain": [
       "<VegaLite 3 object>\n",
       "\n",
       "If you see this message, it means the renderer has not been properly enabled\n",
       "for the frontend that you are using. For more information, see\n",
       "https://altair-viz.github.io/user_guide/troubleshooting.html\n"
      ]
     },
     "execution_count": 66,
     "metadata": {},
     "output_type": "execute_result"
    }
   ],
   "source": [
    "import altair as alt\n",
    "\n",
    "alt.Chart(data).mark_bar().encode(\n",
    "    x='yearmonthdate(DATE):O',\n",
    "    y='VALUE',\n",
    "    color='KEY',\n",
    "    tooltip=['KEY', 'VALUE'],\n",
    ")"
   ]
  },
  {
   "cell_type": "code",
   "execution_count": 3,
   "metadata": {},
   "outputs": [
    {
     "data": {
      "text/plain": [
       "<matplotlib.axes._subplots.AxesSubplot at 0x7fe7ad72b5f8>"
      ]
     },
     "execution_count": 3,
     "metadata": {},
     "output_type": "execute_result"
    },
    {
     "data": {
      "image/png": "[encoded data removed]",
      "text/plain": [
       "<Figure size 432x288 with 1 Axes>"
      ]
     },
     "metadata": {
      "needs_background": "light"
     },
     "output_type": "display_data"
    }
   ],
   "source": [
    "%matplotlib inline\n",
    "data.set_index(['DATE', 'KEY'])['VALUE'].unstack('KEY').plot(kind='bar')"
   ]
  },
  {
   "cell_type": "code",
   "execution_count": 6,
   "metadata": {},
   "outputs": [
    {
     "data": {
      "application/vnd.vegalite.v3+json": {
       "$schema": "https://vega.github.io/schema/vega-lite/v3.3.0.json",
       "config": {
        "axis": {
         "grid": false
        },
        "mark": {
         "tooltip": null
        },
        "scale": {},
        "view": {
         "height": 300,
         "strokeWidth": 0,
         "width": 400
        }
       },
       "data": {
        "name": "data-62981dbf4097fb09dce1455b177c41e2"
       },
       "datasets": {
        "data-62981dbf4097fb09dce1455b177c41e2": [
         {
          "DATE": "2019-01-01T00:00:00",
          "KEY": "REVENUE",
          "VALUE": -0.4389013044692347
         },
         {
          "DATE": "2019-01-02T00:00:00",
          "KEY": "REVENUE",
          "VALUE": -0.5465034021717394
         },
         {
          "DATE": "2019-01-03T00:00:00",
          "KEY": "REVENUE",
          "VALUE": -0.8317146600548107
         },
         {
          "DATE": "2019-01-04T00:00:00",
          "KEY": "REVENUE",
          "VALUE": -0.2975553906302745
         },
         {
          "DATE": "2019-01-05T00:00:00",
          "KEY": "REVENUE",
          "VALUE": -2.106446843489794
         },
         {
          "DATE": "2019-01-06T00:00:00",
          "KEY": "REVENUE",
          "VALUE": -2.042494970219761
         },
         {
          "DATE": "2019-01-07T00:00:00",
          "KEY": "REVENUE",
          "VALUE": 0.7650491826016651
         },
         {
          "DATE": "2019-01-08T00:00:00",
          "KEY": "REVENUE",
          "VALUE": -0.898316468178873
         },
         {
          "DATE": "2019-01-09T00:00:00",
          "KEY": "REVENUE",
          "VALUE": -0.37996614402545764
         },
         {
          "DATE": "2019-01-10T00:00:00",
          "KEY": "REVENUE",
          "VALUE": -0.6505973411946784
         },
         {
          "DATE": "2019-01-01T00:00:00",
          "KEY": "COST",
          "VALUE": 0.20452973153361637
         },
         {
          "DATE": "2019-01-02T00:00:00",
          "KEY": "COST",
          "VALUE": -0.6089256973540159
         },
         {
          "DATE": "2019-01-03T00:00:00",
          "KEY": "COST",
          "VALUE": 1.1797465962862588
         },
         {
          "DATE": "2019-01-04T00:00:00",
          "KEY": "COST",
          "VALUE": 1.6404526750048831
         },
         {
          "DATE": "2019-01-05T00:00:00",
          "KEY": "COST",
          "VALUE": 1.208771828003554
         },
         {
          "DATE": "2019-01-06T00:00:00",
          "KEY": "COST",
          "VALUE": 0.06033371774778851
         },
         {
          "DATE": "2019-01-07T00:00:00",
          "KEY": "COST",
          "VALUE": -0.6350813397028493
         },
         {
          "DATE": "2019-01-08T00:00:00",
          "KEY": "COST",
          "VALUE": 0.5588496397688041
         },
         {
          "DATE": "2019-01-09T00:00:00",
          "KEY": "COST",
          "VALUE": -0.15525465276404382
         },
         {
          "DATE": "2019-01-10T00:00:00",
          "KEY": "COST",
          "VALUE": 0.07401860546056066
         }
        ]
       },
       "encoding": {
        "color": {
         "field": "KEY",
         "type": "nominal"
        },
        "column": {
         "field": "DATE",
         "type": "temporal"
        },
        "tooltip": [
         {
          "field": "KEY",
          "type": "nominal"
         },
         {
          "field": "VALUE",
          "type": "quantitative"
         }
        ],
        "x": {
         "field": "KEY",
         "scale": {
          "padding": 0.2
         },
         "type": "nominal"
        },
        "y": {
         "field": "VALUE",
         "type": "quantitative"
        }
       },
       "mark": "bar"
      },
      "image/png": "[encoded data removed]",
      "text/plain": [
       "<VegaLite 3 object>\n",
       "\n",
       "If you see this message, it means the renderer has not been properly enabled\n",
       "for the frontend that you are using. For more information, see\n",
       "https://altair-viz.github.io/user_guide/troubleshooting.html\n"
      ]
     },
     "execution_count": 6,
     "metadata": {},
     "output_type": "execute_result"
    }
   ],
   "source": [
    "import altair as alt\n",
    "import pandas as pd\n",
    "\n",
    "\n",
    "\n",
    "alt.Chart(data).mark_bar().encode(\n",
    "    x=alt.X('KEY', scale=alt.Scale(padding=0.2)),\n",
    "    y=alt.Y('VALUE'),\n",
    "    color='KEY',\n",
    "    column=alt.Column('DATE:T'),\n",
    "    tooltip=['KEY', 'VALUE'],\n",
    ").configure_axis(\n",
    "    grid=False\n",
    ").configure_view(\n",
    "    strokeWidth=0\n",
    ").configure_scale()"
   ]
  },
  {
   "cell_type": "code",
   "execution_count": 5,
   "metadata": {},
   "outputs": [
    {
     "data": {
      "text/html": [
       "\n",
       "    <div class=\"bk-root\">\n",
       "        <a href=\"https://bokeh.pydata.org\" target=\"_blank\" class=\"bk-logo bk-logo-small bk-logo-notebook\"></a>\n",
       "        <span id=\"1001\">Loading BokehJS ...</span>\n",
       "    </div>"
      ]
     },
     "metadata": {},
     "output_type": "display_data"
    },
    {
     "data": {
      "application/javascript": [
       "\n",
       "(function(root) {\n",
       "  function now() {\n",
       "    return new Date();\n",
       "  }\n",
       "\n",
       "  var force = true;\n",
       "\n",
       "  if (typeof root._bokeh_onload_callbacks === \"undefined\" || force === true) {\n",
       "    root._bokeh_onload_callbacks = [];\n",
       "    root._bokeh_is_loading = undefined;\n",
       "  }\n",
       "\n",
       "  var JS_MIME_TYPE = 'application/javascript';\n",
       "  var HTML_MIME_TYPE = 'text/html';\n",
       "  var EXEC_MIME_TYPE = 'application/vnd.bokehjs_exec.v0+json';\n",
       "  var CLASS_NAME = 'output_bokeh rendered_html';\n",
       "\n",
       "  /**\n",
       "   * Render data to the DOM node\n",
       "   */\n",
       "  function render(props, node) {\n",
       "    var script = document.createElement(\"script\");\n",
       "    node.appendChild(script);\n",
       "  }\n",
       "\n",
       "  /**\n",
       "   * Handle when an output is cleared or removed\n",
       "   */\n",
       "  function handleClearOutput(event, handle) {\n",
       "    var cell = handle.cell;\n",
       "\n",
       "    var id = cell.output_area._bokeh_element_id;\n",
       "    var server_id = cell.output_area._bokeh_server_id;\n",
       "    // Clean up Bokeh references\n",
       "    if (id != null && id in Bokeh.index) {\n",
       "      Bokeh.index[id].model.document.clear();\n",
       "      delete Bokeh.index[id];\n",
       "    }\n",
       "\n",
       "    if (server_id !== undefined) {\n",
       "      // Clean up Bokeh references\n",
       "      var cmd = \"from bokeh.io.state import curstate; print(curstate().uuid_to_server['\" + server_id + \"'].get_sessions()[0].document.roots[0]._id)\";\n",
       "      cell.notebook.kernel.execute(cmd, {\n",
       "        iopub: {\n",
       "          output: function(msg) {\n",
       "            var id = msg.content.text.trim();\n",
       "            if (id in Bokeh.index) {\n",
       "              Bokeh.index[id].model.document.clear();\n",
       "              delete Bokeh.index[id];\n",
       "            }\n",
       "          }\n",
       "        }\n",
       "      });\n",
       "      // Destroy server and session\n",
       "      var cmd = \"import bokeh.io.notebook as ion; ion.destroy_server('\" + server_id + \"')\";\n",
       "      cell.notebook.kernel.execute(cmd);\n",
       "    }\n",
       "  }\n",
       "\n",
       "  /**\n",
       "   * Handle when a new output is added\n",
       "   */\n",
       "  function handleAddOutput(event, handle) {\n",
       "    var output_area = handle.output_area;\n",
       "    var output = handle.output;\n",
       "\n",
       "    // limit handleAddOutput to display_data with EXEC_MIME_TYPE content only\n",
       "    if ((output.output_type != \"display_data\") || (!output.data.hasOwnProperty(EXEC_MIME_TYPE))) {\n",
       "      return\n",
       "    }\n",
       "\n",
       "    var toinsert = output_area.element.find(\".\" + CLASS_NAME.split(' ')[0]);\n",
       "\n",
       "    if (output.metadata[EXEC_MIME_TYPE][\"id\"] !== undefined) {\n",
       "      toinsert[toinsert.length - 1].firstChild.textContent = output.data[JS_MIME_TYPE];\n",
       "      // store reference to embed id on output_area\n",
       "      output_area._bokeh_element_id = output.metadata[EXEC_MIME_TYPE][\"id\"];\n",
       "    }\n",
       "    if (output.metadata[EXEC_MIME_TYPE][\"server_id\"] !== undefined) {\n",
       "      var bk_div = document.createElement(\"div\");\n",
       "      bk_div.innerHTML = output.data[HTML_MIME_TYPE];\n",
       "      var script_attrs = bk_div.children[0].attributes;\n",
       "      for (var i = 0; i < script_attrs.length; i++) {\n",
       "        toinsert[toinsert.length - 1].firstChild.setAttribute(script_attrs[i].name, script_attrs[i].value);\n",
       "      }\n",
       "      // store reference to server id on output_area\n",
       "      output_area._bokeh_server_id = output.metadata[EXEC_MIME_TYPE][\"server_id\"];\n",
       "    }\n",
       "  }\n",
       "\n",
       "  function register_renderer(events, OutputArea) {\n",
       "\n",
       "    function append_mime(data, metadata, element) {\n",
       "      // create a DOM node to render to\n",
       "      var toinsert = this.create_output_subarea(\n",
       "        metadata,\n",
       "        CLASS_NAME,\n",
       "        EXEC_MIME_TYPE\n",
       "      );\n",
       "      this.keyboard_manager.register_events(toinsert);\n",
       "      // Render to node\n",
       "      var props = {data: data, metadata: metadata[EXEC_MIME_TYPE]};\n",
       "      render(props, toinsert[toinsert.length - 1]);\n",
       "      element.append(toinsert);\n",
       "      return toinsert\n",
       "    }\n",
       "\n",
       "    /* Handle when an output is cleared or removed */\n",
       "    events.on('clear_output.CodeCell', handleClearOutput);\n",
       "    events.on('delete.Cell', handleClearOutput);\n",
       "\n",
       "    /* Handle when a new output is added */\n",
       "    events.on('output_added.OutputArea', handleAddOutput);\n",
       "\n",
       "    /**\n",
       "     * Register the mime type and append_mime function with output_area\n",
       "     */\n",
       "    OutputArea.prototype.register_mime_type(EXEC_MIME_TYPE, append_mime, {\n",
       "      /* Is output safe? */\n",
       "      safe: true,\n",
       "      /* Index of renderer in `output_area.display_order` */\n",
       "      index: 0\n",
       "    });\n",
       "  }\n",
       "\n",
       "  // register the mime type if in Jupyter Notebook environment and previously unregistered\n",
       "  if (root.Jupyter !== undefined) {\n",
       "    var events = require('base/js/events');\n",
       "    var OutputArea = require('notebook/js/outputarea').OutputArea;\n",
       "\n",
       "    if (OutputArea.prototype.mime_types().indexOf(EXEC_MIME_TYPE) == -1) {\n",
       "      register_renderer(events, OutputArea);\n",
       "    }\n",
       "  }\n",
       "\n",
       "  \n",
       "  if (typeof (root._bokeh_timeout) === \"undefined\" || force === true) {\n",
       "    root._bokeh_timeout = Date.now() + 5000;\n",
       "    root._bokeh_failed_load = false;\n",
       "  }\n",
       "\n",
       "  var NB_LOAD_WARNING = {'data': {'text/html':\n",
       "     \"<div style='background-color: #fdd'>\\n\"+\n",
       "     \"<p>\\n\"+\n",
       "     \"BokehJS does not appear to have successfully loaded. If loading BokehJS from CDN, this \\n\"+\n",
       "     \"may be due to a slow or bad network connection. Possible fixes:\\n\"+\n",
       "     \"</p>\\n\"+\n",
       "     \"<ul>\\n\"+\n",
       "     \"<li>re-rerun `output_notebook()` to attempt to load from CDN again, or</li>\\n\"+\n",
       "     \"<li>use INLINE resources instead, as so:</li>\\n\"+\n",
       "     \"</ul>\\n\"+\n",
       "     \"<code>\\n\"+\n",
       "     \"from bokeh.resources import INLINE\\n\"+\n",
       "     \"output_notebook(resources=INLINE)\\n\"+\n",
       "     \"</code>\\n\"+\n",
       "     \"</div>\"}};\n",
       "\n",
       "  function display_loaded() {\n",
       "    var el = document.getElementById(\"1001\");\n",
       "    if (el != null) {\n",
       "      el.textContent = \"BokehJS is loading...\";\n",
       "    }\n",
       "    if (root.Bokeh !== undefined) {\n",
       "      if (el != null) {\n",
       "        el.textContent = \"BokehJS \" + root.Bokeh.version + \" successfully loaded.\";\n",
       "      }\n",
       "    } else if (Date.now() < root._bokeh_timeout) {\n",
       "      setTimeout(display_loaded, 100)\n",
       "    }\n",
       "  }\n",
       "\n",
       "\n",
       "  function run_callbacks() {\n",
       "    try {\n",
       "      root._bokeh_onload_callbacks.forEach(function(callback) {\n",
       "        if (callback != null)\n",
       "          callback();\n",
       "      });\n",
       "    } finally {\n",
       "      delete root._bokeh_onload_callbacks\n",
       "    }\n",
       "    console.debug(\"Bokeh: all callbacks have finished\");\n",
       "  }\n",
       "\n",
       "  function load_libs(css_urls, js_urls, callback) {\n",
       "    if (css_urls == null) css_urls = [];\n",
       "    if (js_urls == null) js_urls = [];\n",
       "\n",
       "    root._bokeh_onload_callbacks.push(callback);\n",
       "    if (root._bokeh_is_loading > 0) {\n",
       "      console.debug(\"Bokeh: BokehJS is being loaded, scheduling callback at\", now());\n",
       "      return null;\n",
       "    }\n",
       "    if (js_urls == null || js_urls.length === 0) {\n",
       "      run_callbacks();\n",
       "      return null;\n",
       "    }\n",
       "    console.debug(\"Bokeh: BokehJS not loaded, scheduling load and callback at\", now());\n",
       "    root._bokeh_is_loading = css_urls.length + js_urls.length;\n",
       "\n",
       "    function on_load() {\n",
       "      root._bokeh_is_loading--;\n",
       "      if (root._bokeh_is_loading === 0) {\n",
       "        console.debug(\"Bokeh: all BokehJS libraries/stylesheets loaded\");\n",
       "        run_callbacks()\n",
       "      }\n",
       "    }\n",
       "\n",
       "    function on_error() {\n",
       "      console.error(\"failed to load \" + url);\n",
       "    }\n",
       "\n",
       "    for (var i = 0; i < css_urls.length; i++) {\n",
       "      var url = css_urls[i];\n",
       "      const element = document.createElement(\"link\");\n",
       "      element.onload = on_load;\n",
       "      element.onerror = on_error;\n",
       "      element.rel = \"stylesheet\";\n",
       "      element.type = \"text/css\";\n",
       "      element.href = url;\n",
       "      console.debug(\"Bokeh: injecting link tag for BokehJS stylesheet: \", url);\n",
       "      document.body.appendChild(element);\n",
       "    }\n",
       "\n",
       "    for (var i = 0; i < js_urls.length; i++) {\n",
       "      var url = js_urls[i];\n",
       "      var element = document.createElement('script');\n",
       "      element.onload = on_load;\n",
       "      element.onerror = on_error;\n",
       "      element.async = false;\n",
       "      element.src = url;\n",
       "      console.debug(\"Bokeh: injecting script tag for BokehJS library: \", url);\n",
       "      document.head.appendChild(element);\n",
       "    }\n",
       "  };var element = document.getElementById(\"1001\");\n",
       "  if (element == null) {\n",
       "    console.error(\"Bokeh: ERROR: autoload.js configured with elementid '1001' but no matching script tag was found. \")\n",
       "    return false;\n",
       "  }\n",
       "\n",
       "  function inject_raw_css(css) {\n",
       "    const element = document.createElement(\"style\");\n",
       "    element.appendChild(document.createTextNode(css));\n",
       "    document.body.appendChild(element);\n",
       "  }\n",
       "\n",
       "  var js_urls = [\"https://cdn.pydata.org/bokeh/release/bokeh-1.2.0.min.js\", \"https://cdn.pydata.org/bokeh/release/bokeh-widgets-1.2.0.min.js\", \"https://cdn.pydata.org/bokeh/release/bokeh-tables-1.2.0.min.js\", \"https://cdn.pydata.org/bokeh/release/bokeh-gl-1.2.0.min.js\"];\n",
       "  var css_urls = [\"https://cdn.pydata.org/bokeh/release/bokeh-1.2.0.min.css\", \"https://cdn.pydata.org/bokeh/release/bokeh-widgets-1.2.0.min.css\", \"https://cdn.pydata.org/bokeh/release/bokeh-tables-1.2.0.min.css\"];\n",
       "\n",
       "  var inline_js = [\n",
       "    function(Bokeh) {\n",
       "      Bokeh.set_log_level(\"info\");\n",
       "    },\n",
       "    \n",
       "    function(Bokeh) {\n",
       "      \n",
       "    },\n",
       "    function(Bokeh) {} // ensure no trailing comma for IE\n",
       "  ];\n",
       "\n",
       "  function run_inline_js() {\n",
       "    \n",
       "    if ((root.Bokeh !== undefined) || (force === true)) {\n",
       "      for (var i = 0; i < inline_js.length; i++) {\n",
       "        inline_js[i].call(root, root.Bokeh);\n",
       "      }if (force === true) {\n",
       "        display_loaded();\n",
       "      }} else if (Date.now() < root._bokeh_timeout) {\n",
       "      setTimeout(run_inline_js, 100);\n",
       "    } else if (!root._bokeh_failed_load) {\n",
       "      console.log(\"Bokeh: BokehJS failed to load within specified timeout.\");\n",
       "      root._bokeh_failed_load = true;\n",
       "    } else if (force !== true) {\n",
       "      var cell = $(document.getElementById(\"1001\")).parents('.cell').data().cell;\n",
       "      cell.output_area.append_execute_result(NB_LOAD_WARNING)\n",
       "    }\n",
       "\n",
       "  }\n",
       "\n",
       "  if (root._bokeh_is_loading === 0) {\n",
       "    console.debug(\"Bokeh: BokehJS loaded, going straight to plotting\");\n",
       "    run_inline_js();\n",
       "  } else {\n",
       "    load_libs(css_urls, js_urls, function() {\n",
       "      console.debug(\"Bokeh: BokehJS plotting callback run at\", now());\n",
       "      run_inline_js();\n",
       "    });\n",
       "  }\n",
       "}(window));"
      ],
      "application/vnd.bokehjs_load.v0+json": "\n(function(root) {\n  function now() {\n    return new Date();\n  }\n\n  var force = true;\n\n  if (typeof root._bokeh_onload_callbacks === \"undefined\" || force === true) {\n    root._bokeh_onload_callbacks = [];\n    root._bokeh_is_loading = undefined;\n  }\n\n  \n\n  \n  if (typeof (root._bokeh_timeout) === \"undefined\" || force === true) {\n    root._bokeh_timeout = Date.now() + 5000;\n    root._bokeh_failed_load = false;\n  }\n\n  var NB_LOAD_WARNING = {'data': {'text/html':\n     \"<div style='background-color: #fdd'>\\n\"+\n     \"<p>\\n\"+\n     \"BokehJS does not appear to have successfully loaded. If loading BokehJS from CDN, this \\n\"+\n     \"may be due to a slow or bad network connection. Possible fixes:\\n\"+\n     \"</p>\\n\"+\n     \"<ul>\\n\"+\n     \"<li>re-rerun `output_notebook()` to attempt to load from CDN again, or</li>\\n\"+\n     \"<li>use INLINE resources instead, as so:</li>\\n\"+\n     \"</ul>\\n\"+\n     \"<code>\\n\"+\n     \"from bokeh.resources import INLINE\\n\"+\n     \"output_notebook(resources=INLINE)\\n\"+\n     \"</code>\\n\"+\n     \"</div>\"}};\n\n  function display_loaded() {\n    var el = document.getElementById(\"1001\");\n    if (el != null) {\n      el.textContent = \"BokehJS is loading...\";\n    }\n    if (root.Bokeh !== undefined) {\n      if (el != null) {\n        el.textContent = \"BokehJS \" + root.Bokeh.version + \" successfully loaded.\";\n      }\n    } else if (Date.now() < root._bokeh_timeout) {\n      setTimeout(display_loaded, 100)\n    }\n  }\n\n\n  function run_callbacks() {\n    try {\n      root._bokeh_onload_callbacks.forEach(function(callback) {\n        if (callback != null)\n          callback();\n      });\n    } finally {\n      delete root._bokeh_onload_callbacks\n    }\n    console.debug(\"Bokeh: all callbacks have finished\");\n  }\n\n  function load_libs(css_urls, js_urls, callback) {\n    if (css_urls == null) css_urls = [];\n    if (js_urls == null) js_urls = [];\n\n    root._bokeh_onload_callbacks.push(callback);\n    if (root._bokeh_is_loading > 0) {\n      console.debug(\"Bokeh: BokehJS is being loaded, scheduling callback at\", now());\n      return null;\n    }\n    if (js_urls == null || js_urls.length === 0) {\n      run_callbacks();\n      return null;\n    }\n    console.debug(\"Bokeh: BokehJS not loaded, scheduling load and callback at\", now());\n    root._bokeh_is_loading = css_urls.length + js_urls.length;\n\n    function on_load() {\n      root._bokeh_is_loading--;\n      if (root._bokeh_is_loading === 0) {\n        console.debug(\"Bokeh: all BokehJS libraries/stylesheets loaded\");\n        run_callbacks()\n      }\n    }\n\n    function on_error() {\n      console.error(\"failed to load \" + url);\n    }\n\n    for (var i = 0; i < css_urls.length; i++) {\n      var url = css_urls[i];\n      const element = document.createElement(\"link\");\n      element.onload = on_load;\n      element.onerror = on_error;\n      element.rel = \"stylesheet\";\n      element.type = \"text/css\";\n      element.href = url;\n      console.debug(\"Bokeh: injecting link tag for BokehJS stylesheet: \", url);\n      document.body.appendChild(element);\n    }\n\n    for (var i = 0; i < js_urls.length; i++) {\n      var url = js_urls[i];\n      var element = document.createElement('script');\n      element.onload = on_load;\n      element.onerror = on_error;\n      element.async = false;\n      element.src = url;\n      console.debug(\"Bokeh: injecting script tag for BokehJS library: \", url);\n      document.head.appendChild(element);\n    }\n  };var element = document.getElementById(\"1001\");\n  if (element == null) {\n    console.error(\"Bokeh: ERROR: autoload.js configured with elementid '1001' but no matching script tag was found. \")\n    return false;\n  }\n\n  function inject_raw_css(css) {\n    const element = document.createElement(\"style\");\n    element.appendChild(document.createTextNode(css));\n    document.body.appendChild(element);\n  }\n\n  var js_urls = [\"https://cdn.pydata.org/bokeh/release/bokeh-1.2.0.min.js\", \"https://cdn.pydata.org/bokeh/release/bokeh-widgets-1.2.0.min.js\", \"https://cdn.pydata.org/bokeh/release/bokeh-tables-1.2.0.min.js\", \"https://cdn.pydata.org/bokeh/release/bokeh-gl-1.2.0.min.js\"];\n  var css_urls = [\"https://cdn.pydata.org/bokeh/release/bokeh-1.2.0.min.css\", \"https://cdn.pydata.org/bokeh/release/bokeh-widgets-1.2.0.min.css\", \"https://cdn.pydata.org/bokeh/release/bokeh-tables-1.2.0.min.css\"];\n\n  var inline_js = [\n    function(Bokeh) {\n      Bokeh.set_log_level(\"info\");\n    },\n    \n    function(Bokeh) {\n      \n    },\n    function(Bokeh) {} // ensure no trailing comma for IE\n  ];\n\n  function run_inline_js() {\n    \n    if ((root.Bokeh !== undefined) || (force === true)) {\n      for (var i = 0; i < inline_js.length; i++) {\n        inline_js[i].call(root, root.Bokeh);\n      }if (force === true) {\n        display_loaded();\n      }} else if (Date.now() < root._bokeh_timeout) {\n      setTimeout(run_inline_js, 100);\n    } else if (!root._bokeh_failed_load) {\n      console.log(\"Bokeh: BokehJS failed to load within specified timeout.\");\n      root._bokeh_failed_load = true;\n    } else if (force !== true) {\n      var cell = $(document.getElementById(\"1001\")).parents('.cell').data().cell;\n      cell.output_area.append_execute_result(NB_LOAD_WARNING)\n    }\n\n  }\n\n  if (root._bokeh_is_loading === 0) {\n    console.debug(\"Bokeh: BokehJS loaded, going straight to plotting\");\n    run_inline_js();\n  } else {\n    load_libs(css_urls, js_urls, function() {\n      console.debug(\"Bokeh: BokehJS plotting callback run at\", now());\n      run_inline_js();\n    });\n  }\n}(window));"
     },
     "metadata": {},
     "output_type": "display_data"
    },
    {
     "data": {
      "text/html": [
       "\n",
       "\n",
       "\n",
       "\n",
       "\n",
       "\n",
       "  <div class=\"bk-root\" id=\"8639ae81-8f30-4a16-bdc2-ef722b37d57d\" data-root-id=\"1003\"></div>\n"
      ]
     },
     "metadata": {},
     "output_type": "display_data"
    },
    {
     "data": {
      "application/javascript": [
       "(function(root) {\n",
       "  function embed_document(root) {\n",
       "    \n",
       "  var docs_json = {\"9ed0bfdb-471e-408a-baef-3d866afef23c\":{\"roots\":{\"references\":[{\"attributes\":{\"below\":[{\"id\":\"1014\",\"type\":\"CategoricalAxis\"}],\"center\":[{\"id\":\"1017\",\"type\":\"Grid\"},{\"id\":\"1022\",\"type\":\"Grid\"},{\"id\":\"1035\",\"type\":\"Legend\"}],\"left\":[{\"id\":\"1018\",\"type\":\"LinearAxis\"}],\"plot_height\":350,\"renderers\":[{\"id\":\"1028\",\"type\":\"GlyphRenderer\"},{\"id\":\"1041\",\"type\":\"GlyphRenderer\"},{\"id\":\"1055\",\"type\":\"GlyphRenderer\"}],\"title\":{\"id\":\"1004\",\"type\":\"Title\"},\"toolbar\":{\"id\":\"1023\",\"type\":\"Toolbar\"},\"toolbar_location\":null,\"x_range\":{\"id\":\"1006\",\"type\":\"FactorRange\"},\"x_scale\":{\"id\":\"1010\",\"type\":\"CategoricalScale\"},\"y_range\":{\"id\":\"1008\",\"type\":\"Range1d\"},\"y_scale\":{\"id\":\"1012\",\"type\":\"LinearScale\"}},\"id\":\"1003\",\"subtype\":\"Figure\",\"type\":\"Plot\"},{\"attributes\":{\"text\":\"Fruit Counts by Year\"},\"id\":\"1004\",\"type\":\"Title\"},{\"attributes\":{},\"id\":\"1034\",\"type\":\"BasicTickFormatter\"},{\"attributes\":{\"callback\":null,\"factors\":[\"Apples\",\"Pears\",\"Nectarines\",\"Plums\",\"Grapes\",\"Strawberries\"],\"range_padding\":0.1},\"id\":\"1006\",\"type\":\"FactorRange\"},{\"attributes\":{\"items\":[{\"id\":\"1036\",\"type\":\"LegendItem\"},{\"id\":\"1050\",\"type\":\"LegendItem\"},{\"id\":\"1064\",\"type\":\"LegendItem\"}],\"location\":\"top_left\",\"orientation\":\"horizontal\"},\"id\":\"1035\",\"type\":\"Legend\"},{\"attributes\":{\"callback\":null,\"end\":10},\"id\":\"1008\",\"type\":\"Range1d\"},{\"attributes\":{\"label\":{\"value\":\"2015\"},\"renderers\":[{\"id\":\"1028\",\"type\":\"GlyphRenderer\"}]},\"id\":\"1036\",\"type\":\"LegendItem\"},{\"attributes\":{},\"id\":\"1010\",\"type\":\"CategoricalScale\"},{\"attributes\":{\"range\":{\"id\":\"1006\",\"type\":\"FactorRange\"},\"value\":0.25},\"id\":\"1051\",\"type\":\"Dodge\"},{\"attributes\":{\"range\":{\"id\":\"1006\",\"type\":\"FactorRange\"}},\"id\":\"1037\",\"type\":\"Dodge\"},{\"attributes\":{},\"id\":\"1012\",\"type\":\"LinearScale\"},{\"attributes\":{\"formatter\":{\"id\":\"1032\",\"type\":\"CategoricalTickFormatter\"},\"ticker\":{\"id\":\"1015\",\"type\":\"CategoricalTicker\"}},\"id\":\"1014\",\"type\":\"CategoricalAxis\"},{\"attributes\":{\"fill_color\":{\"value\":\"#718dbf\"},\"line_color\":{\"value\":\"#718dbf\"},\"top\":{\"field\":\"2016\"},\"width\":{\"value\":0.2},\"x\":{\"field\":\"fruits\",\"transform\":{\"id\":\"1037\",\"type\":\"Dodge\"}}},\"id\":\"1039\",\"type\":\"VBar\"},{\"attributes\":{},\"id\":\"1015\",\"type\":\"CategoricalTicker\"},{\"attributes\":{\"fill_alpha\":{\"value\":0.1},\"fill_color\":{\"value\":\"#1f77b4\"},\"line_alpha\":{\"value\":0.1},\"line_color\":{\"value\":\"#1f77b4\"},\"top\":{\"field\":\"2016\"},\"width\":{\"value\":0.2},\"x\":{\"field\":\"fruits\",\"transform\":{\"id\":\"1037\",\"type\":\"Dodge\"}}},\"id\":\"1040\",\"type\":\"VBar\"},{\"attributes\":{\"grid_line_color\":null,\"ticker\":{\"id\":\"1015\",\"type\":\"CategoricalTicker\"}},\"id\":\"1017\",\"type\":\"Grid\"},{\"attributes\":{\"data_source\":{\"id\":\"1002\",\"type\":\"ColumnDataSource\"},\"glyph\":{\"id\":\"1039\",\"type\":\"VBar\"},\"hover_glyph\":null,\"muted_glyph\":null,\"nonselection_glyph\":{\"id\":\"1040\",\"type\":\"VBar\"},\"selection_glyph\":null,\"view\":{\"id\":\"1042\",\"type\":\"CDSView\"}},\"id\":\"1041\",\"type\":\"GlyphRenderer\"},{\"attributes\":{\"range\":{\"id\":\"1006\",\"type\":\"FactorRange\"},\"value\":-0.25},\"id\":\"1024\",\"type\":\"Dodge\"},{\"attributes\":{\"formatter\":{\"id\":\"1034\",\"type\":\"BasicTickFormatter\"},\"ticker\":{\"id\":\"1019\",\"type\":\"BasicTicker\"}},\"id\":\"1018\",\"type\":\"LinearAxis\"},{\"attributes\":{\"source\":{\"id\":\"1002\",\"type\":\"ColumnDataSource\"}},\"id\":\"1042\",\"type\":\"CDSView\"},{\"attributes\":{},\"id\":\"1019\",\"type\":\"BasicTicker\"},{\"attributes\":{},\"id\":\"1048\",\"type\":\"UnionRenderers\"},{\"attributes\":{\"dimension\":1,\"ticker\":{\"id\":\"1019\",\"type\":\"BasicTicker\"}},\"id\":\"1022\",\"type\":\"Grid\"},{\"attributes\":{},\"id\":\"1049\",\"type\":\"Selection\"},{\"attributes\":{},\"id\":\"1032\",\"type\":\"CategoricalTickFormatter\"},{\"attributes\":{\"label\":{\"value\":\"2016\"},\"renderers\":[{\"id\":\"1041\",\"type\":\"GlyphRenderer\"}]},\"id\":\"1050\",\"type\":\"LegendItem\"},{\"attributes\":{\"active_drag\":\"auto\",\"active_inspect\":\"auto\",\"active_multi\":null,\"active_scroll\":\"auto\",\"active_tap\":\"auto\"},\"id\":\"1023\",\"type\":\"Toolbar\"},{\"attributes\":{\"fill_color\":{\"value\":\"#e84d60\"},\"line_color\":{\"value\":\"#e84d60\"},\"top\":{\"field\":\"2017\"},\"width\":{\"value\":0.2},\"x\":{\"field\":\"fruits\",\"transform\":{\"id\":\"1051\",\"type\":\"Dodge\"}}},\"id\":\"1053\",\"type\":\"VBar\"},{\"attributes\":{\"callback\":null,\"data\":{\"2015\":[2,1,4,3,2,4],\"2016\":[5,3,3,2,4,6],\"2017\":[3,2,4,4,5,3],\"fruits\":[\"Apples\",\"Pears\",\"Nectarines\",\"Plums\",\"Grapes\",\"Strawberries\"]},\"selected\":{\"id\":\"1049\",\"type\":\"Selection\"},\"selection_policy\":{\"id\":\"1048\",\"type\":\"UnionRenderers\"}},\"id\":\"1002\",\"type\":\"ColumnDataSource\"},{\"attributes\":{\"fill_alpha\":{\"value\":0.1},\"fill_color\":{\"value\":\"#1f77b4\"},\"line_alpha\":{\"value\":0.1},\"line_color\":{\"value\":\"#1f77b4\"},\"top\":{\"field\":\"2017\"},\"width\":{\"value\":0.2},\"x\":{\"field\":\"fruits\",\"transform\":{\"id\":\"1051\",\"type\":\"Dodge\"}}},\"id\":\"1054\",\"type\":\"VBar\"},{\"attributes\":{\"fill_color\":{\"value\":\"#c9d9d3\"},\"line_color\":{\"value\":\"#c9d9d3\"},\"top\":{\"field\":\"2015\"},\"width\":{\"value\":0.2},\"x\":{\"field\":\"fruits\",\"transform\":{\"id\":\"1024\",\"type\":\"Dodge\"}}},\"id\":\"1026\",\"type\":\"VBar\"},{\"attributes\":{\"data_source\":{\"id\":\"1002\",\"type\":\"ColumnDataSource\"},\"glyph\":{\"id\":\"1053\",\"type\":\"VBar\"},\"hover_glyph\":null,\"muted_glyph\":null,\"nonselection_glyph\":{\"id\":\"1054\",\"type\":\"VBar\"},\"selection_glyph\":null,\"view\":{\"id\":\"1056\",\"type\":\"CDSView\"}},\"id\":\"1055\",\"type\":\"GlyphRenderer\"},{\"attributes\":{\"fill_alpha\":{\"value\":0.1},\"fill_color\":{\"value\":\"#1f77b4\"},\"line_alpha\":{\"value\":0.1},\"line_color\":{\"value\":\"#1f77b4\"},\"top\":{\"field\":\"2015\"},\"width\":{\"value\":0.2},\"x\":{\"field\":\"fruits\",\"transform\":{\"id\":\"1024\",\"type\":\"Dodge\"}}},\"id\":\"1027\",\"type\":\"VBar\"},{\"attributes\":{\"source\":{\"id\":\"1002\",\"type\":\"ColumnDataSource\"}},\"id\":\"1056\",\"type\":\"CDSView\"},{\"attributes\":{\"data_source\":{\"id\":\"1002\",\"type\":\"ColumnDataSource\"},\"glyph\":{\"id\":\"1026\",\"type\":\"VBar\"},\"hover_glyph\":null,\"muted_glyph\":null,\"nonselection_glyph\":{\"id\":\"1027\",\"type\":\"VBar\"},\"selection_glyph\":null,\"view\":{\"id\":\"1029\",\"type\":\"CDSView\"}},\"id\":\"1028\",\"type\":\"GlyphRenderer\"},{\"attributes\":{\"label\":{\"value\":\"2017\"},\"renderers\":[{\"id\":\"1055\",\"type\":\"GlyphRenderer\"}]},\"id\":\"1064\",\"type\":\"LegendItem\"},{\"attributes\":{\"source\":{\"id\":\"1002\",\"type\":\"ColumnDataSource\"}},\"id\":\"1029\",\"type\":\"CDSView\"}],\"root_ids\":[\"1003\"]},\"title\":\"Bokeh Application\",\"version\":\"1.2.0\"}};\n",
       "  var render_items = [{\"docid\":\"9ed0bfdb-471e-408a-baef-3d866afef23c\",\"roots\":{\"1003\":\"8639ae81-8f30-4a16-bdc2-ef722b37d57d\"}}];\n",
       "  root.Bokeh.embed.embed_items_notebook(docs_json, render_items);\n",
       "\n",
       "  }\n",
       "  if (root.Bokeh !== undefined) {\n",
       "    embed_document(root);\n",
       "  } else {\n",
       "    var attempts = 0;\n",
       "    var timer = setInterval(function(root) {\n",
       "      if (root.Bokeh !== undefined) {\n",
       "        embed_document(root);\n",
       "        clearInterval(timer);\n",
       "      }\n",
       "      attempts++;\n",
       "      if (attempts > 100) {\n",
       "        console.log(\"Bokeh: ERROR: Unable to run BokehJS code because BokehJS library is missing\");\n",
       "        clearInterval(timer);\n",
       "      }\n",
       "    }, 10, root)\n",
       "  }\n",
       "})(window);"
      ],
      "application/vnd.bokehjs_exec.v0+json": ""
     },
     "metadata": {
      "application/vnd.bokehjs_exec.v0+json": {
       "id": "1003"
      }
     },
     "output_type": "display_data"
    }
   ],
   "source": [
    "from bokeh.core.properties import value\n",
    "from bokeh.io import show, output_file, output_notebook\n",
    "from bokeh.models import ColumnDataSource\n",
    "from bokeh.plotting import figure\n",
    "from bokeh.transform import dodge\n",
    "\n",
    "output_notebook()\n",
    "\n",
    "# output_file(\"bar_dodged.html\")\n",
    "\n",
    "fruits = ['Apples', 'Pears', 'Nectarines', 'Plums', 'Grapes', 'Strawberries']\n",
    "years = ['2015', '2016', '2017']\n",
    "\n",
    "data = {'fruits' : fruits,\n",
    "        '2015'   : [2, 1, 4, 3, 2, 4],\n",
    "        '2016'   : [5, 3, 3, 2, 4, 6],\n",
    "        '2017'   : [3, 2, 4, 4, 5, 3]}\n",
    "\n",
    "source = ColumnDataSource(data=data)\n",
    "\n",
    "p = figure(x_range=fruits, y_range=(0, 10), plot_height=350, title=\"Fruit Counts by Year\",\n",
    "           toolbar_location=None, tools=\"\")\n",
    "\n",
    "p.vbar(x=dodge('fruits', -0.25, range=p.x_range), top='2015', width=0.2, source=source,\n",
    "       color=\"#c9d9d3\", legend=value(\"2015\"))\n",
    "\n",
    "p.vbar(x=dodge('fruits',  0.0,  range=p.x_range), top='2016', width=0.2, source=source,\n",
    "       color=\"#718dbf\", legend=value(\"2016\"))\n",
    "\n",
    "p.vbar(x=dodge('fruits',  0.25, range=p.x_range), top='2017', width=0.2, source=source,\n",
    "       color=\"#e84d60\", legend=value(\"2017\"))\n",
    "`\n",
    "p.x_range.range_padding = 0.1\n",
    "p.xgrid.grid_line_color = None\n",
    "p.legend.location = \"top_left\"\n",
    "p.legend.orientation = \"horizontal\"\n",
    "\n",
    "show(p)"
   ]
  },
  {
   "cell_type": "code",
   "execution_count": null,
   "metadata": {},
   "outputs": [],
   "source": []
  },
  {
   "cell_type": "code",
   "execution_count": null,
   "metadata": {},
   "outputs": [],
   "source": []
  }
 ],
 "metadata": {
  "kernelspec": {
   "display_name": "Python 3",
   "language": "python",
   "name": "python3"
  },
  "language_info": {
   "codemirror_mode": {
    "name": "ipython",
    "version": 3
   },
   "file_extension": ".py",
   "mimetype": "text/x-python",
   "name": "python",
   "nbconvert_exporter": "python",
   "pygments_lexer": "ipython3",
   "version": "3.7.3"
  }
 },
 "nbformat": 4,
 "nbformat_minor": 4
}
