version https://git-lfs.github.com/spec/v1
oid sha256:946351e87cbae765fe3769b731c24e0b95ec7afd19631001b9cad7f26dcb1dd3
size 307712
