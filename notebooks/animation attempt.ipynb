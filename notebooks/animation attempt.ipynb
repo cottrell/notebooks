version https://git-lfs.github.com/spec/v1
oid sha256:f1d67cf83f54754215ce55a9bc6bbc3283201f2da5cf96fb52aa0d20d1c05f34
size 13497
