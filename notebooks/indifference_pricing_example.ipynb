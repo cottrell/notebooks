version https://git-lfs.github.com/spec/v1
oid sha256:b9472ce4a0414f88394a2d460499c1229c7532152a265f9ff12bcc6599a6392c
size 24292
