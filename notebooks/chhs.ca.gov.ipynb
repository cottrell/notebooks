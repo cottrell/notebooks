version https://git-lfs.github.com/spec/v1
oid sha256:6c5d68c113a9486045feaf49007dd36a76abf43efb8cdb2e6cc3c26e76e91392
size 348496
