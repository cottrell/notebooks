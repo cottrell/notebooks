version https://git-lfs.github.com/spec/v1
oid sha256:fcd5548131ce3d7ca15cf6e2852430ac7857882f70ffeb65464416f08e50cb62
size 63696
