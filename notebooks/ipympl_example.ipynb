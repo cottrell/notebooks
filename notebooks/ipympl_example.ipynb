version https://git-lfs.github.com/spec/v1
oid sha256:7b7ef87f983eb50a18a98c0cd375bbe07c7fc179810e18b5786bfd4d34f68864
size 2997
