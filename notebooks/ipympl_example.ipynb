version https://git-lfs.github.com/spec/v1
oid sha256:28b7857da85b541636af3f657fe09017dc5ec9d3bba3bdfdfb7ab6c0089558ee
size 2997
