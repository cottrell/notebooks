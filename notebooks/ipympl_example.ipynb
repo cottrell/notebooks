version https://git-lfs.github.com/spec/v1
oid sha256:a35ed1a9f119cbe1272be43dcbdf4d38cd432bf3433d21bd6a0ead1e2f597d26
size 2997
