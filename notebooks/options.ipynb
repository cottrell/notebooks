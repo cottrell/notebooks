version https://git-lfs.github.com/spec/v1
oid sha256:c250ed6e1ecf676ea04d140dbbc30d1ce756cbb4ce9644bb9c6ea5b643c75723
size 625
