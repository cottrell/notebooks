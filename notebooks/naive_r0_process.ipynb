version https://git-lfs.github.com/spec/v1
oid sha256:ee68980f2dd2f2e1107c730dc4ead189704799200fd206730ee44b0ce6246f52
size 810
