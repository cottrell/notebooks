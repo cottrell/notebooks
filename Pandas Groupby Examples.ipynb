{
 "metadata": {
  "name": "",
  "signature": "sha256:d8fe8ee8f2f43d3898b3934a45f9cbb6766860b77e1faf5db20063d3cc69d101"
 },
 "nbformat": 3,
 "nbformat_minor": 0,
 "worksheets": [
  {
   "cells": [
    {
     "cell_type": "markdown",
     "metadata": {},
     "source": [
      "# Pandas groupby on MultiIndex is slower than on Index\n",
      "\n",
      "## Some basic tests"
     ]
    },
    {
     "cell_type": "code",
     "collapsed": false,
     "input": [
      "%%time\n",
      "import pandas\n",
      "from numpy.random import randn\n",
      "import string\n",
      "nrows = 1000000\n",
      "n = 2\n",
      "nlevels = 20\n",
      "\n",
      "labels = randint(0, n, nrows * nlevels).reshape((nrows, nlevels)).T\n",
      "str_labels = pandas.MultiIndex.from_arrays(labels.astype(str))\n",
      "labels = pandas.MultiIndex.from_arrays(labels)\n",
      "\n",
      "str_labels_joined = labels.to_series().apply(lambda x: ''.join(map(str, x))).values\n",
      "\n",
      "i_to_labels = dict(enumerate(labels.unique()))\n",
      "labels_to_i = {v: k for k, v in i_to_labels.items()}\n",
      "\n",
      "i = labels.to_series().apply(lambda x: labels_to_i[x]).values\n",
      "\n",
      "ii = pandas.Index(i)\n",
      "\n",
      "df = pandas.DataFrame(randn(nrows))\n",
      "print(df.shape, len(i_to_labels))"
     ],
     "language": "python",
     "metadata": {},
     "outputs": [
      {
       "output_type": "stream",
       "stream": "stdout",
       "text": [
        "(1000000, 1) 645070\n",
        "CPU times: user 24.4 s, sys: 1.59 s, total: 26 s\n",
        "Wall time: 26.3 s\n"
       ]
      }
     ],
     "prompt_number": 43
    },
    {
     "cell_type": "code",
     "collapsed": false,
     "input": [
      "%timeit df.groupby(labels).mean()"
     ],
     "language": "python",
     "metadata": {},
     "outputs": [
      {
       "output_type": "stream",
       "stream": "stdout",
       "text": [
        "1 loops, best of 3: 4.73 s per loop\n"
       ]
      }
     ],
     "prompt_number": 44
    },
    {
     "cell_type": "code",
     "collapsed": false,
     "input": [
      "%timeit df.groupby(str_labels).mean()"
     ],
     "language": "python",
     "metadata": {},
     "outputs": [
      {
       "output_type": "stream",
       "stream": "stdout",
       "text": [
        "1 loops, best of 3: 4.94 s per loop\n"
       ]
      }
     ],
     "prompt_number": 45
    },
    {
     "cell_type": "code",
     "collapsed": false,
     "input": [
      "%timeit df.groupby(str_labels_joined).mean()"
     ],
     "language": "python",
     "metadata": {},
     "outputs": [
      {
       "output_type": "stream",
       "stream": "stdout",
       "text": [
        "1 loops, best of 3: 2.58 s per loop\n"
       ]
      }
     ],
     "prompt_number": 46
    },
    {
     "cell_type": "code",
     "collapsed": false,
     "input": [
      "%timeit df.groupby(i).mean()"
     ],
     "language": "python",
     "metadata": {},
     "outputs": [
      {
       "output_type": "stream",
       "stream": "stdout",
       "text": [
        "10 loops, best of 3: 160 ms per loop\n"
       ]
      }
     ],
     "prompt_number": 47
    },
    {
     "cell_type": "code",
     "collapsed": false,
     "input": [
      "%timeit df.groupby(ii).mean()"
     ],
     "language": "python",
     "metadata": {},
     "outputs": [
      {
       "output_type": "stream",
       "stream": "stdout",
       "text": [
        "10 loops, best of 3: 161 ms per loop\n"
       ]
      }
     ],
     "prompt_number": 48
    }
   ],
   "metadata": {}
  }
 ]
}