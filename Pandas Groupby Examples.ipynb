{
 "metadata": {
  "name": "",
  "signature": "sha256:70e8fa68ad7ae58ea8ccf6b4dfde796b04ef84f52c985ffe88d6f5934c7fd738"
 },
 "nbformat": 3,
 "nbformat_minor": 0,
 "worksheets": [
  {
   "cells": [
    {
     "cell_type": "markdown",
     "metadata": {},
     "source": [
      "# Pandas groupby on MultiIndex is slower than on Index\n",
      "\n",
      "## Some basic tests"
     ]
    },
    {
     "cell_type": "code",
     "collapsed": false,
     "input": [
      "%%time\n",
      "import pandas\n",
      "from numpy.random import randn\n",
      "import string\n",
      "nrows = 1000000\n",
      "n = 2\n",
      "nlevels = 20\n",
      "\n",
      "df = pandas.DataFrame(randn(nrows))"
     ],
     "language": "python",
     "metadata": {},
     "outputs": [
      {
       "output_type": "stream",
       "stream": "stdout",
       "text": [
        "CPU times: user 56 ms, sys: 9.55 ms, total: 65.6 ms\n",
        "Wall time: 65 ms\n"
       ]
      }
     ],
     "prompt_number": 47
    },
    {
     "cell_type": "code",
     "collapsed": false,
     "input": [
      "labels = randint(0, n, nrows * nlevels).reshape((nrows, nlevels)).T\n",
      "# str_labels = pandas.MultiIndex.from_arrays(labels.astype(str))\n",
      "labels = pandas.MultiIndex.from_arrays(labels)\n",
      "\n",
      "# str_labels_joined = labels.to_series().apply(lambda x: ''.join(map(str, x))).values\n",
      "\n",
      "# i_to_labels = dict(enumerate(labels.unique()))\n",
      "# labels_to_i = {v: k for k, v in i_to_labels.items()}\n",
      "\n",
      "# i = labels.to_series().apply(lambda x: labels_to_i[x]).values\n",
      "\n",
      "# # ii = pandas.Index(i)\n",
      "\n",
      "# print(df.shape, len(i_to_labels))"
     ],
     "language": "python",
     "metadata": {},
     "outputs": [],
     "prompt_number": 48
    },
    {
     "cell_type": "code",
     "collapsed": false,
     "input": [
      "df.head()"
     ],
     "language": "python",
     "metadata": {},
     "outputs": [
      {
       "html": [
        "<div style=\"max-height:1000px;max-width:1500px;overflow:auto;\">\n",
        "<table border=\"1\" class=\"dataframe\">\n",
        "  <thead>\n",
        "    <tr style=\"text-align: right;\">\n",
        "      <th></th>\n",
        "      <th>0</th>\n",
        "    </tr>\n",
        "  </thead>\n",
        "  <tbody>\n",
        "    <tr>\n",
        "      <th>0</th>\n",
        "      <td>-0.384040</td>\n",
        "    </tr>\n",
        "    <tr>\n",
        "      <th>1</th>\n",
        "      <td> 1.633800</td>\n",
        "    </tr>\n",
        "    <tr>\n",
        "      <th>2</th>\n",
        "      <td> 1.028140</td>\n",
        "    </tr>\n",
        "    <tr>\n",
        "      <th>3</th>\n",
        "      <td>-0.652235</td>\n",
        "    </tr>\n",
        "    <tr>\n",
        "      <th>4</th>\n",
        "      <td> 0.125893</td>\n",
        "    </tr>\n",
        "  </tbody>\n",
        "</table>\n",
        "</div>"
       ],
       "metadata": {},
       "output_type": "pyout",
       "prompt_number": 49,
       "text": [
        "          0\n",
        "0 -0.384040\n",
        "1  1.633800\n",
        "2  1.028140\n",
        "3 -0.652235\n",
        "4  0.125893"
       ]
      }
     ],
     "prompt_number": 49
    },
    {
     "cell_type": "code",
     "collapsed": false,
     "input": [
      "%%time\n",
      "# d = {x: hash(x) for x in labels._tuple_index}\n",
      "ih = [hash(x) for x in labels._tuple_index]\n",
      "df.groupby(ih).mean()"
     ],
     "language": "python",
     "metadata": {},
     "outputs": [
      {
       "output_type": "stream",
       "stream": "stdout",
       "text": [
        "CPU times: user 6.21 s, sys: 348 ms, total: 6.56 s\n",
        "Wall time: 6.55 s\n"
       ]
      }
     ],
     "prompt_number": 50
    },
    {
     "cell_type": "code",
     "collapsed": false,
     "input": [
      "%timeit g = df.groupby(labels._tuple_index).mean()"
     ],
     "language": "python",
     "metadata": {},
     "outputs": [
      {
       "output_type": "stream",
       "stream": "stdout",
       "text": [
        "1 loops, best of 3: 4.44 s per loop\n"
       ]
      }
     ],
     "prompt_number": 51
    },
    {
     "cell_type": "code",
     "collapsed": false,
     "input": [
      "%timeit df.groupby(str_labels).mean()"
     ],
     "language": "python",
     "metadata": {},
     "outputs": [
      {
       "output_type": "stream",
       "stream": "stdout",
       "text": [
        "1 loops, best of 3: 4.94 s per loop\n"
       ]
      }
     ],
     "prompt_number": 45
    },
    {
     "cell_type": "code",
     "collapsed": false,
     "input": [
      "%timeit df.groupby(str_labels_joined).mean()"
     ],
     "language": "python",
     "metadata": {},
     "outputs": [
      {
       "output_type": "stream",
       "stream": "stdout",
       "text": [
        "1 loops, best of 3: 2.58 s per loop\n"
       ]
      }
     ],
     "prompt_number": 46
    },
    {
     "cell_type": "code",
     "collapsed": false,
     "input": [
      "%timeit df.groupby(i).mean()"
     ],
     "language": "python",
     "metadata": {},
     "outputs": [
      {
       "output_type": "stream",
       "stream": "stdout",
       "text": [
        "10 loops, best of 3: 160 ms per loop\n"
       ]
      }
     ],
     "prompt_number": 47
    },
    {
     "cell_type": "code",
     "collapsed": false,
     "input": [
      "%timeit df.groupby(ii).mean()"
     ],
     "language": "python",
     "metadata": {},
     "outputs": [
      {
       "output_type": "stream",
       "stream": "stdout",
       "text": [
        "10 loops, best of 3: 161 ms per loop\n"
       ]
      }
     ],
     "prompt_number": 48
    }
   ],
   "metadata": {}
  }
 ]
}