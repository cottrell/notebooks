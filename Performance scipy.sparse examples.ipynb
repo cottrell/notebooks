{
 "metadata": {
  "name": "",
  "signature": "sha256:86292e1e11b99951e0ffbbd292eba04ea3f7ebcd136f51681493e383b93cb034"
 },
 "nbformat": 3,
 "nbformat_minor": 0,
 "worksheets": [
  {
   "cells": [
    {
     "cell_type": "markdown",
     "metadata": {},
     "source": [
      "# Timing examples for scipy.sparse.to_coo\n",
      "\n",
      "Performance is ok for moderate series. Improvements might be related to performance enhancements in MultiIndex groupby."
     ]
    },
    {
     "cell_type": "code",
     "collapsed": false,
     "input": [
      "import scipy.sparse\n",
      "import pandas\n",
      "import itertools\n",
      "import string\n",
      "import random\n",
      "import timeit\n",
      "import numpy\n",
      "import collections\n",
      "pandas.__version__"
     ],
     "language": "python",
     "metadata": {},
     "outputs": [
      {
       "metadata": {},
       "output_type": "pyout",
       "prompt_number": 3,
       "text": [
        "'0.15.2-47-gb047a6b'"
       ]
      }
     ],
     "prompt_number": 3
    },
    {
     "cell_type": "code",
     "collapsed": false,
     "input": [
      "def expand_grid(data_dict):\n",
      "    rows = itertools.product(*data_dict.values())\n",
      "    return pandas.DataFrame.from_records(rows, columns=data_dict.keys())\n",
      "\n",
      "chars=list(string.ascii_uppercase + string.digits)\n",
      "def randstring(size=3, chars=chars):\n",
      "    return ''.join(random.choice(chars) for _ in range(size))\n",
      "\n",
      "n_levels = 4\n",
      "# unique values per level\n",
      "n_per_level = 20\n",
      "\n",
      "def make_example(n_levels=4, n_per_level=20):\n",
      "    # just to avoid blowing up memory\n",
      "    assert((n_per_level ** n_levels) < 1e7)\n",
      "\n",
      "    d = collections.OrderedDict()\n",
      "    for k in string.ascii_lowercase[:n_levels]:\n",
      "        d[k] = set()\n",
      "        while len(d[k]) < n_per_level:\n",
      "            x = randstring()\n",
      "            if x not in d[k]:\n",
      "                d[k].add(x)\n",
      "        d[k] = list(d[k])\n",
      "        \n",
      "    df = expand_grid(d)\n",
      "    sparsity = 100.0 / df.shape[0]\n",
      "    df['value'] = scipy.sparse.rand(df.shape[0], 1, sparsity).todense()\n",
      "    s = df.set_index(list(df.columns[:-1]))['value']\n",
      "    s[s==0] = numpy.nan\n",
      "\n",
      "    ss = s.to_sparse()\n",
      "\n",
      "    names = list(ss.index.names)\n",
      "    k = int(n_levels / 2)\n",
      "    ilevels = tuple(names[:k])\n",
      "    jlevels = tuple(names[k:])\n",
      "    return(df, ss, ilevels, jlevels)"
     ],
     "language": "python",
     "metadata": {},
     "outputs": [],
     "prompt_number": 72
    },
    {
     "cell_type": "markdown",
     "metadata": {},
     "source": [
      "## example 1"
     ]
    },
    {
     "cell_type": "code",
     "collapsed": false,
     "input": [
      "%%time\n",
      "df, ss, ilevels, jlevels = make_example(n_levels=5, n_per_level=20)\n",
      "chars=list(string.ascii_uppercase + string.digits)\n",
      "print(df.shape, ss.density, ss.shape, ilevels, jlevels)\n",
      "ss.to_dense().head()"
     ],
     "language": "python",
     "metadata": {},
     "outputs": [
      {
       "output_type": "stream",
       "stream": "stdout",
       "text": [
        "(3200000, 6) 3.125e-05 (100,) ('a', 'b') ('c', 'd', 'e')\n",
        "CPU times: user 2.77 s, sys: 770 ms, total: 3.54 s\n",
        "Wall time: 3.54 s\n"
       ]
      }
     ],
     "prompt_number": 66
    },
    {
     "cell_type": "code",
     "collapsed": false,
     "input": [
      "%%time \n",
      "A, il, jl = ss.to_coo(ilevels=ilevels, jlevels=jlevels)"
     ],
     "language": "python",
     "metadata": {},
     "outputs": [
      {
       "output_type": "stream",
       "stream": "stdout",
       "text": [
        "CPU times: user 6.19 s, sys: 809 ms, total: 7 s\n",
        "Wall time: 7.01 s\n"
       ]
      }
     ],
     "prompt_number": 27
    },
    {
     "cell_type": "code",
     "collapsed": false,
     "input": [
      "%pylab inline\n",
      "print(A.shape)\n",
      "figure(figsize=(12, 8))\n",
      "p = spy(A)"
     ],
     "language": "python",
     "metadata": {},
     "outputs": [
      {
       "output_type": "stream",
       "stream": "stdout",
       "text": [
        "Populating the interactive namespace from numpy and matplotlib\n",
        "(100, 1000)\n"
       ]
      },
      {
       "metadata": {},
       "output_type": "display_data",
       "png": "[encoded data removed]",
       "text": [
        "<matplotlib.figure.Figure at 0x10c30ed68>"
       ]
      }
     ],
     "prompt_number": 33
    },
    {
     "cell_type": "markdown",
     "metadata": {},
     "source": [
      "## example 2"
     ]
    },
    {
     "cell_type": "code",
     "collapsed": false,
     "input": [
      "df, ss, ilevels, jlevels = make_example(n_levels=2, n_per_level=1780)\n",
      "chars=list(string.ascii_uppercase + string.digits)\n",
      "print(df.shape, ss.density, ss.shape, ilevels, jlevels)\n",
      "ss.to_dense().head()"
     ],
     "language": "python",
     "metadata": {},
     "outputs": [
      {
       "output_type": "stream",
       "stream": "stdout",
       "text": [
        "(3168400, 3) 3.156167150612296e-05 (100,) ('a',) ('b',)\n"
       ]
      },
      {
       "metadata": {},
       "output_type": "pyout",
       "prompt_number": 67,
       "text": [
        "a    b  \n",
        "M37  JSQ   NaN\n",
        "     F8N   NaN\n",
        "     A7F   NaN\n",
        "     8YQ   NaN\n",
        "     QGQ   NaN\n",
        "Name: value, dtype: float64"
       ]
      }
     ],
     "prompt_number": 67
    },
    {
     "cell_type": "code",
     "collapsed": false,
     "input": [
      "%%time \n",
      "A, il, jl = ss.to_coo(ilevels=ilevels, jlevels=jlevels)"
     ],
     "language": "python",
     "metadata": {},
     "outputs": [
      {
       "output_type": "stream",
       "stream": "stdout",
       "text": [
        "CPU times: user 4.47 s, sys: 217 ms, total: 4.69 s\n",
        "Wall time: 4.7 s\n"
       ]
      }
     ],
     "prompt_number": 70
    },
    {
     "cell_type": "code",
     "collapsed": false,
     "input": [
      "%pylab inline\n",
      "print(A.shape)\n",
      "figure(figsize=(12, 8))\n",
      "p = spy(A)"
     ],
     "language": "python",
     "metadata": {},
     "outputs": [
      {
       "output_type": "stream",
       "stream": "stdout",
       "text": [
        "Populating the interactive namespace from numpy and matplotlib\n",
        "(1780, 1780)\n"
       ]
      },
      {
       "metadata": {},
       "output_type": "display_data",
       "png": "[encoded data removed]",
       "text": [
        "<matplotlib.figure.Figure at 0x10b2fc860>"
       ]
      }
     ],
     "prompt_number": 71
    },
    {
     "cell_type": "code",
     "collapsed": false,
     "input": [],
     "language": "python",
     "metadata": {},
     "outputs": []
    }
   ],
   "metadata": {}
  }
 ]
}