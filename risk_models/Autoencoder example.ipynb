version https://git-lfs.github.com/spec/v1
oid sha256:803b82e81fee85d03eb3ab99aec44febe6965de745a0b17857d95dbf46aefd3c
size 249573
