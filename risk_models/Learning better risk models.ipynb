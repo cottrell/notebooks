version https://git-lfs.github.com/spec/v1
oid sha256:aecd5e0f02fb2ee96cdb7091fd79b33b07db3b3ff36e490b664afd1f512578bf
size 394846
