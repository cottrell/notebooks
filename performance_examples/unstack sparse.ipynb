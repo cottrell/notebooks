{
 "cells": [
  {
   "cell_type": "code",
   "execution_count": 17,
   "metadata": {
    "collapsed": false
   },
   "outputs": [
    {
     "data": {
      "text/plain": [
       "'0.17.1'"
      ]
     },
     "execution_count": 17,
     "metadata": {},
     "output_type": "execute_result"
    }
   ],
   "source": [
    "import scipy.sparse\n",
    "import pandas\n",
    "import itertools\n",
    "import string\n",
    "import random\n",
    "import timeit\n",
    "import numpy\n",
    "import collections\n",
    "pandas.__version__"
   ]
  },
  {
   "cell_type": "code",
   "execution_count": 253,
   "metadata": {
    "collapsed": false
   },
   "outputs": [],
   "source": [
    "m = 100\n",
    "n = 50\n",
    "A = scipy.sparse.rand(m, n, density=0.1, dtype=np.float32)\n",
    "\n",
    "def getlab(m):\n",
    "    i = range(int(ceil(sqrt(m))))\n",
    "    ilab = permutation(list(itertools.product(i, i)))[:m]\n",
    "    return ilab\n",
    "\n",
    "ilab = getlab(m)\n",
    "jlab = getlab(n)\n",
    "\n",
    "df = pd.DataFrame(A.todense())\n",
    "df.index = pd.MultiIndex.from_arrays(ilab.T)\n",
    "df.columns = pd.MultiIndex.from_arrays(jlab.T)\n",
    "s = df.stack([0, 1])\n",
    "ilevels = [0, 1]\n",
    "jlevels = [2, 3]"
   ]
  },
  {
   "cell_type": "code",
   "execution_count": 263,
   "metadata": {
    "collapsed": false
   },
   "outputs": [
    {
     "data": {
      "text/html": [
       "<div>\n",
       "<table border=\"1\" class=\"dataframe\">\n",
       "  <thead>\n",
       "    <tr>\n",
       "      <th></th>\n",
       "      <th></th>\n",
       "      <th colspan=\"5\" halign=\"left\">0</th>\n",
       "    </tr>\n",
       "    <tr>\n",
       "      <th></th>\n",
       "      <th></th>\n",
       "      <th>0</th>\n",
       "      <th>1</th>\n",
       "      <th>2</th>\n",
       "      <th>3</th>\n",
       "      <th>4</th>\n",
       "    </tr>\n",
       "  </thead>\n",
       "  <tbody>\n",
       "    <tr>\n",
       "      <th rowspan=\"5\" valign=\"top\">0</th>\n",
       "      <th>0</th>\n",
       "      <td>0</td>\n",
       "      <td>0</td>\n",
       "      <td>0</td>\n",
       "      <td>0</td>\n",
       "      <td>0.000000</td>\n",
       "    </tr>\n",
       "    <tr>\n",
       "      <th>1</th>\n",
       "      <td>0</td>\n",
       "      <td>0</td>\n",
       "      <td>0</td>\n",
       "      <td>0</td>\n",
       "      <td>0.000000</td>\n",
       "    </tr>\n",
       "    <tr>\n",
       "      <th>2</th>\n",
       "      <td>0</td>\n",
       "      <td>0</td>\n",
       "      <td>0</td>\n",
       "      <td>0</td>\n",
       "      <td>0.000000</td>\n",
       "    </tr>\n",
       "    <tr>\n",
       "      <th>3</th>\n",
       "      <td>0</td>\n",
       "      <td>0</td>\n",
       "      <td>0</td>\n",
       "      <td>0</td>\n",
       "      <td>0.252879</td>\n",
       "    </tr>\n",
       "    <tr>\n",
       "      <th>4</th>\n",
       "      <td>0</td>\n",
       "      <td>0</td>\n",
       "      <td>0</td>\n",
       "      <td>0</td>\n",
       "      <td>0.000000</td>\n",
       "    </tr>\n",
       "  </tbody>\n",
       "</table>\n",
       "</div>"
      ],
      "text/plain": [
       "     0                   \n",
       "     0  1  2  3         4\n",
       "0 0  0  0  0  0  0.000000\n",
       "  1  0  0  0  0  0.000000\n",
       "  2  0  0  0  0  0.000000\n",
       "  3  0  0  0  0  0.252879\n",
       "  4  0  0  0  0  0.000000"
      ]
     },
     "execution_count": 263,
     "metadata": {},
     "output_type": "execute_result"
    }
   ],
   "source": [
    "df = df.sort_index().sort_index(axis=1)\n",
    "df.head().T.head().T"
   ]
  },
  {
   "cell_type": "code",
   "execution_count": 264,
   "metadata": {
    "collapsed": false
   },
   "outputs": [
    {
     "data": {
      "text/plain": [
       "5  7  0  0    0\n",
       "         1    0\n",
       "         2    0\n",
       "         3    0\n",
       "         4    0\n",
       "dtype: float64"
      ]
     },
     "execution_count": 264,
     "metadata": {},
     "output_type": "execute_result"
    }
   ],
   "source": [
    "s.head()"
   ]
  },
  {
   "cell_type": "code",
   "execution_count": 272,
   "metadata": {
    "collapsed": false
   },
   "outputs": [
    {
     "name": "stdout",
     "output_type": "stream",
     "text": [
      "CPU times: user 15.4 ms, sys: 182 µs, total: 15.6 ms\n",
      "Wall time: 15.6 ms\n"
     ]
    }
   ],
   "source": [
    "%%time\n",
    "def get_sub_ind(ind, levels):\n",
    "    ind = list(zip(*[s.index.labels[s.index._get_level_number(k)] for k in ilevels]))\n",
    "    indmap = dict(((k, i) for i, k in enumerate(set(ind))))\n",
    "    invmap = dict((i, k) for k, i in indmap.items())\n",
    "    ind = [indmap[k] for k in ind]\n",
    "    return ind, indmap, invmap\n",
    "\n",
    "indi, indimap, invimap = get_sub_ind(s.index, ilevels)\n",
    "indj, indjmap, invjmap = get_sub_ind(s.index, jlevels)"
   ]
  },
  {
   "cell_type": "code",
   "execution_count": 280,
   "metadata": {
    "collapsed": false
   },
   "outputs": [
    {
     "name": "stdout",
     "output_type": "stream",
     "text": [
      "CPU times: user 16.3 ms, sys: 1.56 ms, total: 17.9 ms\n",
      "Wall time: 16.8 ms\n"
     ]
    }
   ],
   "source": [
    "%%time\n",
    "# requires named levels\n",
    "def get_sub_ind(ind, levels):\n",
    "    todrop = [x for x in range(s.index.nlevels) if x not in levels]\n",
    "    ind = ind.droplevel(todrop)\n",
    "    indmap = dict(((k, i) for i, k in enumerate(ind.unique())))\n",
    "    ind = ind.to_series().map(indmap)\n",
    "    return ind, indmap\n",
    "indi, indimap = get_sub_ind(s.index, ilevels)\n",
    "indj, indjmap = get_sub_ind(s.index, jlevels)\n",
    "\n",
    "AA = scipy.sparse.csr_matrix((s.values, (indi.values, indj.values)), shape=(len(indimap), len(indjmap)), dtype=np.float32)\n",
    "AA = pd.DataFrame(AA.todense())"
   ]
  },
  {
   "cell_type": "code",
   "execution_count": 283,
   "metadata": {
    "collapsed": false
   },
   "outputs": [
    {
     "data": {
      "text/plain": [
       "5  7     0\n",
       "   7     0\n",
       "   7     0\n",
       "   7     0\n",
       "   7     0\n",
       "   7     0\n",
       "   7     0\n",
       "   7     0\n",
       "   7     0\n",
       "   7     0\n",
       "   7     0\n",
       "   7     0\n",
       "   7     0\n",
       "   7     0\n",
       "   7     0\n",
       "   7     0\n",
       "   7     0\n",
       "   7     0\n",
       "   7     0\n",
       "   7     0\n",
       "   7     0\n",
       "   7     0\n",
       "   7     0\n",
       "   7     0\n",
       "   7     0\n",
       "   7     0\n",
       "   7     0\n",
       "   7     0\n",
       "   7     0\n",
       "   7     0\n",
       "        ..\n",
       "8  1    99\n",
       "   1    99\n",
       "   1    99\n",
       "   1    99\n",
       "   1    99\n",
       "   1    99\n",
       "   1    99\n",
       "   1    99\n",
       "   1    99\n",
       "   1    99\n",
       "   1    99\n",
       "   1    99\n",
       "   1    99\n",
       "   1    99\n",
       "   1    99\n",
       "   1    99\n",
       "   1    99\n",
       "   1    99\n",
       "   1    99\n",
       "   1    99\n",
       "   1    99\n",
       "   1    99\n",
       "   1    99\n",
       "   1    99\n",
       "   1    99\n",
       "   1    99\n",
       "   1    99\n",
       "   1    99\n",
       "   1    99\n",
       "   1    99\n",
       "dtype: int64"
      ]
     },
     "execution_count": 283,
     "metadata": {},
     "output_type": "execute_result"
    }
   ],
   "source": [
    "indi"
   ]
  },
  {
   "cell_type": "code",
   "execution_count": 282,
   "metadata": {
    "collapsed": false
   },
   "outputs": [
    {
     "data": {
      "text/html": [
       "<div>\n",
       "<table border=\"1\" class=\"dataframe\">\n",
       "  <thead>\n",
       "    <tr style=\"text-align: right;\">\n",
       "      <th></th>\n",
       "      <th>0</th>\n",
       "      <th>1</th>\n",
       "      <th>2</th>\n",
       "      <th>3</th>\n",
       "      <th>4</th>\n",
       "    </tr>\n",
       "  </thead>\n",
       "  <tbody>\n",
       "    <tr>\n",
       "      <th>0</th>\n",
       "      <td>0</td>\n",
       "      <td>0</td>\n",
       "      <td>0</td>\n",
       "      <td>0.000000</td>\n",
       "      <td>0.000000</td>\n",
       "    </tr>\n",
       "    <tr>\n",
       "      <th>1</th>\n",
       "      <td>0</td>\n",
       "      <td>0</td>\n",
       "      <td>0</td>\n",
       "      <td>0.958557</td>\n",
       "      <td>0.301996</td>\n",
       "    </tr>\n",
       "    <tr>\n",
       "      <th>2</th>\n",
       "      <td>0</td>\n",
       "      <td>0</td>\n",
       "      <td>0</td>\n",
       "      <td>0.000000</td>\n",
       "      <td>0.000000</td>\n",
       "    </tr>\n",
       "    <tr>\n",
       "      <th>3</th>\n",
       "      <td>0</td>\n",
       "      <td>0</td>\n",
       "      <td>0</td>\n",
       "      <td>0.000000</td>\n",
       "      <td>0.000000</td>\n",
       "    </tr>\n",
       "    <tr>\n",
       "      <th>4</th>\n",
       "      <td>0</td>\n",
       "      <td>0</td>\n",
       "      <td>0</td>\n",
       "      <td>0.000000</td>\n",
       "      <td>0.000000</td>\n",
       "    </tr>\n",
       "  </tbody>\n",
       "</table>\n",
       "</div>"
      ],
      "text/plain": [
       "   0  1  2         3         4\n",
       "0  0  0  0  0.000000  0.000000\n",
       "1  0  0  0  0.958557  0.301996\n",
       "2  0  0  0  0.000000  0.000000\n",
       "3  0  0  0  0.000000  0.000000\n",
       "4  0  0  0  0.000000  0.000000"
      ]
     },
     "execution_count": 282,
     "metadata": {},
     "output_type": "execute_result"
    }
   ],
   "source": [
    "AA.head().T.head().T"
   ]
  },
  {
   "cell_type": "code",
   "execution_count": 273,
   "metadata": {
    "collapsed": false
   },
   "outputs": [
    {
     "name": "stdout",
     "output_type": "stream",
     "text": [
      "CPU times: user 7.61 ms, sys: 1.48 ms, total: 9.08 ms\n",
      "Wall time: 7.81 ms\n"
     ]
    }
   ],
   "source": [
    "%%time\n",
    "ss = s.unstack(jlevels)\n",
    "ss.head().T.head().T"
   ]
  },
  {
   "cell_type": "code",
   "execution_count": null,
   "metadata": {
    "collapsed": true
   },
   "outputs": [],
   "source": []
  },
  {
   "cell_type": "code",
   "execution_count": null,
   "metadata": {
    "collapsed": true
   },
   "outputs": [],
   "source": []
  },
  {
   "cell_type": "code",
   "execution_count": 162,
   "metadata": {
    "collapsed": false
   },
   "outputs": [
    {
     "data": {
      "text/plain": [
       "((160000,), 48028, 0.300175, ('a', 'b'), ('c', 'd'))"
      ]
     },
     "execution_count": 162,
     "metadata": {},
     "output_type": "execute_result"
    }
   ],
   "source": [
    "s, ilevels, jlevels = make_example(n_levels=4, n_per_level=20)\n",
    "s.shape, s.count(), float(s.count()) / s.shape[0], ilevels, jlevels"
   ]
  },
  {
   "cell_type": "code",
   "execution_count": 163,
   "metadata": {
    "collapsed": false
   },
   "outputs": [
    {
     "data": {
      "text/plain": [
       "((48028,), 48028, 1.0, ('a', 'b'), ('c', 'd'))"
      ]
     },
     "execution_count": 163,
     "metadata": {},
     "output_type": "execute_result"
    }
   ],
   "source": [
    "s = s.dropna()\n",
    "s.shape, s.count(), float(s.count()) / s.shape[0], ilevels, jlevels"
   ]
  },
  {
   "cell_type": "code",
   "execution_count": 164,
   "metadata": {
    "collapsed": false
   },
   "outputs": [
    {
     "data": {
      "text/plain": [
       "a    b    c    d  \n",
       "SOB  ZZF  BG0  2GU    0.250431\n",
       "               LT7    0.103961\n",
       "               1YS    0.106960\n",
       "               E9W    0.246636\n",
       "               MQI    0.009110\n",
       "Name: value, dtype: float64"
      ]
     },
     "execution_count": 164,
     "metadata": {},
     "output_type": "execute_result"
    }
   ],
   "source": [
    "s.head()"
   ]
  },
  {
   "cell_type": "code",
   "execution_count": 165,
   "metadata": {
    "collapsed": false
   },
   "outputs": [
    {
     "name": "stdout",
     "output_type": "stream",
     "text": [
      "CPU times: user 132 ms, sys: 3.61 ms, total: 136 ms\n",
      "Wall time: 137 ms\n"
     ]
    }
   ],
   "source": [
    "%%time\n",
    "def get_sub_ind(ind, levels):\n",
    "    ind = list(zip(*[s.index.labels[s.index._get_level_number(k)] for k in ilevels]))\n",
    "    indmap = dict(((k, i) for i, k in enumerate(set(ind))))\n",
    "    ind = {k: indmap[k] for k in ind}\n",
    "    return ind, indmap\n",
    "\n",
    "indi, indimap = get_sub_ind(s.index, ilevels)\n",
    "indj, indjmap = get_sub_ind(s.index, jlevels)"
   ]
  },
  {
   "cell_type": "code",
   "execution_count": 166,
   "metadata": {
    "collapsed": false
   },
   "outputs": [
    {
     "name": "stdout",
     "output_type": "stream",
     "text": [
      "CPU times: user 122 ms, sys: 5.02 ms, total: 127 ms\n",
      "Wall time: 127 ms\n"
     ]
    }
   ],
   "source": [
    "%%time\n",
    "# requires named levels\n",
    "def get_sub_ind(ind, levels):\n",
    "    todrop = [x for x in s.index.names if x not in levels]\n",
    "    ind = ind.droplevel(todrop)\n",
    "    indmap = dict(((k, i) for i, k in enumerate(ind.unique())))\n",
    "    ind = ind.to_series().map(indmap)\n",
    "    return ind, indmap\n",
    "indi, indimap = get_sub_ind(s.index, ilevels)\n",
    "indj, indjmap = get_sub_ind(s.index, jlevels)"
   ]
  },
  {
   "cell_type": "code",
   "execution_count": 167,
   "metadata": {
    "collapsed": false
   },
   "outputs": [
    {
     "data": {
      "text/plain": [
       "(400, 400)"
      ]
     },
     "execution_count": 167,
     "metadata": {},
     "output_type": "execute_result"
    }
   ],
   "source": [
    "i = indi.values\n",
    "j = indj.values\n",
    "v = s.values\n",
    "m = len(indimap)\n",
    "n = len(indjmap)\n",
    "\n",
    "A = scipy.sparse.csr_matrix((v, (i, j)), shape=(m, n), dtype=np.float32)\n",
    "A.shape"
   ]
  },
  {
   "cell_type": "code",
   "execution_count": 168,
   "metadata": {
    "collapsed": false
   },
   "outputs": [
    {
     "data": {
      "text/plain": [
       "<matplotlib.lines.Line2D at 0x12005a550>"
      ]
     },
     "execution_count": 168,
     "metadata": {},
     "output_type": "execute_result"
    },
    {
     "data": {
      "image/png": "[encoded data removed]",
      "text/plain": [
       "<matplotlib.figure.Figure at 0x11bbf1978>"
      ]
     },
     "metadata": {},
     "output_type": "display_data"
    }
   ],
   "source": [
    "%matplotlib inline\n",
    "spy(A)"
   ]
  },
  {
   "cell_type": "code",
   "execution_count": 170,
   "metadata": {
    "collapsed": false
   },
   "outputs": [
    {
     "data": {
      "text/plain": [
       "matrix([[ 0.25043052,  0.10396126,  0.10696033, ...,  0.        ,\n",
       "          0.        ,  0.        ],\n",
       "        [ 0.23306146,  0.15083176,  0.01067965, ...,  0.        ,\n",
       "          0.        ,  0.        ],\n",
       "        [ 0.        ,  0.10937067,  0.11709633, ...,  0.        ,\n",
       "          0.        ,  0.        ],\n",
       "        ..., \n",
       "        [ 0.        ,  0.04343203,  0.        , ...,  0.15822434,\n",
       "          0.        ,  0.        ],\n",
       "        [ 0.        ,  0.        ,  0.22234783, ...,  0.18271866,\n",
       "          0.22640456,  0.        ],\n",
       "        [ 0.05036829,  0.        ,  0.        , ...,  0.        ,\n",
       "          0.28968608,  0.        ]], dtype=float32)"
      ]
     },
     "execution_count": 170,
     "metadata": {},
     "output_type": "execute_result"
    }
   ],
   "source": [
    "A.todense()"
   ]
  },
  {
   "cell_type": "code",
   "execution_count": null,
   "metadata": {
    "collapsed": true
   },
   "outputs": [],
   "source": []
  }
 ],
 "metadata": {
  "kernelspec": {
   "display_name": "Python 3",
   "language": "python",
   "name": "python3"
  },
  "language_info": {
   "codemirror_mode": {
    "name": "ipython",
    "version": 3
   },
   "file_extension": ".py",
   "mimetype": "text/x-python",
   "name": "python",
   "nbconvert_exporter": "python",
   "pygments_lexer": "ipython3",
   "version": "3.5.1"
  }
 },
 "nbformat": 4,
 "nbformat_minor": 0
}
