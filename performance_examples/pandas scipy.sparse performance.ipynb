{
 "metadata": {
  "name": "",
  "signature": "sha256:cebc4529dfb742a3f9e76909cdf329ba9503990cc38e45f65d066fe3b75886c3"
 },
 "nbformat": 3,
 "nbformat_minor": 0,
 "worksheets": [
  {
   "cells": [
    {
     "cell_type": "markdown",
     "metadata": {},
     "source": [
      "# Performance scaling\n",
      "\n",
      "The groupby and non-groupby methods seem to scale similarly with number of groups and number of levels.\n",
      "\n",
      "Testing from branch https://github.com/cottrell/pandas/tree/to_coo_dev"
     ]
    },
    {
     "cell_type": "code",
     "collapsed": false,
     "input": [
      "import scipy.sparse\n",
      "import pandas\n",
      "import itertools\n",
      "import string\n",
      "import random\n",
      "import numpy\n",
      "import collections\n",
      "import time\n",
      "\n",
      "def expand_grid(data_dict):\n",
      "    rows = itertools.product(*data_dict.values())\n",
      "    return pandas.DataFrame.from_records(rows, columns=data_dict.keys())\n",
      "\n",
      "chars=list(string.ascii_uppercase + string.digits)\n",
      "def randstring(size=3, chars=chars):\n",
      "    return ''.join(random.choice(chars) for _ in range(size))\n",
      "\n",
      "n_levels = 4\n",
      "# unique values per level\n",
      "n_per_level = 20\n",
      "\n",
      "def make_example(n_levels=4, n_per_level=20):\n",
      "    # just to avoid blowing up memory\n",
      "    assert((n_per_level ** n_levels) < 1e7)\n",
      "\n",
      "    d = collections.OrderedDict()\n",
      "    # for k in string.ascii_lowercase[:n_levels]:\n",
      "    for k in range(n_levels):\n",
      "        d[k] = set()\n",
      "        while len(d[k]) < n_per_level:\n",
      "            x = randstring()\n",
      "            if x not in d[k]:\n",
      "                d[k].add(x)\n",
      "        d[k] = list(d[k])\n",
      "\n",
      "    df = expand_grid(d)\n",
      "    sparsity = 100.0 / df.shape[0]\n",
      "    df['value'] = scipy.sparse.rand(df.shape[0], 1, sparsity).todense()\n",
      "    s = df.set_index(list(df.columns[:-1]))['value']\n",
      "    s[s==0] = numpy.nan\n",
      "\n",
      "    ss = s.to_sparse()\n",
      "\n",
      "    names = list(ss.index.names)\n",
      "    k = int(n_levels / 2) + 1\n",
      "    row_levels = tuple(names[:k])\n",
      "    column_levels = tuple(names[k:])\n",
      "    return(df, ss, row_levels, column_levels)"
     ],
     "language": "python",
     "metadata": {},
     "outputs": [],
     "prompt_number": 7
    },
    {
     "cell_type": "code",
     "collapsed": false,
     "input": [
      "df, ss, row_levels, column_levels = make_example(n_levels=5, n_per_level=11)\n",
      "print(df.shape, ss.density, ss.shape, row_levels, column_levels)\n",
      "df.head()"
     ],
     "language": "python",
     "metadata": {},
     "outputs": [
      {
       "output_type": "stream",
       "stream": "stdout",
       "text": [
        "(161051, 6) 0.0006209213230591551 (100,) (0, 1, 2) (3, 4)\n"
       ]
      },
      {
       "html": [
        "<div style=\"max-height:1000px;max-width:1500px;overflow:auto;\">\n",
        "<table border=\"1\" class=\"dataframe\">\n",
        "  <thead>\n",
        "    <tr style=\"text-align: right;\">\n",
        "      <th></th>\n",
        "      <th>0</th>\n",
        "      <th>1</th>\n",
        "      <th>2</th>\n",
        "      <th>3</th>\n",
        "      <th>4</th>\n",
        "      <th>value</th>\n",
        "    </tr>\n",
        "  </thead>\n",
        "  <tbody>\n",
        "    <tr>\n",
        "      <th>0</th>\n",
        "      <td> BRC</td>\n",
        "      <td> 9FB</td>\n",
        "      <td> 81D</td>\n",
        "      <td> BWG</td>\n",
        "      <td> ZLI</td>\n",
        "      <td> 0</td>\n",
        "    </tr>\n",
        "    <tr>\n",
        "      <th>1</th>\n",
        "      <td> BRC</td>\n",
        "      <td> 9FB</td>\n",
        "      <td> 81D</td>\n",
        "      <td> BWG</td>\n",
        "      <td> A7F</td>\n",
        "      <td> 0</td>\n",
        "    </tr>\n",
        "    <tr>\n",
        "      <th>2</th>\n",
        "      <td> BRC</td>\n",
        "      <td> 9FB</td>\n",
        "      <td> 81D</td>\n",
        "      <td> BWG</td>\n",
        "      <td> P18</td>\n",
        "      <td> 0</td>\n",
        "    </tr>\n",
        "    <tr>\n",
        "      <th>3</th>\n",
        "      <td> BRC</td>\n",
        "      <td> 9FB</td>\n",
        "      <td> 81D</td>\n",
        "      <td> BWG</td>\n",
        "      <td> H54</td>\n",
        "      <td> 0</td>\n",
        "    </tr>\n",
        "    <tr>\n",
        "      <th>4</th>\n",
        "      <td> BRC</td>\n",
        "      <td> 9FB</td>\n",
        "      <td> 81D</td>\n",
        "      <td> BWG</td>\n",
        "      <td> M61</td>\n",
        "      <td> 0</td>\n",
        "    </tr>\n",
        "  </tbody>\n",
        "</table>\n",
        "</div>"
       ],
       "metadata": {},
       "output_type": "pyout",
       "prompt_number": 74,
       "text": [
        "     0    1    2    3    4  value\n",
        "0  BRC  9FB  81D  BWG  ZLI      0\n",
        "1  BRC  9FB  81D  BWG  A7F      0\n",
        "2  BRC  9FB  81D  BWG  P18      0\n",
        "3  BRC  9FB  81D  BWG  H54      0\n",
        "4  BRC  9FB  81D  BWG  M61      0"
       ]
      }
     ],
     "prompt_number": 74
    },
    {
     "cell_type": "code",
     "collapsed": false,
     "input": [
      "def f(n_per_level, n_levels=5, new_method=False):\n",
      "    df, ss, row_levels, column_levels = make_example(n_levels=n_levels, n_per_level=n_per_level)\n",
      "    t = time.time()\n",
      "    A, il, jl = ss.to_coo(row_levels=row_levels, column_levels=column_levels, new_method=new_method)\n",
      "    return(time.time() - t)"
     ],
     "language": "python",
     "metadata": {},
     "outputs": [],
     "prompt_number": 47
    },
    {
     "cell_type": "code",
     "collapsed": false,
     "input": [
      "%%time\n",
      "d = dict()\n",
      "for n_per_level in arange(4, 15):\n",
      "    print(n_per_level)\n",
      "    for new_method in [True, False]:\n",
      "        d[(n_per_level, new_method)] = f(n_per_level, new_method=new_method)\n",
      "d = pandas.Series(d)\n",
      "d.index.names = ['n_per_level', 'using groupby']\n",
      "d = d.unstack('using groupby')"
     ],
     "language": "python",
     "metadata": {},
     "outputs": [
      {
       "output_type": "stream",
       "stream": "stdout",
       "text": [
        "4\n",
        "5"
       ]
      },
      {
       "output_type": "stream",
       "stream": "stdout",
       "text": [
        "\n",
        "6"
       ]
      },
      {
       "output_type": "stream",
       "stream": "stdout",
       "text": [
        "\n",
        "7"
       ]
      },
      {
       "output_type": "stream",
       "stream": "stdout",
       "text": [
        "\n",
        "8"
       ]
      },
      {
       "output_type": "stream",
       "stream": "stdout",
       "text": [
        "\n",
        "9"
       ]
      },
      {
       "output_type": "stream",
       "stream": "stdout",
       "text": [
        "\n",
        "10"
       ]
      },
      {
       "output_type": "stream",
       "stream": "stdout",
       "text": [
        "\n",
        "11"
       ]
      },
      {
       "output_type": "stream",
       "stream": "stdout",
       "text": [
        "\n",
        "12"
       ]
      },
      {
       "output_type": "stream",
       "stream": "stdout",
       "text": [
        "\n",
        "13"
       ]
      },
      {
       "output_type": "stream",
       "stream": "stdout",
       "text": [
        "\n",
        "14"
       ]
      },
      {
       "output_type": "stream",
       "stream": "stdout",
       "text": [
        "\n",
        "CPU times: user 27.9 s, sys: 1.25 s, total: 29.2 s"
       ]
      },
      {
       "output_type": "stream",
       "stream": "stdout",
       "text": [
        "\n",
        "Wall time: 29.5 s\n"
       ]
      }
     ],
     "prompt_number": 65
    },
    {
     "cell_type": "code",
     "collapsed": false,
     "input": [
      "import matplotlib.pyplot as plt\n",
      "\n",
      "plt.figure(figsize=(8, 6))\n",
      "ax = plt.subplot(111)\n",
      "p = d.plot(style='.-', ax=ax, logx=True, logy=True)\n",
      "ylabel('time')"
     ],
     "language": "python",
     "metadata": {},
     "outputs": [
      {
       "metadata": {},
       "output_type": "display_data",
       "png": "[encoded data removed]",
       "text": [
        "<matplotlib.figure.Figure at 0x10aac84a8>"
       ]
      }
     ],
     "prompt_number": 66
    },
    {
     "cell_type": "code",
     "collapsed": false,
     "input": [
      "%%time\n",
      "d = dict()\n",
      "n_per_level = 5\n",
      "for n_levels in arange(3, 9):\n",
      "    print(time.time(), n_levels)\n",
      "    for new_method in [True, False]:\n",
      "        d[(n_levels, new_method)] = f(n_per_level, n_levels=n_levels, new_method=new_method)\n",
      "d = pandas.Series(d)\n",
      "d.index.names = ['n_levels', 'using groupby']\n",
      "d = d.unstack('using groupby')"
     ],
     "language": "python",
     "metadata": {},
     "outputs": [
      {
       "output_type": "stream",
       "stream": "stdout",
       "text": [
        "1424457278.167683 3\n",
        "1424457278.22937"
       ]
      },
      {
       "output_type": "stream",
       "stream": "stdout",
       "text": [
        " 4\n",
        "1424457278.33418"
       ]
      },
      {
       "output_type": "stream",
       "stream": "stdout",
       "text": [
        " 5\n",
        "1424457278.475036"
       ]
      },
      {
       "output_type": "stream",
       "stream": "stdout",
       "text": [
        " 6\n",
        "1424457279.031624"
       ]
      },
      {
       "output_type": "stream",
       "stream": "stdout",
       "text": [
        " 7\n",
        "1424457280.34353"
       ]
      },
      {
       "output_type": "stream",
       "stream": "stdout",
       "text": [
        " 8\n",
        "CPU times: user 11.5 s, sys: 544 ms, total: 12 s"
       ]
      },
      {
       "output_type": "stream",
       "stream": "stdout",
       "text": [
        "\n",
        "Wall time: 12.1 s\n"
       ]
      }
     ],
     "prompt_number": 69
    },
    {
     "cell_type": "code",
     "collapsed": false,
     "input": [
      "import matplotlib.pyplot as plt\n",
      "\n",
      "plt.figure(figsize=(8, 6))\n",
      "ax = plt.subplot(111)\n",
      "p = d.plot(style='.-', ax=ax, logx=True, logy=True)\n",
      "ylabel('time')"
     ],
     "language": "python",
     "metadata": {},
     "outputs": [
      {
       "metadata": {},
       "output_type": "display_data",
       "png": "[encoded data removed]",
       "text": [
        "<matplotlib.figure.Figure at 0x108f2fe80>"
       ]
      }
     ],
     "prompt_number": 71
    },
    {
     "cell_type": "code",
     "collapsed": false,
     "input": [],
     "language": "python",
     "metadata": {},
     "outputs": []
    }
   ],
   "metadata": {}
  }
 ]
}