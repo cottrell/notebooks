{
 "metadata": {
  "name": "",
  "signature": "sha256:e374a5d3a1194b43daff5a6afd81e2fb25d6b2e2becb734b71d1e0445de26fa6"
 },
 "nbformat": 3,
 "nbformat_minor": 0,
 "worksheets": [
  {
   "cells": [
    {
     "cell_type": "markdown",
     "metadata": {},
     "source": [
      "# Timing examples for scipy.sparse.to_coo\n",
      "\n",
      "Performance is ok for moderate series. Improvements might be related to performance enhancements in MultiIndex groupby."
     ]
    },
    {
     "cell_type": "code",
     "collapsed": false,
     "input": [
      "import scipy.sparse\n",
      "import pandas\n",
      "import itertools\n",
      "import string\n",
      "import random\n",
      "import timeit\n",
      "import numpy\n",
      "import collections\n",
      "pandas.__version__"
     ],
     "language": "python",
     "metadata": {},
     "outputs": [
      {
       "metadata": {},
       "output_type": "pyout",
       "prompt_number": 3,
       "text": [
        "'0.15.2-47-gb047a6b'"
       ]
      }
     ],
     "prompt_number": 3
    },
    {
     "cell_type": "code",
     "collapsed": false,
     "input": [
      "def expand_grid(data_dict):\n",
      "    rows = itertools.product(*data_dict.values())\n",
      "    return pandas.DataFrame.from_records(rows, columns=data_dict.keys())\n",
      "\n",
      "chars=list(string.ascii_uppercase + string.digits)\n",
      "def randstring(size=3, chars=chars):\n",
      "    return ''.join(random.choice(chars) for _ in range(size))\n",
      "\n",
      "n_levels = 4\n",
      "# unique values per level\n",
      "n_per_level = 20\n",
      "\n",
      "def make_example(n_levels=4, n_per_level=20):\n",
      "    # just to avoid blowing up memory\n",
      "    assert((n_per_level ** n_levels) < 1e7)\n",
      "\n",
      "    d = collections.OrderedDict()\n",
      "    for k in string.ascii_lowercase[:n_levels]:\n",
      "        d[k] = set()\n",
      "        while len(d[k]) < n_per_level:\n",
      "            x = randstring()\n",
      "            if x not in d[k]:\n",
      "                d[k].add(x)\n",
      "        d[k] = list(d[k])\n",
      "        \n",
      "    df = expand_grid(d)\n",
      "    sparsity = 100.0 / df.shape[0]\n",
      "    df['value'] = scipy.sparse.rand(df.shape[0], 1, sparsity).todense()\n",
      "    s = df.set_index(list(df.columns[:-1]))['value']\n",
      "    s[s==0] = numpy.nan\n",
      "\n",
      "    ss = s.to_sparse()\n",
      "\n",
      "    names = list(ss.index.names)\n",
      "    k = int(n_levels / 2)\n",
      "    ilevels = tuple(names[:k])\n",
      "    jlevels = tuple(names[k:])\n",
      "    return(df, ss, ilevels, jlevels)"
     ],
     "language": "python",
     "metadata": {},
     "outputs": [],
     "prompt_number": 72
    },
    {
     "cell_type": "markdown",
     "metadata": {},
     "source": [
      "# example 0"
     ]
    },
    {
     "cell_type": "code",
     "collapsed": false,
     "input": [
      "%%time\n",
      "df, ss, ilevels, jlevels = make_example(n_levels=4, n_per_level=20)\n",
      "chars=list(string.ascii_uppercase + string.digits)\n",
      "print(df.shape, ss.density, ss.shape, ilevels, jlevels)\n",
      "ss.to_dense().head()"
     ],
     "language": "python",
     "metadata": {},
     "outputs": [
      {
       "output_type": "stream",
       "stream": "stdout",
       "text": [
        "(160000, 5) 0.000625 (100,) ('a', 'b') ('c', 'd')\n",
        "CPU times: user 152 ms, sys: 33.7 ms, total: 186 ms\n",
        "Wall time: 186 ms\n"
       ]
      }
     ],
     "prompt_number": 85
    },
    {
     "cell_type": "code",
     "collapsed": false,
     "input": [
      "%%time \n",
      "A, il, jl = ss.to_coo(ilevels=ilevels, jlevels=jlevels)"
     ],
     "language": "python",
     "metadata": {},
     "outputs": [
      {
       "output_type": "stream",
       "stream": "stdout",
       "text": [
        "CPU times: user 212 ms, sys: 22 ms, total: 234 ms\n",
        "Wall time: 234 ms\n"
       ]
      }
     ],
     "prompt_number": 86
    },
    {
     "cell_type": "code",
     "collapsed": false,
     "input": [
      "%pylab inline\n",
      "print(A.shape)\n",
      "p = spy(A)"
     ],
     "language": "python",
     "metadata": {},
     "outputs": [
      {
       "output_type": "stream",
       "stream": "stdout",
       "text": [
        "Populating the interactive namespace from numpy and matplotlib\n",
        "(400, 400)\n"
       ]
      },
      {
       "metadata": {},
       "output_type": "display_data",
       "png": "[encoded data removed]",
       "text": [
        "<matplotlib.figure.Figure at 0x109723470>"
       ]
      }
     ],
     "prompt_number": 87
    },
    {
     "cell_type": "markdown",
     "metadata": {},
     "source": [
      "## example 1"
     ]
    },
    {
     "cell_type": "code",
     "collapsed": false,
     "input": [
      "%%time\n",
      "df, ss, ilevels, jlevels = make_example(n_levels=5, n_per_level=20)\n",
      "chars=list(string.ascii_uppercase + string.digits)\n",
      "print(df.shape, ss.density, ss.shape, ilevels, jlevels)\n",
      "ss.to_dense().head()"
     ],
     "language": "python",
     "metadata": {},
     "outputs": [
      {
       "output_type": "stream",
       "stream": "stdout",
       "text": [
        "(3200000, 6) 3.125e-05 (100,) ('a', 'b') ('c', 'd', 'e')\n",
        "CPU times: user 2.81 s, sys: 546 ms, total: 3.36 s\n",
        "Wall time: 3.36 s\n"
       ]
      }
     ],
     "prompt_number": 88
    },
    {
     "cell_type": "code",
     "collapsed": false,
     "input": [
      "%%time \n",
      "A, il, jl = ss.to_coo(ilevels=ilevels, jlevels=jlevels)"
     ],
     "language": "python",
     "metadata": {},
     "outputs": [
      {
       "output_type": "stream",
       "stream": "stdout",
       "text": [
        "CPU times: user 6.26 s, sys: 626 ms, total: 6.88 s\n",
        "Wall time: 6.94 s\n"
       ]
      }
     ],
     "prompt_number": 89
    },
    {
     "cell_type": "code",
     "collapsed": false,
     "input": [
      "%pylab inline\n",
      "print(A.shape)\n",
      "p = spy(A)"
     ],
     "language": "python",
     "metadata": {},
     "outputs": [
      {
       "output_type": "stream",
       "stream": "stdout",
       "text": [
        "Populating the interactive namespace from numpy and matplotlib\n",
        "(400, 8000)\n"
       ]
      },
      {
       "metadata": {},
       "output_type": "display_data",
       "png": "[encoded data removed]",
       "text": [
        "<matplotlib.figure.Figure at 0x1106dc358>"
       ]
      }
     ],
     "prompt_number": 90
    },
    {
     "cell_type": "markdown",
     "metadata": {},
     "source": [
      "## example 2"
     ]
    },
    {
     "cell_type": "code",
     "collapsed": false,
     "input": [
      "df, ss, ilevels, jlevels = make_example(n_levels=2, n_per_level=1780)\n",
      "chars=list(string.ascii_uppercase + string.digits)\n",
      "print(df.shape, ss.density, ss.shape, ilevels, jlevels)\n",
      "ss.to_dense().head()"
     ],
     "language": "python",
     "metadata": {},
     "outputs": [
      {
       "output_type": "stream",
       "stream": "stdout",
       "text": [
        "(3168400, 3) 3.156167150612296e-05 (100,) ('a',) ('b',)\n"
       ]
      },
      {
       "metadata": {},
       "output_type": "pyout",
       "prompt_number": 91,
       "text": [
        "a    b  \n",
        "9FA  UAA   NaN\n",
        "     1CS   NaN\n",
        "     0NV   NaN\n",
        "     U68   NaN\n",
        "     P21   NaN\n",
        "Name: value, dtype: float64"
       ]
      }
     ],
     "prompt_number": 91
    },
    {
     "cell_type": "code",
     "collapsed": false,
     "input": [
      "%%time \n",
      "A, il, jl = ss.to_coo(ilevels=ilevels, jlevels=jlevels)"
     ],
     "language": "python",
     "metadata": {},
     "outputs": [
      {
       "output_type": "stream",
       "stream": "stdout",
       "text": [
        "CPU times: user 4.32 s, sys: 359 ms, total: 4.68 s\n",
        "Wall time: 4.75 s\n"
       ]
      }
     ],
     "prompt_number": 92
    },
    {
     "cell_type": "code",
     "collapsed": false,
     "input": [
      "%pylab inline\n",
      "print(A.shape)\n",
      "figure(figsize=(12, 8))\n",
      "p = spy(A)"
     ],
     "language": "python",
     "metadata": {},
     "outputs": [
      {
       "output_type": "stream",
       "stream": "stdout",
       "text": [
        "Populating the interactive namespace from numpy and matplotlib\n",
        "(1780, 1780)\n"
       ]
      },
      {
       "metadata": {},
       "output_type": "display_data",
       "png": "[encoded data removed]",
       "text": [
        "<matplotlib.figure.Figure at 0x10b302ef0>"
       ]
      }
     ],
     "prompt_number": 93
    },
    {
     "cell_type": "code",
     "collapsed": false,
     "input": [],
     "language": "python",
     "metadata": {},
     "outputs": [],
     "prompt_number": 81
    }
   ],
   "metadata": {}
  }
 ]
}