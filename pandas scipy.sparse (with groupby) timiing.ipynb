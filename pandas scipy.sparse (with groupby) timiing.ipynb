{
 "metadata": {
  "name": "",
  "signature": "sha256:cb2c0f083cb1b0196676a47c44aaca8f6d2c52699138bfdb8d6c8106a9447144"
 },
 "nbformat": 3,
 "nbformat_minor": 0,
 "worksheets": [
  {
   "cells": [
    {
     "cell_type": "markdown",
     "metadata": {},
     "source": [
      "# Timing examples for scipy.sparse.to_coo\n",
      "\n",
      "Performance is ok for moderate series. Improvements might be related to performance enhancements in MultiIndex groupby."
     ]
    },
    {
     "cell_type": "code",
     "collapsed": false,
     "input": [
      "import scipy.sparse\n",
      "import pandas\n",
      "import itertools\n",
      "import string\n",
      "import random\n",
      "import timeit\n",
      "import numpy\n",
      "import collections\n",
      "pandas.__version__\n",
      "import pstats"
     ],
     "language": "python",
     "metadata": {},
     "outputs": [],
     "prompt_number": 66
    },
    {
     "cell_type": "code",
     "collapsed": false,
     "input": [
      "def expand_grid(data_dict):\n",
      "    rows = itertools.product(*data_dict.values())\n",
      "    return pandas.DataFrame.from_records(rows, columns=data_dict.keys())\n",
      "\n",
      "chars=list(string.ascii_uppercase + string.digits)\n",
      "def randstring(size=3, chars=chars):\n",
      "    return ''.join(random.choice(chars) for _ in range(size))\n",
      "\n",
      "n_levels = 4\n",
      "# unique values per level\n",
      "n_per_level = 20\n",
      "\n",
      "def make_example(n_levels=4, n_per_level=20):\n",
      "    # just to avoid blowing up memory\n",
      "    assert((n_per_level ** n_levels) < 1e7)\n",
      "\n",
      "    d = collections.OrderedDict()\n",
      "    for k in string.ascii_lowercase[:n_levels]:\n",
      "        d[k] = set()\n",
      "        while len(d[k]) < n_per_level:\n",
      "            x = randstring()\n",
      "            if x not in d[k]:\n",
      "                d[k].add(x)\n",
      "        d[k] = list(d[k])\n",
      "        \n",
      "    df = expand_grid(d)\n",
      "    sparsity = 100.0 / df.shape[0]\n",
      "    df['value'] = scipy.sparse.rand(df.shape[0], 1, sparsity).todense()\n",
      "    s = df.set_index(list(df.columns[:-1]))['value']\n",
      "    s[s==0] = numpy.nan\n",
      "\n",
      "    ss = s.to_sparse()\n",
      "\n",
      "    names = list(ss.index.names)\n",
      "    k = int(n_levels / 2)\n",
      "    row_levels = tuple(names[:k])\n",
      "    column_levels = tuple(names[k:])\n",
      "    return(df, ss, row_levels, column_levels)"
     ],
     "language": "python",
     "metadata": {},
     "outputs": [],
     "prompt_number": 67
    },
    {
     "cell_type": "markdown",
     "metadata": {},
     "source": [
      "# example 0"
     ]
    },
    {
     "cell_type": "code",
     "collapsed": false,
     "input": [
      "%%time\n",
      "df, ss, row_levels, column_levels = make_example(n_levels=4, n_per_level=20)\n",
      "chars=list(string.ascii_uppercase + string.digits)\n",
      "print(df.shape, ss.density, ss.shape, row_levels, column_levels)\n",
      "ss.to_dense().head()"
     ],
     "language": "python",
     "metadata": {},
     "outputs": [
      {
       "output_type": "stream",
       "stream": "stdout",
       "text": [
        "(160000, 5) 0.000625 (100,) ('a', 'b') ('c', 'd')\n",
        "CPU times: user 135 ms, sys: 26.5 ms, total: 161 ms\n",
        "Wall time: 163 ms\n"
       ]
      }
     ],
     "prompt_number": 68
    },
    {
     "cell_type": "code",
     "collapsed": false,
     "input": [
      "%%time\n",
      "ss.groupby(level=row_levels).first()\n",
      "ss.groupby(level=column_levels).first()"
     ],
     "language": "python",
     "metadata": {},
     "outputs": [
      {
       "output_type": "stream",
       "stream": "stdout",
       "text": [
        "CPU times: user 1.52 s, sys: 28 ms, total: 1.55 s\n",
        "Wall time: 1.56 s\n"
       ]
      }
     ],
     "prompt_number": 69
    },
    {
     "cell_type": "code",
     "collapsed": false,
     "input": [
      "%%time\n",
      "A, il, jl = ss.to_coo(row_levels=row_levels, column_levels=column_levels)"
     ],
     "language": "python",
     "metadata": {},
     "outputs": [
      {
       "output_type": "stream",
       "stream": "stdout",
       "text": [
        " "
       ]
      }
     ],
     "prompt_number": 70
    },
    {
     "cell_type": "code",
     "collapsed": false,
     "input": [
      "%pylab inline\n",
      "print(A.shape)\n",
      "p = spy(A)"
     ],
     "language": "python",
     "metadata": {},
     "outputs": [
      {
       "output_type": "stream",
       "stream": "stdout",
       "text": [
        "Populating the interactive namespace from numpy and matplotlib\n",
        "(400, 400)\n"
       ]
      },
      {
       "output_type": "stream",
       "stream": "stderr",
       "text": [
        "WARNING: pylab import has clobbered these variables: ['random']\n",
        "`%matplotlib` prevents importing * from pylab and numpy\n"
       ]
      },
      {
       "metadata": {},
       "output_type": "display_data",
       "png": "[encoded data removed]",
       "text": [
        "<matplotlib.figure.Figure at 0x108ae5978>"
       ]
      }
     ],
     "prompt_number": 71
    },
    {
     "cell_type": "markdown",
     "metadata": {},
     "source": [
      "## example 1"
     ]
    },
    {
     "cell_type": "code",
     "collapsed": false,
     "input": [
      "%%time\n",
      "df, ss, row_levels, column_levels = make_example(n_levels=5, n_per_level=15)\n",
      "chars=list(string.ascii_uppercase + string.digits)\n",
      "print(df.shape, ss.density, ss.shape, row_levels, column_levels)\n",
      "ss.to_dense().head()"
     ],
     "language": "python",
     "metadata": {},
     "outputs": [
      {
       "output_type": "stream",
       "stream": "stdout",
       "text": [
        "(759375, 6) 0.00013168724279835392 (100,) ('a', 'b') ('c', 'd', 'e')\n",
        "CPU times: user 694 ms, sys: 142 ms, total: 837 ms\n",
        "Wall time: 842 ms\n"
       ]
      }
     ]
    },
    {
     "cell_type": "code",
     "collapsed": false,
     "input": [
      "%%time\n",
      "ss.groupby(level=row_levels).first()\n",
      "ss.groupby(level=column_levels).first()"
     ],
     "language": "python",
     "metadata": {},
     "outputs": []
    },
    {
     "cell_type": "code",
     "collapsed": false,
     "input": [
      "%%time\n",
      "A, il, jl = ss.to_coo(row_levels=row_levels, column_levels=column_levels)"
     ],
     "language": "python",
     "metadata": {},
     "outputs": []
    },
    {
     "cell_type": "code",
     "collapsed": false,
     "input": [
      "%pylab inline\n",
      "print(A.shape)\n",
      "p = spy(A)"
     ],
     "language": "python",
     "metadata": {},
     "outputs": []
    },
    {
     "cell_type": "markdown",
     "metadata": {},
     "source": [
      "## example 2"
     ]
    },
    {
     "cell_type": "code",
     "collapsed": false,
     "input": [
      "df, ss, row_levels, column_levels = make_example(n_levels=2, n_per_level=800)\n",
      "chars=list(string.ascii_uppercase + string.digits)\n",
      "print(df.shape, ss.density, ss.shape, row_levels, column_levels)\n",
      "ss.to_dense().head()"
     ],
     "language": "python",
     "metadata": {},
     "outputs": []
    },
    {
     "cell_type": "code",
     "collapsed": false,
     "input": [
      "%%time\n",
      "ss.groupby(level=row_levels).first()\n",
      "ss.groupby(level=column_levels).first()"
     ],
     "language": "python",
     "metadata": {},
     "outputs": []
    },
    {
     "cell_type": "code",
     "collapsed": false,
     "input": [
      "%%time \n",
      "A, il, jl = ss.to_coo(row_levels=row_levels, column_levels=column_levels)"
     ],
     "language": "python",
     "metadata": {},
     "outputs": []
    },
    {
     "cell_type": "code",
     "collapsed": false,
     "input": [
      "%pylab inline\n",
      "print(A.shape)\n",
      "figure(figsize=(12, 8))\n",
      "p = spy(A)"
     ],
     "language": "python",
     "metadata": {},
     "outputs": []
    },
    {
     "cell_type": "code",
     "collapsed": false,
     "input": [],
     "language": "python",
     "metadata": {},
     "outputs": []
    }
   ],
   "metadata": {}
  }
 ]
}